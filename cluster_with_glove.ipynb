{
 "cells": [
  {
   "cell_type": "markdown",
   "metadata": {},
   "source": [
    "<h1>Recipe classification and visualization</h1>\n",
    "<h4><i>Clustering and visualizing recipes by ingredients</i></h4>\n",
    "<h4><br></h4>\n",
    "<h2><Introduction></h2>\n",
    "<h4>About the data</h4>\n",
    "The Food.com Recipes and Interactions dataset contains 180k+ recipes and 700k+ reviews covering 18 years of user interactions and uploads on Food.com. The dataset is available on [Kaggle](https://www.kaggle.com/datasets/shuyangli94/food-com-recipes-and-user-interactions) and originates from the paper [\"Generating Personalized Recipes from Historical User Preferences\"](https://www.aclweb.org/anthology/D19-1613/) by Majumder, et al. In this project, we use the raw recipe data [1].\n",
    "<h4><br></h4>\n",
    "<h4>Encoding ingredients with GloVe</h4>\n",
    "A pre-trained GloVe network is used to generate embeddings for each recipe. The average GloVe embedding for all ingredients in a recipe is used to represent the recipe. GloVe is an unsupervised learning algorithm for obtaining vector representation for words. Training is performed on aggregated global word co-occurrence statistics and reflects linear substructures in word vector space. Two examples are shown below showcasing the relationship man and women and comparatives [2]. \n",
    "\n",
    "![img](comparative_superlative.jpg)\n",
    "![img](man_woman.jpg)\n",
    "\n",
    "GloVe constructs a matrix of context words with co-occurrence frequencies. This large matrix is factorized into a word-feature matrix, which contains the embedding, and a feature-context matrix. The training of the GloVe model is distinct from the Word2Vec model. The GloVe model uses global word to word co-occurrence counts while word2vec uses uses co-occurrences within a local context. However, the two encoding models capture similar relationships [3].\n",
    "\n",
    "<h4><br></h4>\n",
    "<h4>Clustering ingredients</h4>\n",
    "Recipes are clustered using the KMeans clustering algorithm, which groups data into clusters. The algorithm randomly assigns centroids, assigns data to each centroid based on distance, and iteratively moves the centroid to the center of the newly defined cluster until the centroids no longer move.\n",
    "\n",
    "<h4><br></h4>\n",
    "<h4>Visualizing clusters</h4>\n",
    "Clusters are visualized using several dimensionality reduction techniques, described below [4]:\n",
    "\n",
    "- <b>t-SNE</b>: t-distributed stochastic neighbor embedding (t-SNE) reduces dimensionality while keeping similar instances close. \n",
    "- <b>MDS</b>: Multidimensional scaling (MDS) reduces dimensionality while preserving the distance between instances. \n",
    "- <b>LLE</b>: Locally linear embedding (LLE) is a non-linear dimensionality reduction technique that finds a low-dimensional representation that best preserves local relationships.\n",
    "- <b>Isomap</b>: Isomap connects each instance to its nearest neighbors and preserves the number of nodes between instances.\n",
    "- <b>Wordcloud</b>: Ingredient and recipe names for each cluster are visualized in a word cloud. This enable us to discern non-mathematical thematic differences between clusters. \n",
    "\n",
    "<h4><br></h4>\n",
    "<h4>Cluster Descriptions</h4>\n",
    "\n",
    "The eight distinct clusters contain distinct recipes, apparent in the word clouds above. \n",
    "\n",
    "1. Cheesy dishes\n",
    "2. Baked goods\n",
    "3. Desserts\n",
    "4. Salads\n",
    "5. Chicken \n",
    "6. Tropical fruits\n",
    "7. Casseroles and pastas\n",
    "8. Crock pot meals\n",
    "\n",
    "New recipes could be automatically sorted into these categories by our clustering algorithm. "
   ]
  },
  {
   "cell_type": "markdown",
   "metadata": {},
   "source": [
    "<h2><br></h2>\n",
    "<h2>Cleaning and encoding recipe data</h2>\n",
    "<h3>Importing ingredients</h3>"
   ]
  },
  {
   "cell_type": "code",
   "execution_count": 1,
   "metadata": {
    "ExecuteTime": {
     "end_time": "2023-08-21T16:25:36.838486723Z",
     "start_time": "2023-08-21T16:25:36.538584341Z"
    }
   },
   "outputs": [],
   "source": [
    "import gensim.downloader as api\n",
    "\n",
    "import pandas as pd\n",
    "import re\n",
    "import pickle\n",
    "import numpy as np\n",
    "from time import time\n",
    "import matplotlib.pyplot as plt\n",
    "import seaborn as sns\n",
    "\n",
    "from sklearn.cluster import MiniBatchKMeans\n",
    "from sklearn.manifold import TSNE\n",
    "from sklearn.manifold import LocallyLinearEmbedding as LLE\n",
    "from sklearn.manifold import MDS\n",
    "from sklearn.manifold import Isomap\n",
    "from sklearn.metrics import silhouette_score\n",
    "\n",
    "from wordcloud import WordCloud"
   ]
  },
  {
   "cell_type": "code",
   "execution_count": 2,
   "metadata": {
    "ExecuteTime": {
     "end_time": "2023-08-21T16:25:36.838641633Z",
     "start_time": "2023-08-21T16:25:36.818455330Z"
    }
   },
   "outputs": [],
   "source": [
    "def import_data():\n",
    "    '''Import cleaned recipe, raw recipe and ratings data'''\n",
    "    #cleaned recipes\n",
    "    recipes = pd.read_csv('PP_recipes.csv')\n",
    "    del recipes['i']\n",
    "    del recipes['name_tokens']\n",
    "    del recipes['ingredient_tokens']\n",
    "    del recipes['steps_tokens']\n",
    "    recipes = recipes.set_index('id')\n",
    "\n",
    "    #ratings\n",
    "    ratings = pd.read_csv('RAW_interactions.csv')\n",
    "    del ratings['user_id']\n",
    "    del ratings['date']\n",
    "    del ratings['review']\n",
    "    ratings = ratings.set_index('recipe_id')\n",
    "\n",
    "    #raw recipe info\n",
    "    raw_recipes = pd.read_csv('RAW_recipes.csv')\n",
    "    del raw_recipes['contributor_id']\n",
    "    del raw_recipes['submitted']\n",
    "    del raw_recipes['tags']\n",
    "    del raw_recipes['steps']\n",
    "    del raw_recipes['description']\n",
    "    raw_recipes = raw_recipes.set_index('id')\n",
    "\n",
    "    return (recipes, raw_recipes, ratings)"
   ]
  },
  {
   "cell_type": "code",
   "execution_count": 3,
   "metadata": {
    "ExecuteTime": {
     "end_time": "2023-08-21T16:25:43.623871591Z",
     "start_time": "2023-08-21T16:25:36.820262622Z"
    }
   },
   "outputs": [],
   "source": [
    "_, raw_recipes_, _ = import_data()"
   ]
  },
  {
   "cell_type": "markdown",
   "metadata": {},
   "source": [
    "<h3><br></h3>\n",
    "<h3>Encoding one recipe</h3>"
   ]
  },
  {
   "cell_type": "code",
   "execution_count": 4,
   "metadata": {
    "ExecuteTime": {
     "end_time": "2023-08-21T16:25:52.000834889Z",
     "start_time": "2023-08-21T16:25:43.603561542Z"
    }
   },
   "outputs": [],
   "source": [
    "glove_model = api.load('glove-wiki-gigaword-50')"
   ]
  },
  {
   "cell_type": "code",
   "execution_count": 5,
   "metadata": {
    "ExecuteTime": {
     "end_time": "2023-08-21T16:25:52.001081601Z",
     "start_time": "2023-08-21T16:25:51.965694655Z"
    }
   },
   "outputs": [],
   "source": [
    "def clean_one_recipe(raw_ingredient_list):\n",
    "    '''Separate recipe list into individual words'''\n",
    "    ingredient_list = re.findall('\\w+', raw_ingredient_list)\n",
    "    return ingredient_list"
   ]
  },
  {
   "cell_type": "code",
   "execution_count": 6,
   "metadata": {
    "ExecuteTime": {
     "end_time": "2023-08-21T16:25:52.001147311Z",
     "start_time": "2023-08-21T16:25:51.968243786Z"
    }
   },
   "outputs": [],
   "source": [
    "def embed_one_recipe(ingredient_list):\n",
    "    '''Encode a single recipe'''\n",
    "    recipe_embedding = []\n",
    "    for ingredient in ingredient_list:\n",
    "        try:\n",
    "            recipe_embedding.append(glove_model[ingredient])\n",
    "        except:\n",
    "            recipe_embedding.append(np.zeros((50)))\n",
    "    recipe_embedding = pd.DataFrame(recipe_embedding).mean(axis=0)\n",
    "    return recipe_embedding"
   ]
  },
  {
   "cell_type": "code",
   "execution_count": 7,
   "metadata": {
    "ExecuteTime": {
     "end_time": "2023-08-21T16:25:52.028835461Z",
     "start_time": "2023-08-21T16:25:51.971082799Z"
    }
   },
   "outputs": [
    {
     "data": {
      "text/plain": "0   -0.322388\n1    0.215897\n2   -0.863623\n3    0.342868\n4    0.282728\ndtype: float32"
     },
     "execution_count": 7,
     "metadata": {},
     "output_type": "execute_result"
    }
   ],
   "source": [
    "list_in = raw_recipes_['ingredients'].iloc[0]\n",
    "ingredient_list = clean_one_recipe(list_in)\n",
    "recipe_embedding = embed_one_recipe(ingredient_list)\n",
    "recipe_embedding.head()"
   ]
  },
  {
   "cell_type": "markdown",
   "metadata": {},
   "source": [
    "<h3><br></h3>\n",
    "<h3>Encoding all recipes</h3>"
   ]
  },
  {
   "cell_type": "code",
   "execution_count": 8,
   "metadata": {
    "ExecuteTime": {
     "end_time": "2023-08-21T16:25:52.029005470Z",
     "start_time": "2023-08-21T16:25:51.984704006Z"
    }
   },
   "outputs": [],
   "source": [
    "test_range = None"
   ]
  },
  {
   "cell_type": "code",
   "execution_count": 9,
   "metadata": {
    "ExecuteTime": {
     "end_time": "2023-08-21T16:25:52.100909409Z",
     "start_time": "2023-08-21T16:25:52.030036984Z"
    }
   },
   "outputs": [
    {
     "data": {
      "text/plain": "(231637, 6)"
     },
     "execution_count": 9,
     "metadata": {},
     "output_type": "execute_result"
    }
   ],
   "source": [
    "raw_recipes_.shape"
   ]
  },
  {
   "cell_type": "code",
   "execution_count": 10,
   "metadata": {
    "ExecuteTime": {
     "end_time": "2023-08-21T16:25:52.101052726Z",
     "start_time": "2023-08-21T16:25:52.030153598Z"
    }
   },
   "outputs": [],
   "source": [
    "def timer_func(func):\n",
    "    '''Wrapper function to time functions'''\n",
    "    def wrap_func(*args, **kwargs):\n",
    "        t1 = time()\n",
    "        result = func(*args, **kwargs)\n",
    "        t2 = time()\n",
    "        print(f'Function {func.__name__!r} executed in {(t2-t1):.4f}s')\n",
    "        return result\n",
    "    return wrap_func"
   ]
  },
  {
   "cell_type": "code",
   "execution_count": 11,
   "metadata": {
    "ExecuteTime": {
     "end_time": "2023-08-21T16:25:52.101090891Z",
     "start_time": "2023-08-21T16:25:52.030208160Z"
    }
   },
   "outputs": [],
   "source": [
    "@timer_func\n",
    "def encode_recipes():\n",
    "    '''Encode all recipes'''\n",
    "    recipe_embeddings = []\n",
    "    for recipe in raw_recipes_['ingredients'][:test_range]:\n",
    "        ingredient_list = clean_one_recipe(recipe)\n",
    "        recipe_embeddings.append(embed_one_recipe(ingredient_list))\n",
    "    return pd.DataFrame(recipe_embeddings)"
   ]
  },
  {
   "cell_type": "code",
   "execution_count": 12,
   "metadata": {
    "ExecuteTime": {
     "end_time": "2023-08-21T16:28:21.654813754Z",
     "start_time": "2023-08-21T16:25:52.030254999Z"
    }
   },
   "outputs": [
    {
     "name": "stdout",
     "output_type": "stream",
     "text": [
      "Function 'encode_recipes' executed in 149.5836s\n"
     ]
    }
   ],
   "source": [
    "encoded_recipes = encode_recipes()"
   ]
  },
  {
   "cell_type": "code",
   "execution_count": 13,
   "metadata": {
    "ExecuteTime": {
     "end_time": "2023-08-21T16:28:21.655078459Z",
     "start_time": "2023-08-21T16:28:21.626155750Z"
    }
   },
   "outputs": [
    {
     "data": {
      "text/plain": "(231637, 50)"
     },
     "execution_count": 13,
     "metadata": {},
     "output_type": "execute_result"
    }
   ],
   "source": [
    "encoded_recipes.shape"
   ]
  },
  {
   "cell_type": "code",
   "execution_count": 14,
   "metadata": {
    "ExecuteTime": {
     "end_time": "2023-08-21T16:28:21.655559346Z",
     "start_time": "2023-08-21T16:28:21.626262682Z"
    }
   },
   "outputs": [
    {
     "data": {
      "text/plain": "         0         1         2         3         4         5         6   \\\n0 -0.322388  0.215897 -0.863623  0.342868  0.282728  0.033896 -0.299164   \n1  0.117049 -0.105789 -0.623373 -0.088335  0.422369  0.864983 -0.313520   \n2  0.031537 -0.195235 -0.472846  0.085179  0.377397  0.272177 -0.133702   \n3 -0.004873  0.243860 -0.687108  0.118598  0.544544  0.371865 -0.158334   \n4 -0.197585 -0.142786 -0.491921  0.429796  0.255868  0.168091 -0.099953   \n\n         7         8         9   ...        40        41        42        43  \\\n0  0.145410 -0.023604  0.146014  ...  0.273791  0.083687  0.201765 -0.458108   \n1  0.247731 -0.134833 -0.170577  ...  0.644464  0.024751 -0.037983 -0.130208   \n2 -0.080536 -0.099638 -0.011087  ...  0.545620 -0.013276 -0.004070 -0.300977   \n3 -0.048740 -0.333201 -0.064658  ...  0.780880  0.144425  0.014742 -0.467413   \n4  0.095028  0.164880  0.342105  ...  0.634047 -0.039552 -0.113946 -0.497591   \n\n         44        45        46        47        48        49  \n0  0.748384  0.772295  0.002920 -0.027175 -0.158647 -0.238712  \n1  0.796528  0.849185 -0.199121 -0.088433 -0.238068  0.095297  \n2  1.176739  0.976502  0.173980  0.092145  0.171500 -0.064618  \n3  0.855446  1.010961 -0.023708 -0.193350 -0.302259 -0.083789  \n4  0.772490  1.113699 -0.143467 -0.117670 -0.139136 -0.264278  \n\n[5 rows x 50 columns]",
      "text/html": "<div>\n<style scoped>\n    .dataframe tbody tr th:only-of-type {\n        vertical-align: middle;\n    }\n\n    .dataframe tbody tr th {\n        vertical-align: top;\n    }\n\n    .dataframe thead th {\n        text-align: right;\n    }\n</style>\n<table border=\"1\" class=\"dataframe\">\n  <thead>\n    <tr style=\"text-align: right;\">\n      <th></th>\n      <th>0</th>\n      <th>1</th>\n      <th>2</th>\n      <th>3</th>\n      <th>4</th>\n      <th>5</th>\n      <th>6</th>\n      <th>7</th>\n      <th>8</th>\n      <th>9</th>\n      <th>...</th>\n      <th>40</th>\n      <th>41</th>\n      <th>42</th>\n      <th>43</th>\n      <th>44</th>\n      <th>45</th>\n      <th>46</th>\n      <th>47</th>\n      <th>48</th>\n      <th>49</th>\n    </tr>\n  </thead>\n  <tbody>\n    <tr>\n      <th>0</th>\n      <td>-0.322388</td>\n      <td>0.215897</td>\n      <td>-0.863623</td>\n      <td>0.342868</td>\n      <td>0.282728</td>\n      <td>0.033896</td>\n      <td>-0.299164</td>\n      <td>0.145410</td>\n      <td>-0.023604</td>\n      <td>0.146014</td>\n      <td>...</td>\n      <td>0.273791</td>\n      <td>0.083687</td>\n      <td>0.201765</td>\n      <td>-0.458108</td>\n      <td>0.748384</td>\n      <td>0.772295</td>\n      <td>0.002920</td>\n      <td>-0.027175</td>\n      <td>-0.158647</td>\n      <td>-0.238712</td>\n    </tr>\n    <tr>\n      <th>1</th>\n      <td>0.117049</td>\n      <td>-0.105789</td>\n      <td>-0.623373</td>\n      <td>-0.088335</td>\n      <td>0.422369</td>\n      <td>0.864983</td>\n      <td>-0.313520</td>\n      <td>0.247731</td>\n      <td>-0.134833</td>\n      <td>-0.170577</td>\n      <td>...</td>\n      <td>0.644464</td>\n      <td>0.024751</td>\n      <td>-0.037983</td>\n      <td>-0.130208</td>\n      <td>0.796528</td>\n      <td>0.849185</td>\n      <td>-0.199121</td>\n      <td>-0.088433</td>\n      <td>-0.238068</td>\n      <td>0.095297</td>\n    </tr>\n    <tr>\n      <th>2</th>\n      <td>0.031537</td>\n      <td>-0.195235</td>\n      <td>-0.472846</td>\n      <td>0.085179</td>\n      <td>0.377397</td>\n      <td>0.272177</td>\n      <td>-0.133702</td>\n      <td>-0.080536</td>\n      <td>-0.099638</td>\n      <td>-0.011087</td>\n      <td>...</td>\n      <td>0.545620</td>\n      <td>-0.013276</td>\n      <td>-0.004070</td>\n      <td>-0.300977</td>\n      <td>1.176739</td>\n      <td>0.976502</td>\n      <td>0.173980</td>\n      <td>0.092145</td>\n      <td>0.171500</td>\n      <td>-0.064618</td>\n    </tr>\n    <tr>\n      <th>3</th>\n      <td>-0.004873</td>\n      <td>0.243860</td>\n      <td>-0.687108</td>\n      <td>0.118598</td>\n      <td>0.544544</td>\n      <td>0.371865</td>\n      <td>-0.158334</td>\n      <td>-0.048740</td>\n      <td>-0.333201</td>\n      <td>-0.064658</td>\n      <td>...</td>\n      <td>0.780880</td>\n      <td>0.144425</td>\n      <td>0.014742</td>\n      <td>-0.467413</td>\n      <td>0.855446</td>\n      <td>1.010961</td>\n      <td>-0.023708</td>\n      <td>-0.193350</td>\n      <td>-0.302259</td>\n      <td>-0.083789</td>\n    </tr>\n    <tr>\n      <th>4</th>\n      <td>-0.197585</td>\n      <td>-0.142786</td>\n      <td>-0.491921</td>\n      <td>0.429796</td>\n      <td>0.255868</td>\n      <td>0.168091</td>\n      <td>-0.099953</td>\n      <td>0.095028</td>\n      <td>0.164880</td>\n      <td>0.342105</td>\n      <td>...</td>\n      <td>0.634047</td>\n      <td>-0.039552</td>\n      <td>-0.113946</td>\n      <td>-0.497591</td>\n      <td>0.772490</td>\n      <td>1.113699</td>\n      <td>-0.143467</td>\n      <td>-0.117670</td>\n      <td>-0.139136</td>\n      <td>-0.264278</td>\n    </tr>\n  </tbody>\n</table>\n<p>5 rows × 50 columns</p>\n</div>"
     },
     "execution_count": 14,
     "metadata": {},
     "output_type": "execute_result"
    }
   ],
   "source": [
    "encoded_recipes.head()"
   ]
  },
  {
   "cell_type": "code",
   "execution_count": 15,
   "metadata": {
    "ExecuteTime": {
     "end_time": "2023-08-21T16:28:21.655623129Z",
     "start_time": "2023-08-21T16:28:21.626337743Z"
    }
   },
   "outputs": [],
   "source": [
    "encoded_recipes = encoded_recipes[:test_range]"
   ]
  },
  {
   "cell_type": "markdown",
   "metadata": {},
   "source": [
    "<h2><br></h2>\n",
    "<h2>Clustering recipes</h2>\n",
    "<h3> Selecting cluster number</h3>"
   ]
  },
  {
   "cell_type": "code",
   "execution_count": 16,
   "metadata": {
    "ExecuteTime": {
     "end_time": "2023-08-21T16:28:21.655656663Z",
     "start_time": "2023-08-21T16:28:21.626360605Z"
    }
   },
   "outputs": [],
   "source": [
    "@timer_func\n",
    "def batch_cluster(X_pca,cluster_start=2, cluster_stop=50, cluster_skip=10):    \n",
    "    '''Clusters data using mini-batch Kmeans'''\n",
    "    k_range = np.arange(cluster_start,cluster_stop,cluster_skip)\n",
    "    kmeans = [MiniBatchKMeans(n_clusters = k, n_init=100, random_state=10).fit(X_pca) for k in k_range]\n",
    "    inertia = [kmeans.inertia_ for kmeans in kmeans]\n",
    "    labels = [kmeans.labels_ for kmeans in kmeans]\n",
    "    s_scores = [silhouette_score(X_pca, kmeans_.labels_) for kmeans_ in kmeans]\n",
    "    return k_range, kmeans, inertia, labels, s_scores"
   ]
  },
  {
   "cell_type": "code",
   "execution_count": 17,
   "metadata": {
    "ExecuteTime": {
     "end_time": "2023-08-21T20:12:49.738195903Z",
     "start_time": "2023-08-21T16:28:21.626406645Z"
    }
   },
   "outputs": [
    {
     "name": "stdout",
     "output_type": "stream",
     "text": [
      "Function 'batch_cluster' executed in 13468.0845s\n"
     ]
    }
   ],
   "source": [
    "k_range, kmeans, inertia, labels, s_scores = batch_cluster(encoded_recipes, cluster_stop = 21, cluster_skip = 1)"
   ]
  },
  {
   "cell_type": "code",
   "execution_count": 18,
   "metadata": {
    "ExecuteTime": {
     "end_time": "2023-08-21T20:12:49.861156787Z",
     "start_time": "2023-08-21T20:12:49.738035570Z"
    }
   },
   "outputs": [
    {
     "data": {
      "text/plain": "<Figure size 640x480 with 1 Axes>",
      "image/png": "[encoded data removed]"
     },
     "metadata": {},
     "output_type": "display_data"
    }
   ],
   "source": [
    "plt.plot(k_range,inertia,'.-')\n",
    "plt.xlabel('Cluster number', fontsize=14)\n",
    "#plt.ylabel('Inertia', fontsize=14)\n",
    "plt.title('Inertia')\n",
    "plt.xticks(np.arange(0,21,2))\n",
    "plt.show()"
   ]
  },
  {
   "cell_type": "code",
   "execution_count": 19,
   "metadata": {
    "ExecuteTime": {
     "end_time": "2023-08-21T20:12:49.966043889Z",
     "start_time": "2023-08-21T20:12:49.861747383Z"
    }
   },
   "outputs": [
    {
     "data": {
      "text/plain": "<Figure size 640x480 with 1 Axes>",
      "image/png": "[encoded data removed]"
     },
     "metadata": {},
     "output_type": "display_data"
    }
   ],
   "source": [
    "plt.plot(k_range,s_scores,'.-')\n",
    "plt.xlabel('Cluster number', fontsize=14)\n",
    "#plt.ylabel('Silhoette score', fontsize=14)\n",
    "plt.xticks(np.arange(0,21,2))\n",
    "plt.title('Silhouette score')\n",
    "plt.show()"
   ]
  },
  {
   "cell_type": "markdown",
   "metadata": {},
   "source": [
    "<h3><br></h3>\n",
    "<h3>Selected cluster labels</h3>"
   ]
  },
  {
   "cell_type": "code",
   "execution_count": 20,
   "metadata": {
    "ExecuteTime": {
     "end_time": "2023-08-21T20:12:49.967072170Z",
     "start_time": "2023-08-21T20:12:49.964415543Z"
    }
   },
   "outputs": [],
   "source": [
    "#select clusdter number and add cluster ID to embeddings\n",
    "CLUSTER_NUM = 8\n",
    "labels_ = labels[CLUSTER_NUM-2]\n",
    "#encoded_recipes['Cluster ID'] = labels_"
   ]
  },
  {
   "cell_type": "markdown",
   "metadata": {},
   "source": [
    "<h2><br></h2>\n",
    "<h2>Visualizing clusters</h3>"
   ]
  },
  {
   "cell_type": "code",
   "execution_count": 21,
   "metadata": {
    "ExecuteTime": {
     "end_time": "2023-08-21T20:12:49.969768660Z",
     "start_time": "2023-08-21T20:12:49.966378413Z"
    }
   },
   "outputs": [],
   "source": [
    "encoded_recipes.columns = encoded_recipes.columns.astype(str)\n",
    "visual_names = ['t-TSNE','Locally linear embedding','Multidimensional scaling','Isomap']\n",
    "visual_models = [\n",
    "    TSNE(n_components=2,n_jobs=-1),\n",
    "    LLE(n_components=2, n_neighbors=10, n_jobs=-1),\n",
    "    MDS(n_components=2, normalized_stress='auto',n_jobs=-1),\n",
    "    Isomap(n_jobs=-1)\n",
    "]"
   ]
  },
  {
   "cell_type": "code",
   "execution_count": 22,
   "metadata": {
    "ExecuteTime": {
     "end_time": "2023-08-21T20:13:05.469762979Z",
     "start_time": "2023-08-21T20:12:49.969814149Z"
    }
   },
   "outputs": [
    {
     "ename": "ValueError",
     "evalue": "Length of values (231637) does not match length of index (10000)",
     "output_type": "error",
     "traceback": [
      "\u001B[0;31m---------------------------------------------------------------------------\u001B[0m",
      "\u001B[0;31mValueError\u001B[0m                                Traceback (most recent call last)",
      "Cell \u001B[0;32mIn[22], line 4\u001B[0m\n\u001B[1;32m      2\u001B[0m X_reduced \u001B[38;5;241m=\u001B[39m model\u001B[38;5;241m.\u001B[39mfit_transform(encoded_recipes[:\u001B[38;5;241m10_000\u001B[39m])\n\u001B[1;32m      3\u001B[0m X_reduced \u001B[38;5;241m=\u001B[39m pd\u001B[38;5;241m.\u001B[39mDataFrame(X_reduced, columns\u001B[38;5;241m=\u001B[39m[\u001B[38;5;124m'\u001B[39m\u001B[38;5;124m1\u001B[39m\u001B[38;5;124m'\u001B[39m,\u001B[38;5;124m'\u001B[39m\u001B[38;5;124m2\u001B[39m\u001B[38;5;124m'\u001B[39m])\n\u001B[0;32m----> 4\u001B[0m \u001B[43mX_reduced\u001B[49m\u001B[43m[\u001B[49m\u001B[38;5;124;43m'\u001B[39;49m\u001B[38;5;124;43mCluster ID\u001B[39;49m\u001B[38;5;124;43m'\u001B[39;49m\u001B[43m]\u001B[49m \u001B[38;5;241m=\u001B[39m labels_\n\u001B[1;32m      6\u001B[0m sns\u001B[38;5;241m.\u001B[39mscatterplot(data\u001B[38;5;241m=\u001B[39mX_reduced, x\u001B[38;5;241m=\u001B[39m\u001B[38;5;124m'\u001B[39m\u001B[38;5;124m1\u001B[39m\u001B[38;5;124m'\u001B[39m,y\u001B[38;5;241m=\u001B[39m\u001B[38;5;124m'\u001B[39m\u001B[38;5;124m2\u001B[39m\u001B[38;5;124m'\u001B[39m,hue\u001B[38;5;241m=\u001B[39m\u001B[38;5;124m'\u001B[39m\u001B[38;5;124mCluster ID\u001B[39m\u001B[38;5;124m'\u001B[39m,palette\u001B[38;5;241m=\u001B[39m\u001B[38;5;124m'\u001B[39m\u001B[38;5;124mSpectral\u001B[39m\u001B[38;5;124m'\u001B[39m)\n\u001B[1;32m      7\u001B[0m plt\u001B[38;5;241m.\u001B[39mtitle(name, fontsize\u001B[38;5;241m=\u001B[39m\u001B[38;5;241m18\u001B[39m)\n",
      "File \u001B[0;32m~/Envs/food_env/lib/python3.10/site-packages/pandas/core/frame.py:3950\u001B[0m, in \u001B[0;36mDataFrame.__setitem__\u001B[0;34m(self, key, value)\u001B[0m\n\u001B[1;32m   3947\u001B[0m     \u001B[38;5;28mself\u001B[39m\u001B[38;5;241m.\u001B[39m_setitem_array([key], value)\n\u001B[1;32m   3948\u001B[0m \u001B[38;5;28;01melse\u001B[39;00m:\n\u001B[1;32m   3949\u001B[0m     \u001B[38;5;66;03m# set column\u001B[39;00m\n\u001B[0;32m-> 3950\u001B[0m     \u001B[38;5;28;43mself\u001B[39;49m\u001B[38;5;241;43m.\u001B[39;49m\u001B[43m_set_item\u001B[49m\u001B[43m(\u001B[49m\u001B[43mkey\u001B[49m\u001B[43m,\u001B[49m\u001B[43m \u001B[49m\u001B[43mvalue\u001B[49m\u001B[43m)\u001B[49m\n",
      "File \u001B[0;32m~/Envs/food_env/lib/python3.10/site-packages/pandas/core/frame.py:4143\u001B[0m, in \u001B[0;36mDataFrame._set_item\u001B[0;34m(self, key, value)\u001B[0m\n\u001B[1;32m   4133\u001B[0m \u001B[38;5;28;01mdef\u001B[39;00m \u001B[38;5;21m_set_item\u001B[39m(\u001B[38;5;28mself\u001B[39m, key, value) \u001B[38;5;241m-\u001B[39m\u001B[38;5;241m>\u001B[39m \u001B[38;5;28;01mNone\u001B[39;00m:\n\u001B[1;32m   4134\u001B[0m \u001B[38;5;250m    \u001B[39m\u001B[38;5;124;03m\"\"\"\u001B[39;00m\n\u001B[1;32m   4135\u001B[0m \u001B[38;5;124;03m    Add series to DataFrame in specified column.\u001B[39;00m\n\u001B[1;32m   4136\u001B[0m \n\u001B[0;32m   (...)\u001B[0m\n\u001B[1;32m   4141\u001B[0m \u001B[38;5;124;03m    ensure homogeneity.\u001B[39;00m\n\u001B[1;32m   4142\u001B[0m \u001B[38;5;124;03m    \"\"\"\u001B[39;00m\n\u001B[0;32m-> 4143\u001B[0m     value \u001B[38;5;241m=\u001B[39m \u001B[38;5;28;43mself\u001B[39;49m\u001B[38;5;241;43m.\u001B[39;49m\u001B[43m_sanitize_column\u001B[49m\u001B[43m(\u001B[49m\u001B[43mvalue\u001B[49m\u001B[43m)\u001B[49m\n\u001B[1;32m   4145\u001B[0m     \u001B[38;5;28;01mif\u001B[39;00m (\n\u001B[1;32m   4146\u001B[0m         key \u001B[38;5;129;01min\u001B[39;00m \u001B[38;5;28mself\u001B[39m\u001B[38;5;241m.\u001B[39mcolumns\n\u001B[1;32m   4147\u001B[0m         \u001B[38;5;129;01mand\u001B[39;00m value\u001B[38;5;241m.\u001B[39mndim \u001B[38;5;241m==\u001B[39m \u001B[38;5;241m1\u001B[39m\n\u001B[1;32m   4148\u001B[0m         \u001B[38;5;129;01mand\u001B[39;00m \u001B[38;5;129;01mnot\u001B[39;00m is_extension_array_dtype(value)\n\u001B[1;32m   4149\u001B[0m     ):\n\u001B[1;32m   4150\u001B[0m         \u001B[38;5;66;03m# broadcast across multiple columns if necessary\u001B[39;00m\n\u001B[1;32m   4151\u001B[0m         \u001B[38;5;28;01mif\u001B[39;00m \u001B[38;5;129;01mnot\u001B[39;00m \u001B[38;5;28mself\u001B[39m\u001B[38;5;241m.\u001B[39mcolumns\u001B[38;5;241m.\u001B[39mis_unique \u001B[38;5;129;01mor\u001B[39;00m \u001B[38;5;28misinstance\u001B[39m(\u001B[38;5;28mself\u001B[39m\u001B[38;5;241m.\u001B[39mcolumns, MultiIndex):\n",
      "File \u001B[0;32m~/Envs/food_env/lib/python3.10/site-packages/pandas/core/frame.py:4870\u001B[0m, in \u001B[0;36mDataFrame._sanitize_column\u001B[0;34m(self, value)\u001B[0m\n\u001B[1;32m   4867\u001B[0m     \u001B[38;5;28;01mreturn\u001B[39;00m _reindex_for_setitem(Series(value), \u001B[38;5;28mself\u001B[39m\u001B[38;5;241m.\u001B[39mindex)\n\u001B[1;32m   4869\u001B[0m \u001B[38;5;28;01mif\u001B[39;00m is_list_like(value):\n\u001B[0;32m-> 4870\u001B[0m     \u001B[43mcom\u001B[49m\u001B[38;5;241;43m.\u001B[39;49m\u001B[43mrequire_length_match\u001B[49m\u001B[43m(\u001B[49m\u001B[43mvalue\u001B[49m\u001B[43m,\u001B[49m\u001B[43m \u001B[49m\u001B[38;5;28;43mself\u001B[39;49m\u001B[38;5;241;43m.\u001B[39;49m\u001B[43mindex\u001B[49m\u001B[43m)\u001B[49m\n\u001B[1;32m   4871\u001B[0m \u001B[38;5;28;01mreturn\u001B[39;00m sanitize_array(value, \u001B[38;5;28mself\u001B[39m\u001B[38;5;241m.\u001B[39mindex, copy\u001B[38;5;241m=\u001B[39m\u001B[38;5;28;01mTrue\u001B[39;00m, allow_2d\u001B[38;5;241m=\u001B[39m\u001B[38;5;28;01mTrue\u001B[39;00m)\n",
      "File \u001B[0;32m~/Envs/food_env/lib/python3.10/site-packages/pandas/core/common.py:576\u001B[0m, in \u001B[0;36mrequire_length_match\u001B[0;34m(data, index)\u001B[0m\n\u001B[1;32m    572\u001B[0m \u001B[38;5;250m\u001B[39m\u001B[38;5;124;03m\"\"\"\u001B[39;00m\n\u001B[1;32m    573\u001B[0m \u001B[38;5;124;03mCheck the length of data matches the length of the index.\u001B[39;00m\n\u001B[1;32m    574\u001B[0m \u001B[38;5;124;03m\"\"\"\u001B[39;00m\n\u001B[1;32m    575\u001B[0m \u001B[38;5;28;01mif\u001B[39;00m \u001B[38;5;28mlen\u001B[39m(data) \u001B[38;5;241m!=\u001B[39m \u001B[38;5;28mlen\u001B[39m(index):\n\u001B[0;32m--> 576\u001B[0m     \u001B[38;5;28;01mraise\u001B[39;00m \u001B[38;5;167;01mValueError\u001B[39;00m(\n\u001B[1;32m    577\u001B[0m         \u001B[38;5;124m\"\u001B[39m\u001B[38;5;124mLength of values \u001B[39m\u001B[38;5;124m\"\u001B[39m\n\u001B[1;32m    578\u001B[0m         \u001B[38;5;124mf\u001B[39m\u001B[38;5;124m\"\u001B[39m\u001B[38;5;124m(\u001B[39m\u001B[38;5;132;01m{\u001B[39;00m\u001B[38;5;28mlen\u001B[39m(data)\u001B[38;5;132;01m}\u001B[39;00m\u001B[38;5;124m) \u001B[39m\u001B[38;5;124m\"\u001B[39m\n\u001B[1;32m    579\u001B[0m         \u001B[38;5;124m\"\u001B[39m\u001B[38;5;124mdoes not match length of index \u001B[39m\u001B[38;5;124m\"\u001B[39m\n\u001B[1;32m    580\u001B[0m         \u001B[38;5;124mf\u001B[39m\u001B[38;5;124m\"\u001B[39m\u001B[38;5;124m(\u001B[39m\u001B[38;5;132;01m{\u001B[39;00m\u001B[38;5;28mlen\u001B[39m(index)\u001B[38;5;132;01m}\u001B[39;00m\u001B[38;5;124m)\u001B[39m\u001B[38;5;124m\"\u001B[39m\n\u001B[1;32m    581\u001B[0m     )\n",
      "\u001B[0;31mValueError\u001B[0m: Length of values (231637) does not match length of index (10000)"
     ]
    }
   ],
   "source": [
    "for name,model in zip(visual_names,visual_models):\n",
    "    X_reduced = model.fit_transform(encoded_recipes[:10_000])\n",
    "    X_reduced = pd.DataFrame(X_reduced, columns=['1','2'])\n",
    "    X_reduced['Cluster ID'] = labels_\n",
    "\n",
    "    sns.scatterplot(data=X_reduced, x='1',y='2',hue='Cluster ID',palette='Spectral')\n",
    "    plt.title(name, fontsize=18)\n",
    "    plt.legend(bbox_to_anchor=(1,1))\n",
    "    plt.show()"
   ]
  },
  {
   "cell_type": "markdown",
   "metadata": {},
   "source": [
    "<h3></br></h3>\n",
    "<h3>Word clouds</h3>"
   ]
  },
  {
   "cell_type": "code",
   "execution_count": null,
   "metadata": {
    "ExecuteTime": {
     "end_time": "2023-08-21T20:13:05.470101635Z",
     "start_time": "2023-08-21T20:13:05.470077901Z"
    }
   },
   "outputs": [],
   "source": [
    "cloud_names = ['Cheese dishes', 'Baked goods', 'Desserts', 'Salads', 'Chicken', 'Tropical fruits', 'Casseroles and pastas', 'Crockpot meals']"
   ]
  },
  {
   "cell_type": "code",
   "execution_count": null,
   "metadata": {
    "ExecuteTime": {
     "end_time": "2023-08-21T20:13:05.514291848Z",
     "start_time": "2023-08-21T20:13:05.514084756Z"
    }
   },
   "outputs": [],
   "source": [
    "count = 1\n",
    "def show_cloud(embeded_recipes,raw_recipes_,key):\n",
    "    raw_recipes_ = raw_recipes_.iloc[:test_range,:]\n",
    "    raw_recipes_['Cluster_ID']=labels_\n",
    "    plt.figure(figsize=(6,10))\n",
    "    for k in range(CLUSTER_NUM):\n",
    "        df_k = raw_recipes_[raw_recipes_['Cluster_ID']==k][key]\n",
    "        list_k = df_k.to_list()\n",
    "        cluster_ingred = ''\n",
    "        for ingredients in list_k:\n",
    "            if key == 'ingredients':\n",
    "                cleaned_ingredients = clean_one_recipe(ingredients)\n",
    "                cleaned_ingredients = ' '.join(cleaned_ingredients)\n",
    "            else: \n",
    "                cleaned_ingredients = str(ingredients)\n",
    "                cleaned_ingredients = cleaned_ingredients.replace(' s ','')\n",
    "            cluster_ingred += cleaned_ingredients+' '\n",
    "        wordcloud = WordCloud().generate(cluster_ingred)\n",
    "        plt.subplot(5,2,k+1)\n",
    "        plt.imshow(wordcloud, interpolation='bilinear')\n",
    "        plt.axis('off')\n",
    "        plt.title(cloud_names[k])\n",
    "    plt.tight_layout()"
   ]
  },
  {
   "cell_type": "code",
   "execution_count": null,
   "metadata": {
    "ExecuteTime": {
     "start_time": "2023-08-21T20:13:05.514122989Z"
    }
   },
   "outputs": [],
   "source": [
    "show_cloud(encoded_recipes,raw_recipes_,'ingredients')"
   ]
  },
  {
   "cell_type": "code",
   "execution_count": null,
   "metadata": {
    "ExecuteTime": {
     "start_time": "2023-08-21T20:13:05.514133766Z"
    }
   },
   "outputs": [],
   "source": [
    "show_cloud(encoded_recipes,raw_recipes_,'name')"
   ]
  },
  {
   "cell_type": "markdown",
   "metadata": {},
   "source": [
    "<h2><br></h2>\n",
    "<h2>Works referenced</h2>\n",
    "\n",
    "1. paper\n",
    "2. Pennington, J., Socher, R., Manning, C.D. \"GLoVe: Global Vectors for Word Representation.\" <i>Standard University</i>. Aug. 2014. https://nlp.stanford.edu/projects/glove.\n",
    "3. MLNerds. \"What is the difference between word2Vec and GloVe?\" Feb. 2019. https://machinelearninginterview.com/topics/natural-language-processing/what-is-the-difference-between-word2vec-and-glove/.\n",
    "4. Geron, A. <i>Hands-On Machine Learning with Scikit-Learn</i>, Keras & TensorFlow. 3rd Edition. O'Reilly, 2023. pg. 254-257."
   ]
  }
 ],
 "metadata": {
  "kernelspec": {
   "display_name": "food_env",
   "language": "python",
   "name": "food_env"
  },
  "language_info": {
   "codemirror_mode": {
    "name": "ipython",
    "version": 3
   },
   "file_extension": ".py",
   "mimetype": "text/x-python",
   "name": "python",
   "nbconvert_exporter": "python",
   "pygments_lexer": "ipython3",
   "version": "3.10.12"
  },
  "orig_nbformat": 4
 },
 "nbformat": 4,
 "nbformat_minor": 2
}
