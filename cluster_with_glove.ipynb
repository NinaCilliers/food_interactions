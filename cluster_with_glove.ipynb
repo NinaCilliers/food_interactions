{
 "cells": [
  {
   "cell_type": "code",
   "execution_count": 195,
   "metadata": {},
   "outputs": [],
   "source": [
    "import gensim.downloader as api\n",
    "\n",
    "import pandas as pd\n",
    "import re\n",
    "import pickle\n",
    "import numpy as np\n",
    "from time import time\n",
    "import matplotlib.pyplot as plt\n",
    "import seaborn as sns\n",
    "\n",
    "from sklearn.cluster import MiniBatchKMeans\n",
    "from sklearn.manifold import TSNE\n",
    "from sklearn.metrics import silhouette_score\n",
    "\n",
    "from wordcloud import WordCloud"
   ]
  },
  {
   "cell_type": "markdown",
   "metadata": {},
   "source": [
    "Importing ingredients"
   ]
  },
  {
   "cell_type": "code",
   "execution_count": 30,
   "metadata": {},
   "outputs": [],
   "source": [
    "def import_data():\n",
    "    '''Import cleaned recipe, raw recipe and ratings data'''\n",
    "    #cleaned recipes\n",
    "    recipes = pd.read_csv('PP_recipes.csv')\n",
    "    del recipes['i']\n",
    "    del recipes['name_tokens']\n",
    "    del recipes['ingredient_tokens']\n",
    "    del recipes['steps_tokens']\n",
    "    recipes = recipes.set_index('id')\n",
    "\n",
    "    #ratings\n",
    "    ratings = pd.read_csv('RAW_interactions.csv')\n",
    "    del ratings['user_id']\n",
    "    del ratings['date']\n",
    "    del ratings['review']\n",
    "    ratings = ratings.set_index('recipe_id')\n",
    "\n",
    "    #raw recipe info\n",
    "    raw_recipes = pd.read_csv('RAW_recipes.csv')\n",
    "    del raw_recipes['contributor_id']\n",
    "    del raw_recipes['submitted']\n",
    "    del raw_recipes['tags']\n",
    "    del raw_recipes['steps']\n",
    "    del raw_recipes['description']\n",
    "    raw_recipes = raw_recipes.set_index('id')\n",
    "\n",
    "    return (recipes, raw_recipes, ratings)"
   ]
  },
  {
   "cell_type": "code",
   "execution_count": 31,
   "metadata": {},
   "outputs": [],
   "source": [
    "recipes_, raw_recipes_, ratings_ = import_data()"
   ]
  },
  {
   "cell_type": "markdown",
   "metadata": {},
   "source": [
    "Encoding one recipe"
   ]
  },
  {
   "cell_type": "code",
   "execution_count": 37,
   "metadata": {},
   "outputs": [
    {
     "name": "stdout",
     "output_type": "stream",
     "text": [
      "[==================================================] 100.0% 66.0/66.0MB downloaded\n"
     ]
    }
   ],
   "source": [
    "glove_model = api.load('glove-wiki-gigaword-50')"
   ]
  },
  {
   "cell_type": "code",
   "execution_count": 63,
   "metadata": {},
   "outputs": [],
   "source": [
    "def clean_one_recipe(raw_ingredient_list):\n",
    "    '''Separate recipe list into individual words'''\n",
    "    ingredient_list = re.findall('\\w+', raw_ingredient_list)\n",
    "    return ingredient_list"
   ]
  },
  {
   "cell_type": "code",
   "execution_count": 170,
   "metadata": {},
   "outputs": [],
   "source": [
    "def embed_one_recipe(ingredient_list):\n",
    "    '''Encode a single recipe'''\n",
    "    recipe_embedding = []\n",
    "    for ingredient in ingredient_list:\n",
    "        try:\n",
    "            recipe_embedding.append(glove_model[ingredient])\n",
    "        except:\n",
    "            recipe_embedding.append(np.zeros((50)))\n",
    "    recipe_embedding = pd.DataFrame(recipe_embedding).mean(axis=0)\n",
    "    return recipe_embedding"
   ]
  },
  {
   "cell_type": "code",
   "execution_count": 172,
   "metadata": {},
   "outputs": [
    {
     "data": {
      "text/plain": [
       "0   -0.322388\n",
       "1    0.215897\n",
       "2   -0.863623\n",
       "3    0.342868\n",
       "4    0.282728\n",
       "dtype: float32"
      ]
     },
     "execution_count": 172,
     "metadata": {},
     "output_type": "execute_result"
    }
   ],
   "source": [
    "list_in = raw_recipes_['ingredients'].iloc[0]\n",
    "ingredient_list = clean_one_recipe(list_in)\n",
    "recipe_embedding = embed_one_recipe(ingredient_list)\n",
    "recipe_embedding.head()"
   ]
  },
  {
   "cell_type": "markdown",
   "metadata": {},
   "source": [
    "Encode all recipes"
   ]
  },
  {
   "cell_type": "code",
   "execution_count": 137,
   "metadata": {},
   "outputs": [],
   "source": [
    "test_range = None"
   ]
  },
  {
   "cell_type": "code",
   "execution_count": 138,
   "metadata": {},
   "outputs": [
    {
     "data": {
      "text/plain": [
       "(231637, 6)"
      ]
     },
     "execution_count": 138,
     "metadata": {},
     "output_type": "execute_result"
    }
   ],
   "source": [
    "raw_recipes_.shape"
   ]
  },
  {
   "cell_type": "code",
   "execution_count": 139,
   "metadata": {},
   "outputs": [],
   "source": [
    "def timer_func(func):\n",
    "    '''Wrapper function to time functions'''\n",
    "    def wrap_func(*args, **kwargs):\n",
    "        t1 = time()\n",
    "        result = func(*args, **kwargs)\n",
    "        t2 = time()\n",
    "        print(f'Function {func.__name__!r} executed in {(t2-t1):.4f}s')\n",
    "        return result\n",
    "    return wrap_func"
   ]
  },
  {
   "cell_type": "code",
   "execution_count": 169,
   "metadata": {},
   "outputs": [],
   "source": [
    "@timer_func\n",
    "def encode_recipes():\n",
    "    '''Encode all recipes'''\n",
    "    recipe_embeddings = []\n",
    "    for recipe in raw_recipes_['ingredients'][:test_range]:\n",
    "        ingredient_list = clean_one_recipe(recipe)\n",
    "        recipe_embeddings.append(embed_one_recipe(ingredient_list))\n",
    "    return pd.DataFrame(recipe_embeddings)"
   ]
  },
  {
   "cell_type": "code",
   "execution_count": 173,
   "metadata": {},
   "outputs": [
    {
     "name": "stdout",
     "output_type": "stream",
     "text": [
      "Function 'encode_recipes' executed in 0.0908s\n"
     ]
    }
   ],
   "source": [
    "encoded_recipes = encode_recipes()"
   ]
  },
  {
   "cell_type": "code",
   "execution_count": 174,
   "metadata": {},
   "outputs": [
    {
     "data": {
      "text/plain": [
       "(100, 50)"
      ]
     },
     "execution_count": 174,
     "metadata": {},
     "output_type": "execute_result"
    }
   ],
   "source": [
    "encoded_recipes.shape"
   ]
  },
  {
   "cell_type": "code",
   "execution_count": 175,
   "metadata": {},
   "outputs": [
    {
     "data": {
      "text/html": [
       "<div>\n",
       "<style scoped>\n",
       "    .dataframe tbody tr th:only-of-type {\n",
       "        vertical-align: middle;\n",
       "    }\n",
       "\n",
       "    .dataframe tbody tr th {\n",
       "        vertical-align: top;\n",
       "    }\n",
       "\n",
       "    .dataframe thead th {\n",
       "        text-align: right;\n",
       "    }\n",
       "</style>\n",
       "<table border=\"1\" class=\"dataframe\">\n",
       "  <thead>\n",
       "    <tr style=\"text-align: right;\">\n",
       "      <th></th>\n",
       "      <th>0</th>\n",
       "      <th>1</th>\n",
       "      <th>2</th>\n",
       "      <th>3</th>\n",
       "      <th>4</th>\n",
       "      <th>5</th>\n",
       "      <th>6</th>\n",
       "      <th>7</th>\n",
       "      <th>8</th>\n",
       "      <th>9</th>\n",
       "      <th>...</th>\n",
       "      <th>40</th>\n",
       "      <th>41</th>\n",
       "      <th>42</th>\n",
       "      <th>43</th>\n",
       "      <th>44</th>\n",
       "      <th>45</th>\n",
       "      <th>46</th>\n",
       "      <th>47</th>\n",
       "      <th>48</th>\n",
       "      <th>49</th>\n",
       "    </tr>\n",
       "  </thead>\n",
       "  <tbody>\n",
       "    <tr>\n",
       "      <th>0</th>\n",
       "      <td>-0.322388</td>\n",
       "      <td>0.215897</td>\n",
       "      <td>-0.863623</td>\n",
       "      <td>0.342868</td>\n",
       "      <td>0.282728</td>\n",
       "      <td>0.033896</td>\n",
       "      <td>-0.299164</td>\n",
       "      <td>0.145410</td>\n",
       "      <td>-0.023604</td>\n",
       "      <td>0.146014</td>\n",
       "      <td>...</td>\n",
       "      <td>0.273791</td>\n",
       "      <td>0.083687</td>\n",
       "      <td>0.201765</td>\n",
       "      <td>-0.458108</td>\n",
       "      <td>0.748384</td>\n",
       "      <td>0.772295</td>\n",
       "      <td>0.002920</td>\n",
       "      <td>-0.027175</td>\n",
       "      <td>-0.158647</td>\n",
       "      <td>-0.238712</td>\n",
       "    </tr>\n",
       "    <tr>\n",
       "      <th>1</th>\n",
       "      <td>0.117049</td>\n",
       "      <td>-0.105789</td>\n",
       "      <td>-0.623373</td>\n",
       "      <td>-0.088335</td>\n",
       "      <td>0.422369</td>\n",
       "      <td>0.864983</td>\n",
       "      <td>-0.313520</td>\n",
       "      <td>0.247731</td>\n",
       "      <td>-0.134833</td>\n",
       "      <td>-0.170577</td>\n",
       "      <td>...</td>\n",
       "      <td>0.644464</td>\n",
       "      <td>0.024751</td>\n",
       "      <td>-0.037983</td>\n",
       "      <td>-0.130208</td>\n",
       "      <td>0.796528</td>\n",
       "      <td>0.849185</td>\n",
       "      <td>-0.199121</td>\n",
       "      <td>-0.088433</td>\n",
       "      <td>-0.238068</td>\n",
       "      <td>0.095297</td>\n",
       "    </tr>\n",
       "    <tr>\n",
       "      <th>2</th>\n",
       "      <td>0.031537</td>\n",
       "      <td>-0.195235</td>\n",
       "      <td>-0.472846</td>\n",
       "      <td>0.085179</td>\n",
       "      <td>0.377397</td>\n",
       "      <td>0.272177</td>\n",
       "      <td>-0.133702</td>\n",
       "      <td>-0.080536</td>\n",
       "      <td>-0.099638</td>\n",
       "      <td>-0.011087</td>\n",
       "      <td>...</td>\n",
       "      <td>0.545620</td>\n",
       "      <td>-0.013276</td>\n",
       "      <td>-0.004070</td>\n",
       "      <td>-0.300977</td>\n",
       "      <td>1.176739</td>\n",
       "      <td>0.976502</td>\n",
       "      <td>0.173980</td>\n",
       "      <td>0.092145</td>\n",
       "      <td>0.171500</td>\n",
       "      <td>-0.064618</td>\n",
       "    </tr>\n",
       "    <tr>\n",
       "      <th>3</th>\n",
       "      <td>-0.004873</td>\n",
       "      <td>0.243860</td>\n",
       "      <td>-0.687108</td>\n",
       "      <td>0.118598</td>\n",
       "      <td>0.544544</td>\n",
       "      <td>0.371865</td>\n",
       "      <td>-0.158334</td>\n",
       "      <td>-0.048740</td>\n",
       "      <td>-0.333201</td>\n",
       "      <td>-0.064658</td>\n",
       "      <td>...</td>\n",
       "      <td>0.780880</td>\n",
       "      <td>0.144425</td>\n",
       "      <td>0.014742</td>\n",
       "      <td>-0.467413</td>\n",
       "      <td>0.855446</td>\n",
       "      <td>1.010961</td>\n",
       "      <td>-0.023708</td>\n",
       "      <td>-0.193350</td>\n",
       "      <td>-0.302259</td>\n",
       "      <td>-0.083789</td>\n",
       "    </tr>\n",
       "    <tr>\n",
       "      <th>4</th>\n",
       "      <td>-0.197585</td>\n",
       "      <td>-0.142786</td>\n",
       "      <td>-0.491921</td>\n",
       "      <td>0.429796</td>\n",
       "      <td>0.255868</td>\n",
       "      <td>0.168091</td>\n",
       "      <td>-0.099953</td>\n",
       "      <td>0.095028</td>\n",
       "      <td>0.164880</td>\n",
       "      <td>0.342105</td>\n",
       "      <td>...</td>\n",
       "      <td>0.634047</td>\n",
       "      <td>-0.039552</td>\n",
       "      <td>-0.113946</td>\n",
       "      <td>-0.497591</td>\n",
       "      <td>0.772490</td>\n",
       "      <td>1.113699</td>\n",
       "      <td>-0.143467</td>\n",
       "      <td>-0.117670</td>\n",
       "      <td>-0.139136</td>\n",
       "      <td>-0.264278</td>\n",
       "    </tr>\n",
       "  </tbody>\n",
       "</table>\n",
       "<p>5 rows × 50 columns</p>\n",
       "</div>"
      ],
      "text/plain": [
       "         0         1         2         3         4         5         6   \\\n",
       "0 -0.322388  0.215897 -0.863623  0.342868  0.282728  0.033896 -0.299164   \n",
       "1  0.117049 -0.105789 -0.623373 -0.088335  0.422369  0.864983 -0.313520   \n",
       "2  0.031537 -0.195235 -0.472846  0.085179  0.377397  0.272177 -0.133702   \n",
       "3 -0.004873  0.243860 -0.687108  0.118598  0.544544  0.371865 -0.158334   \n",
       "4 -0.197585 -0.142786 -0.491921  0.429796  0.255868  0.168091 -0.099953   \n",
       "\n",
       "         7         8         9   ...        40        41        42        43  \\\n",
       "0  0.145410 -0.023604  0.146014  ...  0.273791  0.083687  0.201765 -0.458108   \n",
       "1  0.247731 -0.134833 -0.170577  ...  0.644464  0.024751 -0.037983 -0.130208   \n",
       "2 -0.080536 -0.099638 -0.011087  ...  0.545620 -0.013276 -0.004070 -0.300977   \n",
       "3 -0.048740 -0.333201 -0.064658  ...  0.780880  0.144425  0.014742 -0.467413   \n",
       "4  0.095028  0.164880  0.342105  ...  0.634047 -0.039552 -0.113946 -0.497591   \n",
       "\n",
       "         44        45        46        47        48        49  \n",
       "0  0.748384  0.772295  0.002920 -0.027175 -0.158647 -0.238712  \n",
       "1  0.796528  0.849185 -0.199121 -0.088433 -0.238068  0.095297  \n",
       "2  1.176739  0.976502  0.173980  0.092145  0.171500 -0.064618  \n",
       "3  0.855446  1.010961 -0.023708 -0.193350 -0.302259 -0.083789  \n",
       "4  0.772490  1.113699 -0.143467 -0.117670 -0.139136 -0.264278  \n",
       "\n",
       "[5 rows x 50 columns]"
      ]
     },
     "execution_count": 175,
     "metadata": {},
     "output_type": "execute_result"
    }
   ],
   "source": [
    "encoded_recipes.head()"
   ]
  },
  {
   "cell_type": "markdown",
   "metadata": {},
   "source": [
    "Cluster recipes"
   ]
  },
  {
   "cell_type": "code",
   "execution_count": 180,
   "metadata": {},
   "outputs": [],
   "source": [
    "@timer_func\n",
    "def batch_cluster(X_pca,cluster_start=2, cluster_stop=50, cluster_skip=10):    \n",
    "    '''Clusters data using mini-batch Kmeans'''\n",
    "    k_range = np.arange(cluster_start,cluster_stop,cluster_skip)\n",
    "    kmeans = [MiniBatchKMeans(n_clusters = k, n_init=100, random_state=10).fit(X_pca) for k in k_range]\n",
    "    inertia = [kmeans.inertia_ for kmeans in kmeans]\n",
    "    labels = [kmeans.labels_ for kmeans in kmeans]\n",
    "    s_scores = [silhouette_score(X_pca, kmeans_.labels_) for kmeans_ in kmeans]\n",
    "    return k_range, kmeans, inertia, labels, s_scores"
   ]
  },
  {
   "cell_type": "code",
   "execution_count": 199,
   "metadata": {},
   "outputs": [
    {
     "name": "stdout",
     "output_type": "stream",
     "text": [
      "Function 'batch_cluster' executed in 2.3932s\n"
     ]
    }
   ],
   "source": [
    "k_range, kmeans, inertia, labels, s_scores = batch_cluster(encoded_recipes, cluster_stop = 21, cluster_skip = 1)"
   ]
  },
  {
   "cell_type": "code",
   "execution_count": 200,
   "metadata": {},
   "outputs": [
    {
     "data": {
      "image/png": "[encoded data removed]",
      "text/plain": [
       "<Figure size 640x480 with 1 Axes>"
      ]
     },
     "metadata": {},
     "output_type": "display_data"
    }
   ],
   "source": [
    "plt.plot(k_range,inertia,'.-')\n",
    "plt.xlabel('Cluster number', fontsize=14)\n",
    "#plt.ylabel('Inertia', fontsize=14)\n",
    "plt.title('Inertia')\n",
    "plt.xticks(np.arange(0,21,2))\n",
    "plt.show()"
   ]
  },
  {
   "cell_type": "code",
   "execution_count": 201,
   "metadata": {},
   "outputs": [
    {
     "data": {
      "image/png": "[encoded data removed]",
      "text/plain": [
       "<Figure size 640x480 with 1 Axes>"
      ]
     },
     "metadata": {},
     "output_type": "display_data"
    }
   ],
   "source": [
    "plt.plot(k_range,s_scores,'.-')\n",
    "plt.xlabel('Cluster number', fontsize=14)\n",
    "#plt.ylabel('Silhoette score', fontsize=14)\n",
    "plt.xticks(np.arange(0,21,2))\n",
    "plt.title('Silhouette score')\n",
    "plt.show()"
   ]
  },
  {
   "cell_type": "code",
   "execution_count": 202,
   "metadata": {},
   "outputs": [],
   "source": [
    "#select clusdter number and add cluster ID to embeddings\n",
    "CLUSTER_NUM = 8\n",
    "labels_ = labels[CLUSTER_NUM-2]\n",
    "#encoded_recipes['Cluster ID'] = labels_"
   ]
  },
  {
   "cell_type": "markdown",
   "metadata": {},
   "source": [
    "T-SNE"
   ]
  },
  {
   "cell_type": "code",
   "execution_count": 203,
   "metadata": {},
   "outputs": [],
   "source": [
    "encoded_recipes.columns = encoded_recipes.columns.astype(str)\n",
    "X_embeded = TSNE(n_components=2,n_jobs=-1).fit_transform(encoded_recipes)"
   ]
  },
  {
   "cell_type": "code",
   "execution_count": 205,
   "metadata": {},
   "outputs": [
    {
     "data": {
      "text/html": [
       "<div>\n",
       "<style scoped>\n",
       "    .dataframe tbody tr th:only-of-type {\n",
       "        vertical-align: middle;\n",
       "    }\n",
       "\n",
       "    .dataframe tbody tr th {\n",
       "        vertical-align: top;\n",
       "    }\n",
       "\n",
       "    .dataframe thead th {\n",
       "        text-align: right;\n",
       "    }\n",
       "</style>\n",
       "<table border=\"1\" class=\"dataframe\">\n",
       "  <thead>\n",
       "    <tr style=\"text-align: right;\">\n",
       "      <th></th>\n",
       "      <th>1</th>\n",
       "      <th>2</th>\n",
       "      <th>Cluster ID</th>\n",
       "    </tr>\n",
       "  </thead>\n",
       "  <tbody>\n",
       "    <tr>\n",
       "      <th>0</th>\n",
       "      <td>1.537717</td>\n",
       "      <td>-8.607880</td>\n",
       "      <td>0</td>\n",
       "    </tr>\n",
       "    <tr>\n",
       "      <th>1</th>\n",
       "      <td>1.364463</td>\n",
       "      <td>-7.789919</td>\n",
       "      <td>5</td>\n",
       "    </tr>\n",
       "    <tr>\n",
       "      <th>2</th>\n",
       "      <td>-4.622008</td>\n",
       "      <td>-1.428380</td>\n",
       "      <td>2</td>\n",
       "    </tr>\n",
       "    <tr>\n",
       "      <th>3</th>\n",
       "      <td>-4.832150</td>\n",
       "      <td>-2.823169</td>\n",
       "      <td>2</td>\n",
       "    </tr>\n",
       "    <tr>\n",
       "      <th>4</th>\n",
       "      <td>-2.195976</td>\n",
       "      <td>-1.182083</td>\n",
       "      <td>2</td>\n",
       "    </tr>\n",
       "    <tr>\n",
       "      <th>...</th>\n",
       "      <td>...</td>\n",
       "      <td>...</td>\n",
       "      <td>...</td>\n",
       "    </tr>\n",
       "    <tr>\n",
       "      <th>95</th>\n",
       "      <td>-2.042866</td>\n",
       "      <td>3.465632</td>\n",
       "      <td>1</td>\n",
       "    </tr>\n",
       "    <tr>\n",
       "      <th>96</th>\n",
       "      <td>0.001736</td>\n",
       "      <td>-5.421650</td>\n",
       "      <td>7</td>\n",
       "    </tr>\n",
       "    <tr>\n",
       "      <th>97</th>\n",
       "      <td>1.821392</td>\n",
       "      <td>-7.641569</td>\n",
       "      <td>5</td>\n",
       "    </tr>\n",
       "    <tr>\n",
       "      <th>98</th>\n",
       "      <td>-5.463212</td>\n",
       "      <td>4.127227</td>\n",
       "      <td>4</td>\n",
       "    </tr>\n",
       "    <tr>\n",
       "      <th>99</th>\n",
       "      <td>1.174418</td>\n",
       "      <td>-9.192798</td>\n",
       "      <td>5</td>\n",
       "    </tr>\n",
       "  </tbody>\n",
       "</table>\n",
       "<p>100 rows × 3 columns</p>\n",
       "</div>"
      ],
      "text/plain": [
       "           1         2  Cluster ID\n",
       "0   1.537717 -8.607880           0\n",
       "1   1.364463 -7.789919           5\n",
       "2  -4.622008 -1.428380           2\n",
       "3  -4.832150 -2.823169           2\n",
       "4  -2.195976 -1.182083           2\n",
       "..       ...       ...         ...\n",
       "95 -2.042866  3.465632           1\n",
       "96  0.001736 -5.421650           7\n",
       "97  1.821392 -7.641569           5\n",
       "98 -5.463212  4.127227           4\n",
       "99  1.174418 -9.192798           5\n",
       "\n",
       "[100 rows x 3 columns]"
      ]
     },
     "execution_count": 205,
     "metadata": {},
     "output_type": "execute_result"
    }
   ],
   "source": [
    "Xem = pd.DataFrame(X_embeded,columns=['1','2'])\n",
    "Xem['Cluster ID'] = labels_\n",
    "Xem"
   ]
  },
  {
   "cell_type": "code",
   "execution_count": 206,
   "metadata": {},
   "outputs": [
    {
     "data": {
      "text/plain": [
       "<Axes: xlabel='1', ylabel='2'>"
      ]
     },
     "execution_count": 206,
     "metadata": {},
     "output_type": "execute_result"
    },
    {
     "data": {
      "image/png": "[encoded data removed]",
      "text/plain": [
       "<Figure size 640x480 with 1 Axes>"
      ]
     },
     "metadata": {},
     "output_type": "display_data"
    }
   ],
   "source": [
    "sns.scatterplot(data=Xem, x='1',y='2',hue='Cluster ID',palette='Spectral')"
   ]
  },
  {
   "cell_type": "markdown",
   "metadata": {},
   "source": [
    "Word clouds"
   ]
  },
  {
   "cell_type": "code",
   "execution_count": 207,
   "metadata": {},
   "outputs": [],
   "source": [
    "#df_ref['Cluster ID']= labels[0]\n",
    "\n",
    "count = 1\n",
    "def show_cloud(embeded_recipes):\n",
    "    plt.figure(figsize=(6,10))\n",
    "    for k in range(CLUSTER_NUM):\n",
    "        df_k = df_ref[df_ref['Cluster ID']==k][key]\n",
    "        list_k = df_k.to_list()\n",
    "        cluster_ingred = ''\n",
    "        for ingredients in list_k:\n",
    "            list_kk = re.findall(r'(\\w[\\w\\s]+)',ingredients)\n",
    "            list_kk = filter(filter_common, list_kk)\n",
    "            cleaned_ingredients = ' '.join(list_kk)\n",
    "            cluster_ingred += cleaned_ingredients+' '\n",
    "        wordcloud = WordCloud().generate(cluster_ingred)\n",
    "        plt.subplot(5,2,k+1)\n",
    "        plt.imshow(wordcloud, interpolation='bilinear')\n",
    "        plt.axis('off')\n",
    "        plt.title(f'k={k+1}')\n",
    "    plt.tight_layout()"
   ]
  }
 ],
 "metadata": {
  "kernelspec": {
   "display_name": "food_env",
   "language": "python",
   "name": "food_env"
  },
  "language_info": {
   "codemirror_mode": {
    "name": "ipython",
    "version": 3
   },
   "file_extension": ".py",
   "mimetype": "text/x-python",
   "name": "python",
   "nbconvert_exporter": "python",
   "pygments_lexer": "ipython3",
   "version": "3.10.12"
  },
  "orig_nbformat": 4
 },
 "nbformat": 4,
 "nbformat_minor": 2
}
