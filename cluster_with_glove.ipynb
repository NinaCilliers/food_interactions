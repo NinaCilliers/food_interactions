{
 "cells": [
  {
   "cell_type": "markdown",
   "metadata": {},
   "source": [
    "<h1>Recipe classification and visualization</h1>\n",
    "<h4><i>Clustering and visualizing recipes by ingredients</i></h4>\n",
    "<h4><br></h4>\n",
    "<h2><Introduction></h2>\n",
    "<h4>About the data</h4>\n",
    "The Food.com Recipes and Interactions dataset contains 180k+ recipes and 700k+ reviews covering 18 years of user interactions and uploads on Food.com. The dataset is available on [Kaggle](https://www.kaggle.com/datasets/shuyangli94/food-com-recipes-and-user-interactions) and originates from the paper [\"Generating Personalized Recipes from Historical User Preferences\"](https://www.aclweb.org/anthology/D19-1613/) by Majumder, et al. In this project, we use the raw recipe data [1].\n",
    "<h4><br></h4>\n",
    "<h4>Encoding ingredients with GloVe</h4>\n",
    "A pre-trained GloVe network is used to generate embeddings for each recipe. The average GloVe embedding for all ingredients in a recipe is used to represent the recipe. GloVe is an unsupervised learning algorithm for obtaining vector representation for words. Training is performed on aggregated global word co-occurrence statistics and reflects linear substructures in word vector space. Two examples are shown below showcasing the relationship man and women and comparatives [2]. \n",
    "\n",
    "![img](comparative_superlative.jpg)\n",
    "![img](man_woman.jpg)\n",
    "\n",
    "GloVe constructs a matrix of context words with co-occurrence frequencies. This large matrix is factorized into a word-feature matrix, which contains the embedding, and a feature-context matrix. The training of the GloVe model is distinct from the Word2Vec model. The GloVe model uses global word to word co-occurrence counts while word2vec uses uses co-occurrences within a local context. However, the two encoding models capture similar relationships [3].\n",
    "\n",
    "<h4><br></h4>\n",
    "<h4>Clustering ingredients</h4>\n",
    "Recipes are clustered using the KMeans clustering algorithm, which groups data into clusters. The algorithm randomly assigns centroids, assigns data to each centroid based on distance, and iteratively moves the centroid to the center of the newly defined cluster until the centroids no longer move.\n",
    "\n",
    "<h4><br></h4>\n",
    "<h4>Visualizing clusters</h4>\n",
    "Clusters are visualized using several dimensionality reduction techniques, described below [4]:\n",
    "\n",
    "- <b>t-SNE</b>: t-distributed stochastic neighbor embedding (t-SNE) reduces dimensionality while keeping similar instances close. \n",
    "- <b>MDS</b>: Multidimensional scaling (MDS) reduces dimensionality while preserving the distance between instances. \n",
    "- <b>LLE</b>: Locally linear embedding (LLE) is a non-linear dimensionality reduction technique that finds a low-dimensional representation that best preserves local relationships.\n",
    "- <b>Isomap</b>: Isomap connects each instance to its nearest neighbors and preserves the number of nodes between instances.\n",
    "- <b>Wordcloud</b>: Ingredient and recipe names for each cluster are visualized in a word cloud. This enable us to discern non-mathematical thematic differences between clusters. \n",
    "\n",
    "<h4><br></h4>\n",
    "<h4>Cluster Descriptions</h4>\n",
    "\n",
    "The eight distinct clusters contain distinct recipes, apparent in the word clouds above. \n",
    "\n",
    "1. Cheesy dishes\n",
    "2. Baked goods\n",
    "3. Desserts\n",
    "4. Salads\n",
    "5. Chicken \n",
    "6. Tropical fruits\n",
    "7. Casseroles and pastas\n",
    "8. Crock pot meals\n",
    "\n",
    "New recipes could be automatically sorted into these categories by our clustering algorithm. "
   ]
  },
  {
   "cell_type": "markdown",
   "metadata": {},
   "source": [
    "<h2><br></h2>\n",
    "<h2>Cleaning and encoding recipe data</h2>\n",
    "<h3>Importing ingredients</h3>"
   ]
  },
  {
   "cell_type": "code",
   "execution_count": 1,
   "metadata": {},
   "outputs": [],
   "source": [
    "import gensim.downloader as api\n",
    "\n",
    "import pandas as pd\n",
    "import re\n",
    "import pickle\n",
    "import numpy as np\n",
    "from time import time\n",
    "import matplotlib.pyplot as plt\n",
    "import seaborn as sns\n",
    "\n",
    "from sklearn.cluster import MiniBatchKMeans\n",
    "from sklearn.manifold import TSNE\n",
    "from sklearn.manifold import LocallyLinearEmbedding as LLE\n",
    "from sklearn.manifold import MDS\n",
    "from sklearn.manifold import Isomap\n",
    "from sklearn.metrics import silhouette_score\n",
    "\n",
    "from wordcloud import WordCloud"
   ]
  },
  {
   "cell_type": "code",
   "execution_count": 2,
   "metadata": {},
   "outputs": [],
   "source": [
    "def import_data():\n",
    "    '''Import cleaned recipe, raw recipe and ratings data'''\n",
    "    #cleaned recipes\n",
    "    recipes = pd.read_csv('PP_recipes.csv')\n",
    "    del recipes['i']\n",
    "    del recipes['name_tokens']\n",
    "    del recipes['ingredient_tokens']\n",
    "    del recipes['steps_tokens']\n",
    "    recipes = recipes.set_index('id')\n",
    "\n",
    "    #ratings\n",
    "    ratings = pd.read_csv('RAW_interactions.csv')\n",
    "    del ratings['user_id']\n",
    "    del ratings['date']\n",
    "    del ratings['review']\n",
    "    ratings = ratings.set_index('recipe_id')\n",
    "\n",
    "    #raw recipe info\n",
    "    raw_recipes = pd.read_csv('RAW_recipes.csv')\n",
    "    del raw_recipes['contributor_id']\n",
    "    del raw_recipes['submitted']\n",
    "    del raw_recipes['tags']\n",
    "    del raw_recipes['steps']\n",
    "    del raw_recipes['description']\n",
    "    raw_recipes = raw_recipes.set_index('id')\n",
    "\n",
    "    return (recipes, raw_recipes, ratings)"
   ]
  },
  {
   "cell_type": "code",
   "execution_count": 3,
   "metadata": {},
   "outputs": [],
   "source": [
    "_, raw_recipes_, _ = import_data()"
   ]
  },
  {
   "cell_type": "markdown",
   "metadata": {},
   "source": [
    "<h3><br></h3>\n",
    "<h3>Encoding one recipe</h3>"
   ]
  },
  {
   "cell_type": "code",
   "execution_count": 4,
   "metadata": {},
   "outputs": [],
   "source": [
    "glove_model = api.load('glove-wiki-gigaword-50')"
   ]
  },
  {
   "cell_type": "code",
   "execution_count": 5,
   "metadata": {},
   "outputs": [],
   "source": [
    "def clean_one_recipe(raw_ingredient_list):\n",
    "    '''Separate recipe list into individual words'''\n",
    "    ingredient_list = re.findall('\\w+', raw_ingredient_list)\n",
    "    return ingredient_list"
   ]
  },
  {
   "cell_type": "code",
   "execution_count": 6,
   "metadata": {},
   "outputs": [],
   "source": [
    "def embed_one_recipe(ingredient_list):\n",
    "    '''Encode a single recipe'''\n",
    "    recipe_embedding = []\n",
    "    for ingredient in ingredient_list:\n",
    "        try:\n",
    "            recipe_embedding.append(glove_model[ingredient])\n",
    "        except:\n",
    "            recipe_embedding.append(np.zeros((50)))\n",
    "    recipe_embedding = pd.DataFrame(recipe_embedding).mean(axis=0)\n",
    "    return recipe_embedding"
   ]
  },
  {
   "cell_type": "code",
   "execution_count": 7,
   "metadata": {},
   "outputs": [
    {
     "data": {
      "text/plain": [
       "0   -0.322388\n",
       "1    0.215897\n",
       "2   -0.863623\n",
       "3    0.342868\n",
       "4    0.282728\n",
       "dtype: float32"
      ]
     },
     "execution_count": 7,
     "metadata": {},
     "output_type": "execute_result"
    }
   ],
   "source": [
    "list_in = raw_recipes_['ingredients'].iloc[0]\n",
    "ingredient_list = clean_one_recipe(list_in)\n",
    "recipe_embedding = embed_one_recipe(ingredient_list)\n",
    "recipe_embedding.head()"
   ]
  },
  {
   "cell_type": "markdown",
   "metadata": {},
   "source": [
    "<h3><br></h3>\n",
    "<h3>Encoding all recipes</h3>"
   ]
  },
  {
   "cell_type": "code",
   "execution_count": 8,
   "metadata": {},
   "outputs": [],
   "source": [
    "test_range = None"
   ]
  },
  {
   "cell_type": "code",
   "execution_count": 9,
   "metadata": {},
   "outputs": [
    {
     "data": {
      "text/plain": [
       "(231637, 6)"
      ]
     },
     "execution_count": 9,
     "metadata": {},
     "output_type": "execute_result"
    }
   ],
   "source": [
    "raw_recipes_.shape"
   ]
  },
  {
   "cell_type": "code",
   "execution_count": 10,
   "metadata": {},
   "outputs": [],
   "source": [
    "def timer_func(func):\n",
    "    '''Wrapper function to time functions'''\n",
    "    def wrap_func(*args, **kwargs):\n",
    "        t1 = time()\n",
    "        result = func(*args, **kwargs)\n",
    "        t2 = time()\n",
    "        print(f'Function {func.__name__!r} executed in {(t2-t1):.4f}s')\n",
    "        return result\n",
    "    return wrap_func"
   ]
  },
  {
   "cell_type": "code",
   "execution_count": 11,
   "metadata": {},
   "outputs": [],
   "source": [
    "@timer_func\n",
    "def encode_recipes():\n",
    "    '''Encode all recipes'''\n",
    "    recipe_embeddings = []\n",
    "    for recipe in raw_recipes_['ingredients'][:test_range]:\n",
    "        ingredient_list = clean_one_recipe(recipe)\n",
    "        recipe_embeddings.append(embed_one_recipe(ingredient_list))\n",
    "    return pd.DataFrame(recipe_embeddings)"
   ]
  },
  {
   "cell_type": "code",
   "execution_count": 12,
   "metadata": {},
   "outputs": [
    {
     "name": "stdout",
     "output_type": "stream",
     "text": [
      "Function 'encode_recipes' executed in 120.5984s\n"
     ]
    }
   ],
   "source": [
    "encoded_recipes = encode_recipes()"
   ]
  },
  {
   "cell_type": "code",
   "execution_count": 13,
   "metadata": {},
   "outputs": [
    {
     "data": {
      "text/plain": [
       "(231637, 50)"
      ]
     },
     "execution_count": 13,
     "metadata": {},
     "output_type": "execute_result"
    }
   ],
   "source": [
    "encoded_recipes.shape"
   ]
  },
  {
   "cell_type": "code",
   "execution_count": 14,
   "metadata": {},
   "outputs": [
    {
     "data": {
      "text/html": [
       "<div>\n",
       "<style scoped>\n",
       "    .dataframe tbody tr th:only-of-type {\n",
       "        vertical-align: middle;\n",
       "    }\n",
       "\n",
       "    .dataframe tbody tr th {\n",
       "        vertical-align: top;\n",
       "    }\n",
       "\n",
       "    .dataframe thead th {\n",
       "        text-align: right;\n",
       "    }\n",
       "</style>\n",
       "<table border=\"1\" class=\"dataframe\">\n",
       "  <thead>\n",
       "    <tr style=\"text-align: right;\">\n",
       "      <th></th>\n",
       "      <th>0</th>\n",
       "      <th>1</th>\n",
       "      <th>2</th>\n",
       "      <th>3</th>\n",
       "      <th>4</th>\n",
       "      <th>5</th>\n",
       "      <th>6</th>\n",
       "      <th>7</th>\n",
       "      <th>8</th>\n",
       "      <th>9</th>\n",
       "      <th>...</th>\n",
       "      <th>40</th>\n",
       "      <th>41</th>\n",
       "      <th>42</th>\n",
       "      <th>43</th>\n",
       "      <th>44</th>\n",
       "      <th>45</th>\n",
       "      <th>46</th>\n",
       "      <th>47</th>\n",
       "      <th>48</th>\n",
       "      <th>49</th>\n",
       "    </tr>\n",
       "  </thead>\n",
       "  <tbody>\n",
       "    <tr>\n",
       "      <th>0</th>\n",
       "      <td>-0.322388</td>\n",
       "      <td>0.215897</td>\n",
       "      <td>-0.863623</td>\n",
       "      <td>0.342868</td>\n",
       "      <td>0.282728</td>\n",
       "      <td>0.033896</td>\n",
       "      <td>-0.299164</td>\n",
       "      <td>0.145410</td>\n",
       "      <td>-0.023604</td>\n",
       "      <td>0.146014</td>\n",
       "      <td>...</td>\n",
       "      <td>0.273791</td>\n",
       "      <td>0.083687</td>\n",
       "      <td>0.201765</td>\n",
       "      <td>-0.458108</td>\n",
       "      <td>0.748384</td>\n",
       "      <td>0.772295</td>\n",
       "      <td>0.002920</td>\n",
       "      <td>-0.027175</td>\n",
       "      <td>-0.158647</td>\n",
       "      <td>-0.238712</td>\n",
       "    </tr>\n",
       "    <tr>\n",
       "      <th>1</th>\n",
       "      <td>0.117049</td>\n",
       "      <td>-0.105789</td>\n",
       "      <td>-0.623373</td>\n",
       "      <td>-0.088335</td>\n",
       "      <td>0.422369</td>\n",
       "      <td>0.864983</td>\n",
       "      <td>-0.313520</td>\n",
       "      <td>0.247731</td>\n",
       "      <td>-0.134833</td>\n",
       "      <td>-0.170577</td>\n",
       "      <td>...</td>\n",
       "      <td>0.644464</td>\n",
       "      <td>0.024751</td>\n",
       "      <td>-0.037983</td>\n",
       "      <td>-0.130208</td>\n",
       "      <td>0.796528</td>\n",
       "      <td>0.849185</td>\n",
       "      <td>-0.199121</td>\n",
       "      <td>-0.088433</td>\n",
       "      <td>-0.238068</td>\n",
       "      <td>0.095297</td>\n",
       "    </tr>\n",
       "    <tr>\n",
       "      <th>2</th>\n",
       "      <td>0.031537</td>\n",
       "      <td>-0.195235</td>\n",
       "      <td>-0.472846</td>\n",
       "      <td>0.085179</td>\n",
       "      <td>0.377397</td>\n",
       "      <td>0.272177</td>\n",
       "      <td>-0.133702</td>\n",
       "      <td>-0.080536</td>\n",
       "      <td>-0.099638</td>\n",
       "      <td>-0.011087</td>\n",
       "      <td>...</td>\n",
       "      <td>0.545620</td>\n",
       "      <td>-0.013276</td>\n",
       "      <td>-0.004070</td>\n",
       "      <td>-0.300977</td>\n",
       "      <td>1.176739</td>\n",
       "      <td>0.976502</td>\n",
       "      <td>0.173980</td>\n",
       "      <td>0.092145</td>\n",
       "      <td>0.171500</td>\n",
       "      <td>-0.064618</td>\n",
       "    </tr>\n",
       "    <tr>\n",
       "      <th>3</th>\n",
       "      <td>-0.004873</td>\n",
       "      <td>0.243860</td>\n",
       "      <td>-0.687108</td>\n",
       "      <td>0.118598</td>\n",
       "      <td>0.544544</td>\n",
       "      <td>0.371865</td>\n",
       "      <td>-0.158334</td>\n",
       "      <td>-0.048740</td>\n",
       "      <td>-0.333201</td>\n",
       "      <td>-0.064658</td>\n",
       "      <td>...</td>\n",
       "      <td>0.780880</td>\n",
       "      <td>0.144425</td>\n",
       "      <td>0.014742</td>\n",
       "      <td>-0.467413</td>\n",
       "      <td>0.855446</td>\n",
       "      <td>1.010961</td>\n",
       "      <td>-0.023708</td>\n",
       "      <td>-0.193350</td>\n",
       "      <td>-0.302259</td>\n",
       "      <td>-0.083789</td>\n",
       "    </tr>\n",
       "    <tr>\n",
       "      <th>4</th>\n",
       "      <td>-0.197585</td>\n",
       "      <td>-0.142786</td>\n",
       "      <td>-0.491921</td>\n",
       "      <td>0.429796</td>\n",
       "      <td>0.255868</td>\n",
       "      <td>0.168091</td>\n",
       "      <td>-0.099953</td>\n",
       "      <td>0.095028</td>\n",
       "      <td>0.164880</td>\n",
       "      <td>0.342105</td>\n",
       "      <td>...</td>\n",
       "      <td>0.634047</td>\n",
       "      <td>-0.039552</td>\n",
       "      <td>-0.113946</td>\n",
       "      <td>-0.497591</td>\n",
       "      <td>0.772490</td>\n",
       "      <td>1.113699</td>\n",
       "      <td>-0.143467</td>\n",
       "      <td>-0.117670</td>\n",
       "      <td>-0.139136</td>\n",
       "      <td>-0.264278</td>\n",
       "    </tr>\n",
       "  </tbody>\n",
       "</table>\n",
       "<p>5 rows × 50 columns</p>\n",
       "</div>"
      ],
      "text/plain": [
       "         0         1         2         3         4         5         6   \\\n",
       "0 -0.322388  0.215897 -0.863623  0.342868  0.282728  0.033896 -0.299164   \n",
       "1  0.117049 -0.105789 -0.623373 -0.088335  0.422369  0.864983 -0.313520   \n",
       "2  0.031537 -0.195235 -0.472846  0.085179  0.377397  0.272177 -0.133702   \n",
       "3 -0.004873  0.243860 -0.687108  0.118598  0.544544  0.371865 -0.158334   \n",
       "4 -0.197585 -0.142786 -0.491921  0.429796  0.255868  0.168091 -0.099953   \n",
       "\n",
       "         7         8         9   ...        40        41        42        43  \\\n",
       "0  0.145410 -0.023604  0.146014  ...  0.273791  0.083687  0.201765 -0.458108   \n",
       "1  0.247731 -0.134833 -0.170577  ...  0.644464  0.024751 -0.037983 -0.130208   \n",
       "2 -0.080536 -0.099638 -0.011087  ...  0.545620 -0.013276 -0.004070 -0.300977   \n",
       "3 -0.048740 -0.333201 -0.064658  ...  0.780880  0.144425  0.014742 -0.467413   \n",
       "4  0.095028  0.164880  0.342105  ...  0.634047 -0.039552 -0.113946 -0.497591   \n",
       "\n",
       "         44        45        46        47        48        49  \n",
       "0  0.748384  0.772295  0.002920 -0.027175 -0.158647 -0.238712  \n",
       "1  0.796528  0.849185 -0.199121 -0.088433 -0.238068  0.095297  \n",
       "2  1.176739  0.976502  0.173980  0.092145  0.171500 -0.064618  \n",
       "3  0.855446  1.010961 -0.023708 -0.193350 -0.302259 -0.083789  \n",
       "4  0.772490  1.113699 -0.143467 -0.117670 -0.139136 -0.264278  \n",
       "\n",
       "[5 rows x 50 columns]"
      ]
     },
     "execution_count": 14,
     "metadata": {},
     "output_type": "execute_result"
    }
   ],
   "source": [
    "encoded_recipes.head()"
   ]
  },
  {
   "cell_type": "code",
   "execution_count": 15,
   "metadata": {},
   "outputs": [],
   "source": [
    "encoded_recipes = encoded_recipes[:test_range]"
   ]
  },
  {
   "cell_type": "markdown",
   "metadata": {},
   "source": [
    "<h2><br></h2>\n",
    "<h2>Clustering recipes</h2>\n",
    "<h3> Selecting cluster number</h3>"
   ]
  },
  {
   "cell_type": "code",
   "execution_count": 16,
   "metadata": {},
   "outputs": [],
   "source": [
    "@timer_func\n",
    "def batch_cluster(X_pca,cluster_start=2, cluster_stop=50, cluster_skip=10):    \n",
    "    '''Clusters data using mini-batch Kmeans'''\n",
    "    k_range = np.arange(cluster_start,cluster_stop,cluster_skip)\n",
    "    kmeans = [MiniBatchKMeans(n_clusters = k, n_init=100, random_state=10).fit(X_pca) for k in k_range]\n",
    "    inertia = [kmeans.inertia_ for kmeans in kmeans]\n",
    "    labels = [kmeans.labels_ for kmeans in kmeans]\n",
    "    s_scores = [silhouette_score(X_pca, kmeans_.labels_) for kmeans_ in kmeans]\n",
    "    return k_range, kmeans, inertia, labels, s_scores"
   ]
  },
  {
   "cell_type": "code",
   "execution_count": 17,
   "metadata": {},
   "outputs": [
    {
     "ename": "KeyboardInterrupt",
     "evalue": "",
     "output_type": "error",
     "traceback": [
      "\u001b[0;31m---------------------------------------------------------------------------\u001b[0m",
      "\u001b[0;31mKeyboardInterrupt\u001b[0m                         Traceback (most recent call last)",
      "Cell \u001b[0;32mIn[17], line 1\u001b[0m\n\u001b[0;32m----> 1\u001b[0m k_range, kmeans, inertia, labels, s_scores \u001b[39m=\u001b[39m batch_cluster(encoded_recipes, cluster_stop \u001b[39m=\u001b[39;49m \u001b[39m21\u001b[39;49m, cluster_skip \u001b[39m=\u001b[39;49m \u001b[39m1\u001b[39;49m)\n",
      "Cell \u001b[0;32mIn[10], line 5\u001b[0m, in \u001b[0;36mtimer_func.<locals>.wrap_func\u001b[0;34m(*args, **kwargs)\u001b[0m\n\u001b[1;32m      3\u001b[0m \u001b[39mdef\u001b[39;00m \u001b[39mwrap_func\u001b[39m(\u001b[39m*\u001b[39margs, \u001b[39m*\u001b[39m\u001b[39m*\u001b[39mkwargs):\n\u001b[1;32m      4\u001b[0m     t1 \u001b[39m=\u001b[39m time()\n\u001b[0;32m----> 5\u001b[0m     result \u001b[39m=\u001b[39m func(\u001b[39m*\u001b[39;49margs, \u001b[39m*\u001b[39;49m\u001b[39m*\u001b[39;49mkwargs)\n\u001b[1;32m      6\u001b[0m     t2 \u001b[39m=\u001b[39m time()\n\u001b[1;32m      7\u001b[0m     \u001b[39mprint\u001b[39m(\u001b[39mf\u001b[39m\u001b[39m'\u001b[39m\u001b[39mFunction \u001b[39m\u001b[39m{\u001b[39;00mfunc\u001b[39m.\u001b[39m\u001b[39m__name__\u001b[39m\u001b[39m!r}\u001b[39;00m\u001b[39m executed in \u001b[39m\u001b[39m{\u001b[39;00m(t2\u001b[39m-\u001b[39mt1)\u001b[39m:\u001b[39;00m\u001b[39m.4f\u001b[39m\u001b[39m}\u001b[39;00m\u001b[39ms\u001b[39m\u001b[39m'\u001b[39m)\n",
      "Cell \u001b[0;32mIn[16], line 8\u001b[0m, in \u001b[0;36mbatch_cluster\u001b[0;34m(X_pca, cluster_start, cluster_stop, cluster_skip)\u001b[0m\n\u001b[1;32m      6\u001b[0m inertia \u001b[39m=\u001b[39m [kmeans\u001b[39m.\u001b[39minertia_ \u001b[39mfor\u001b[39;00m kmeans \u001b[39min\u001b[39;00m kmeans]\n\u001b[1;32m      7\u001b[0m labels \u001b[39m=\u001b[39m [kmeans\u001b[39m.\u001b[39mlabels_ \u001b[39mfor\u001b[39;00m kmeans \u001b[39min\u001b[39;00m kmeans]\n\u001b[0;32m----> 8\u001b[0m s_scores \u001b[39m=\u001b[39m [silhouette_score(X_pca, kmeans_\u001b[39m.\u001b[39mlabels_) \u001b[39mfor\u001b[39;00m kmeans_ \u001b[39min\u001b[39;00m kmeans]\n\u001b[1;32m      9\u001b[0m \u001b[39mreturn\u001b[39;00m k_range, kmeans, inertia, labels, s_scores\n",
      "Cell \u001b[0;32mIn[16], line 8\u001b[0m, in \u001b[0;36m<listcomp>\u001b[0;34m(.0)\u001b[0m\n\u001b[1;32m      6\u001b[0m inertia \u001b[39m=\u001b[39m [kmeans\u001b[39m.\u001b[39minertia_ \u001b[39mfor\u001b[39;00m kmeans \u001b[39min\u001b[39;00m kmeans]\n\u001b[1;32m      7\u001b[0m labels \u001b[39m=\u001b[39m [kmeans\u001b[39m.\u001b[39mlabels_ \u001b[39mfor\u001b[39;00m kmeans \u001b[39min\u001b[39;00m kmeans]\n\u001b[0;32m----> 8\u001b[0m s_scores \u001b[39m=\u001b[39m [silhouette_score(X_pca, kmeans_\u001b[39m.\u001b[39;49mlabels_) \u001b[39mfor\u001b[39;00m kmeans_ \u001b[39min\u001b[39;00m kmeans]\n\u001b[1;32m      9\u001b[0m \u001b[39mreturn\u001b[39;00m k_range, kmeans, inertia, labels, s_scores\n",
      "File \u001b[0;32m~/Envs/food_env/lib/python3.10/site-packages/sklearn/utils/_param_validation.py:211\u001b[0m, in \u001b[0;36mvalidate_params.<locals>.decorator.<locals>.wrapper\u001b[0;34m(*args, **kwargs)\u001b[0m\n\u001b[1;32m    205\u001b[0m \u001b[39mtry\u001b[39;00m:\n\u001b[1;32m    206\u001b[0m     \u001b[39mwith\u001b[39;00m config_context(\n\u001b[1;32m    207\u001b[0m         skip_parameter_validation\u001b[39m=\u001b[39m(\n\u001b[1;32m    208\u001b[0m             prefer_skip_nested_validation \u001b[39mor\u001b[39;00m global_skip_validation\n\u001b[1;32m    209\u001b[0m         )\n\u001b[1;32m    210\u001b[0m     ):\n\u001b[0;32m--> 211\u001b[0m         \u001b[39mreturn\u001b[39;00m func(\u001b[39m*\u001b[39;49margs, \u001b[39m*\u001b[39;49m\u001b[39m*\u001b[39;49mkwargs)\n\u001b[1;32m    212\u001b[0m \u001b[39mexcept\u001b[39;00m InvalidParameterError \u001b[39mas\u001b[39;00m e:\n\u001b[1;32m    213\u001b[0m     \u001b[39m# When the function is just a wrapper around an estimator, we allow\u001b[39;00m\n\u001b[1;32m    214\u001b[0m     \u001b[39m# the function to delegate validation to the estimator, but we replace\u001b[39;00m\n\u001b[1;32m    215\u001b[0m     \u001b[39m# the name of the estimator by the name of the function in the error\u001b[39;00m\n\u001b[1;32m    216\u001b[0m     \u001b[39m# message to avoid confusion.\u001b[39;00m\n\u001b[1;32m    217\u001b[0m     msg \u001b[39m=\u001b[39m re\u001b[39m.\u001b[39msub(\n\u001b[1;32m    218\u001b[0m         \u001b[39mr\u001b[39m\u001b[39m\"\u001b[39m\u001b[39mparameter of \u001b[39m\u001b[39m\\\u001b[39m\u001b[39mw+ must be\u001b[39m\u001b[39m\"\u001b[39m,\n\u001b[1;32m    219\u001b[0m         \u001b[39mf\u001b[39m\u001b[39m\"\u001b[39m\u001b[39mparameter of \u001b[39m\u001b[39m{\u001b[39;00mfunc\u001b[39m.\u001b[39m\u001b[39m__qualname__\u001b[39m\u001b[39m}\u001b[39;00m\u001b[39m must be\u001b[39m\u001b[39m\"\u001b[39m,\n\u001b[1;32m    220\u001b[0m         \u001b[39mstr\u001b[39m(e),\n\u001b[1;32m    221\u001b[0m     )\n",
      "File \u001b[0;32m~/Envs/food_env/lib/python3.10/site-packages/sklearn/metrics/cluster/_unsupervised.py:131\u001b[0m, in \u001b[0;36msilhouette_score\u001b[0;34m(X, labels, metric, sample_size, random_state, **kwds)\u001b[0m\n\u001b[1;32m    129\u001b[0m     \u001b[39melse\u001b[39;00m:\n\u001b[1;32m    130\u001b[0m         X, labels \u001b[39m=\u001b[39m X[indices], labels[indices]\n\u001b[0;32m--> 131\u001b[0m \u001b[39mreturn\u001b[39;00m np\u001b[39m.\u001b[39mmean(silhouette_samples(X, labels, metric\u001b[39m=\u001b[39;49mmetric, \u001b[39m*\u001b[39;49m\u001b[39m*\u001b[39;49mkwds))\n",
      "File \u001b[0;32m~/Envs/food_env/lib/python3.10/site-packages/sklearn/utils/_param_validation.py:184\u001b[0m, in \u001b[0;36mvalidate_params.<locals>.decorator.<locals>.wrapper\u001b[0;34m(*args, **kwargs)\u001b[0m\n\u001b[1;32m    182\u001b[0m global_skip_validation \u001b[39m=\u001b[39m get_config()[\u001b[39m\"\u001b[39m\u001b[39mskip_parameter_validation\u001b[39m\u001b[39m\"\u001b[39m]\n\u001b[1;32m    183\u001b[0m \u001b[39mif\u001b[39;00m global_skip_validation:\n\u001b[0;32m--> 184\u001b[0m     \u001b[39mreturn\u001b[39;00m func(\u001b[39m*\u001b[39;49margs, \u001b[39m*\u001b[39;49m\u001b[39m*\u001b[39;49mkwargs)\n\u001b[1;32m    186\u001b[0m func_sig \u001b[39m=\u001b[39m signature(func)\n\u001b[1;32m    188\u001b[0m \u001b[39m# Map *args/**kwargs to the function signature\u001b[39;00m\n",
      "File \u001b[0;32m~/Envs/food_env/lib/python3.10/site-packages/sklearn/metrics/cluster/_unsupervised.py:283\u001b[0m, in \u001b[0;36msilhouette_samples\u001b[0;34m(X, labels, metric, **kwds)\u001b[0m\n\u001b[1;32m    279\u001b[0m kwds[\u001b[39m\"\u001b[39m\u001b[39mmetric\u001b[39m\u001b[39m\"\u001b[39m] \u001b[39m=\u001b[39m metric\n\u001b[1;32m    280\u001b[0m reduce_func \u001b[39m=\u001b[39m functools\u001b[39m.\u001b[39mpartial(\n\u001b[1;32m    281\u001b[0m     _silhouette_reduce, labels\u001b[39m=\u001b[39mlabels, label_freqs\u001b[39m=\u001b[39mlabel_freqs\n\u001b[1;32m    282\u001b[0m )\n\u001b[0;32m--> 283\u001b[0m results \u001b[39m=\u001b[39m \u001b[39mzip\u001b[39;49m(\u001b[39m*\u001b[39;49mpairwise_distances_chunked(X, reduce_func\u001b[39m=\u001b[39;49mreduce_func, \u001b[39m*\u001b[39;49m\u001b[39m*\u001b[39;49mkwds))\n\u001b[1;32m    284\u001b[0m intra_clust_dists, inter_clust_dists \u001b[39m=\u001b[39m results\n\u001b[1;32m    285\u001b[0m intra_clust_dists \u001b[39m=\u001b[39m np\u001b[39m.\u001b[39mconcatenate(intra_clust_dists)\n",
      "File \u001b[0;32m~/Envs/food_env/lib/python3.10/site-packages/sklearn/metrics/pairwise.py:2026\u001b[0m, in \u001b[0;36mpairwise_distances_chunked\u001b[0;34m(X, Y, reduce_func, metric, n_jobs, working_memory, **kwds)\u001b[0m\n\u001b[1;32m   2024\u001b[0m \u001b[39mif\u001b[39;00m reduce_func \u001b[39mis\u001b[39;00m \u001b[39mnot\u001b[39;00m \u001b[39mNone\u001b[39;00m:\n\u001b[1;32m   2025\u001b[0m     chunk_size \u001b[39m=\u001b[39m D_chunk\u001b[39m.\u001b[39mshape[\u001b[39m0\u001b[39m]\n\u001b[0;32m-> 2026\u001b[0m     D_chunk \u001b[39m=\u001b[39m reduce_func(D_chunk, sl\u001b[39m.\u001b[39;49mstart)\n\u001b[1;32m   2027\u001b[0m     _check_chunk_size(D_chunk, chunk_size)\n\u001b[1;32m   2028\u001b[0m \u001b[39myield\u001b[39;00m D_chunk\n",
      "File \u001b[0;32m~/Envs/food_env/lib/python3.10/site-packages/sklearn/metrics/cluster/_unsupervised.py:172\u001b[0m, in \u001b[0;36m_silhouette_reduce\u001b[0;34m(D_chunk, start, labels, label_freqs)\u001b[0m\n\u001b[1;32m    170\u001b[0m         sample_weights \u001b[39m=\u001b[39m D_chunk[i]\n\u001b[1;32m    171\u001b[0m         sample_labels \u001b[39m=\u001b[39m labels\n\u001b[0;32m--> 172\u001b[0m         cluster_distances[i] \u001b[39m+\u001b[39m\u001b[39m=\u001b[39m np\u001b[39m.\u001b[39;49mbincount(\n\u001b[1;32m    173\u001b[0m             sample_labels, weights\u001b[39m=\u001b[39;49msample_weights, minlength\u001b[39m=\u001b[39;49m\u001b[39mlen\u001b[39;49m(label_freqs)\n\u001b[1;32m    174\u001b[0m         )\n\u001b[1;32m    176\u001b[0m \u001b[39m# intra_index selects intra-cluster distances within cluster_distances\u001b[39;00m\n\u001b[1;32m    177\u001b[0m end \u001b[39m=\u001b[39m start \u001b[39m+\u001b[39m n_chunk_samples\n",
      "\u001b[0;31mKeyboardInterrupt\u001b[0m: "
     ]
    }
   ],
   "source": [
    "k_range, kmeans, inertia, labels, s_scores = batch_cluster(encoded_recipes, cluster_stop = 21, cluster_skip = 1)"
   ]
  },
  {
   "cell_type": "code",
   "execution_count": null,
   "metadata": {},
   "outputs": [
    {
     "data": {
      "image/png": "[encoded data removed]",
      "text/plain": [
       "<Figure size 640x480 with 1 Axes>"
      ]
     },
     "metadata": {},
     "output_type": "display_data"
    }
   ],
   "source": [
    "plt.plot(k_range,inertia,'.-')\n",
    "plt.xlabel('Cluster number', fontsize=14)\n",
    "#plt.ylabel('Inertia', fontsize=14)\n",
    "plt.title('Inertia')\n",
    "plt.xticks(np.arange(0,21,2))\n",
    "plt.show()"
   ]
  },
  {
   "cell_type": "code",
   "execution_count": null,
   "metadata": {},
   "outputs": [
    {
     "data": {
      "image/png": "[encoded data removed]",
      "text/plain": [
       "<Figure size 640x480 with 1 Axes>"
      ]
     },
     "metadata": {},
     "output_type": "display_data"
    }
   ],
   "source": [
    "plt.plot(k_range,s_scores,'.-')\n",
    "plt.xlabel('Cluster number', fontsize=14)\n",
    "#plt.ylabel('Silhoette score', fontsize=14)\n",
    "plt.xticks(np.arange(0,21,2))\n",
    "plt.title('Silhouette score')\n",
    "plt.show()"
   ]
  },
  {
   "cell_type": "markdown",
   "metadata": {},
   "source": [
    "<h3><br></h3>\n",
    "<h3>Selected cluster labels</h3>"
   ]
  },
  {
   "cell_type": "code",
   "execution_count": null,
   "metadata": {},
   "outputs": [],
   "source": [
    "#select clusdter number and add cluster ID to embeddings\n",
    "CLUSTER_NUM = 8\n",
    "labels_ = labels[CLUSTER_NUM-2]\n",
    "#encoded_recipes['Cluster ID'] = labels_"
   ]
  },
  {
   "cell_type": "markdown",
   "metadata": {},
   "source": [
    "<h2><br></h2>\n",
    "<h2>Visualizing clusters</h3>"
   ]
  },
  {
   "cell_type": "code",
   "execution_count": null,
   "metadata": {},
   "outputs": [],
   "source": [
    "encoded_recipes.columns = encoded_recipes.columns.astype(str)\n",
    "visual_names = ['t-TSNE','Locally linear embedding','Multidimensional scaling','Isomap']\n",
    "visual_models = [\n",
    "    TSNE(n_components=2,n_jobs=-1),\n",
    "    LLE(n_components=2, n_neighbors=10, n_jobs=-1),\n",
    "    MDS(n_components=2, normalized_stress='auto',n_jobs=-1),\n",
    "    Isomap(n_jobs=-1)\n",
    "]"
   ]
  },
  {
   "cell_type": "code",
   "execution_count": null,
   "metadata": {},
   "outputs": [],
   "source": [
    "for name,model in zip(visual_names,visual_models):\n",
    "    X_reduced = model.fit_transform(encoded_recipes[:10_000])\n",
    "    X_reduced = pd.DataFrame(X_reduced, columns=['1','2'])\n",
    "    X_reduced['Cluster ID'] = labels_\n",
    "\n",
    "    sns.scatterplot(data=X_reduced, x='1',y='2',hue='Cluster ID',palette='Spectral')\n",
    "    plt.title(name, fontsize=18)\n",
    "    plt.legend(bbox_to_anchor=(1,1))\n",
    "    plt.show()"
   ]
  },
  {
   "cell_type": "markdown",
   "metadata": {},
   "source": [
    "<h3></br></h3>\n",
    "<h3>Word clouds</h3>"
   ]
  },
  {
   "cell_type": "code",
   "execution_count": null,
   "metadata": {},
   "outputs": [],
   "source": [
    "cloud_names = ['Cheese dishes', 'Baked goods', 'Desserts', 'Salads', 'Chicken', 'Tropical fruits', 'Casseroles and pastas', 'Crockpot meals']"
   ]
  },
  {
   "cell_type": "code",
   "execution_count": null,
   "metadata": {},
   "outputs": [],
   "source": [
    "count = 1\n",
    "def show_cloud(embeded_recipes,raw_recipes_,key):\n",
    "    raw_recipes_ = raw_recipes_.iloc[:test_range,:]\n",
    "    raw_recipes_['Cluster_ID']=labels_\n",
    "    plt.figure(figsize=(6,10))\n",
    "    for k in range(CLUSTER_NUM):\n",
    "        df_k = raw_recipes_[raw_recipes_['Cluster_ID']==k][key]\n",
    "        list_k = df_k.to_list()\n",
    "        cluster_ingred = ''\n",
    "        for ingredients in list_k:\n",
    "            if key == 'ingredients':\n",
    "                cleaned_ingredients = clean_one_recipe(ingredients)\n",
    "                cleaned_ingredients = ' '.join(cleaned_ingredients)\n",
    "            else: \n",
    "                cleaned_ingredients = str(ingredients)\n",
    "                cleaned_ingredients = cleaned_ingredients.replace(' s ','')\n",
    "            cluster_ingred += cleaned_ingredients+' '\n",
    "        wordcloud = WordCloud().generate(cluster_ingred)\n",
    "        plt.subplot(5,2,k+1)\n",
    "        plt.imshow(wordcloud, interpolation='bilinear')\n",
    "        plt.axis('off')\n",
    "        plt.title(cloud_names[k])\n",
    "    plt.tight_layout()"
   ]
  },
  {
   "cell_type": "code",
   "execution_count": null,
   "metadata": {},
   "outputs": [],
   "source": [
    "show_cloud(encoded_recipes,raw_recipes_,'ingredients')"
   ]
  },
  {
   "cell_type": "code",
   "execution_count": null,
   "metadata": {},
   "outputs": [],
   "source": [
    "show_cloud(encoded_recipes,raw_recipes_,'name')"
   ]
  },
  {
   "cell_type": "markdown",
   "metadata": {},
   "source": [
    "<h2><br></h2>\n",
    "<h2>Works referenced</h2>\n",
    "\n",
    "1. paper\n",
    "2. Pennington, J., Socher, R., Manning, C.D. \"GLoVe: Global Vectors for Word Representation.\" <i>Standard University</i>. Aug. 2014. https://nlp.stanford.edu/projects/glove.\n",
    "3. MLNerds. \"What is the difference between word2Vec and GloVe?\" Feb. 2019. https://machinelearninginterview.com/topics/natural-language-processing/what-is-the-difference-between-word2vec-and-glove/.\n",
    "4. Geron, A. <i>Hands-On Machine Learning with Scikit-Learn</i>, Keras & TensorFlow. 3rd Edition. O'Reilly, 2023. pg. 254-257."
   ]
  }
 ],
 "metadata": {
  "kernelspec": {
   "display_name": "food_env",
   "language": "python",
   "name": "food_env"
  },
  "language_info": {
   "codemirror_mode": {
    "name": "ipython",
    "version": 3
   },
   "file_extension": ".py",
   "mimetype": "text/x-python",
   "name": "python",
   "nbconvert_exporter": "python",
   "pygments_lexer": "ipython3",
   "version": "3.10.12"
  },
  "orig_nbformat": 4
 },
 "nbformat": 4,
 "nbformat_minor": 2
}
