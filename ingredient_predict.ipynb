{
 "cells": [
  {
   "cell_type": "markdown",
   "metadata": {},
   "source": [
    "<h1>What's for dinenr?</h1>\n",
    "<h4><i> An simple LSTM model generates dinner suggestions from partial ingredient list </i><h4>\n",
    "<h4><br></h4>\n",
    "<h2>Introduction</h2>\n",
    "\n",
    "\n",
    "<h2>Data Cleaning</h2>\n",
    "<h3> Ingredient Data </h3>"
   ]
  },
  {
   "cell_type": "code",
   "execution_count": 177,
   "metadata": {
    "ExecuteTime": {
     "end_time": "2023-08-21T20:40:24.887278154Z",
     "start_time": "2023-08-21T20:40:24.792580892Z"
    }
   },
   "outputs": [],
   "source": [
    "import pandas as pd\n",
    "import re\n",
    "import numpy as np\n",
    "import matplotlib.pyplot as plt\n",
    "from collections import Counter\n",
    "import pickle\n",
    "\n",
    "import tensorflow as tf\n",
    "import gensim.downloader as api\n",
    "from gensim.models import Word2Vec\n",
    "from tensorflow.keras.models import Sequential\n",
    "from tensorflow.keras.layers import Embedding, LSTM, Dense, Dropout\n",
    "from keras.preprocessing.text import Tokenizer\n",
    "\n",
    "import seaborn as sns\n",
    "#from wordcloud import WordCloud"
   ]
  },
  {
   "cell_type": "code",
   "execution_count": 180,
   "metadata": {
    "ExecuteTime": {
     "end_time": "2023-08-21T20:40:25.149859048Z",
     "start_time": "2023-08-21T20:40:24.800011892Z"
    }
   },
   "outputs": [
    {
     "data": {
      "text/plain": "                                                raw_ingr replaced\n0      medium heads bibb or red leaf lettuce, washed,...  lettuce\n1                  mixed baby lettuces and spring greens  lettuce\n2                                   romaine lettuce leaf  lettuce\n3                                   iceberg lettuce leaf  lettuce\n4                                    red romaine lettuce  lettuce\n...                                                  ...      ...\n11654                                           soybeans  soybean\n11655                                              goose    goose\n11656                                             ajwain   ajwain\n11657                                           brinjals  brinjal\n11658                                              khoya    khoya\n\n[11659 rows x 2 columns]",
      "text/html": "<div>\n<style scoped>\n    .dataframe tbody tr th:only-of-type {\n        vertical-align: middle;\n    }\n\n    .dataframe tbody tr th {\n        vertical-align: top;\n    }\n\n    .dataframe thead th {\n        text-align: right;\n    }\n</style>\n<table border=\"1\" class=\"dataframe\">\n  <thead>\n    <tr style=\"text-align: right;\">\n      <th></th>\n      <th>raw_ingr</th>\n      <th>replaced</th>\n    </tr>\n  </thead>\n  <tbody>\n    <tr>\n      <th>0</th>\n      <td>medium heads bibb or red leaf lettuce, washed,...</td>\n      <td>lettuce</td>\n    </tr>\n    <tr>\n      <th>1</th>\n      <td>mixed baby lettuces and spring greens</td>\n      <td>lettuce</td>\n    </tr>\n    <tr>\n      <th>2</th>\n      <td>romaine lettuce leaf</td>\n      <td>lettuce</td>\n    </tr>\n    <tr>\n      <th>3</th>\n      <td>iceberg lettuce leaf</td>\n      <td>lettuce</td>\n    </tr>\n    <tr>\n      <th>4</th>\n      <td>red romaine lettuce</td>\n      <td>lettuce</td>\n    </tr>\n    <tr>\n      <th>...</th>\n      <td>...</td>\n      <td>...</td>\n    </tr>\n    <tr>\n      <th>11654</th>\n      <td>soybeans</td>\n      <td>soybean</td>\n    </tr>\n    <tr>\n      <th>11655</th>\n      <td>goose</td>\n      <td>goose</td>\n    </tr>\n    <tr>\n      <th>11656</th>\n      <td>ajwain</td>\n      <td>ajwain</td>\n    </tr>\n    <tr>\n      <th>11657</th>\n      <td>brinjals</td>\n      <td>brinjal</td>\n    </tr>\n    <tr>\n      <th>11658</th>\n      <td>khoya</td>\n      <td>khoya</td>\n    </tr>\n  </tbody>\n</table>\n<p>11659 rows × 2 columns</p>\n</div>"
     },
     "execution_count": 180,
     "metadata": {},
     "output_type": "execute_result"
    }
   ],
   "source": [
    "#precleaned dataframe will be used to clena data\n",
    "precleaned_key = pd.read_pickle('ingr_map.pkl')\n",
    "precleaned_key[['raw_ingr','replaced']]"
   ]
  },
  {
   "cell_type": "markdown",
   "source": [],
   "metadata": {
    "collapsed": false
   }
  },
  {
   "cell_type": "code",
   "execution_count": 182,
   "metadata": {
    "ExecuteTime": {
     "end_time": "2023-08-21T20:40:25.151569065Z",
     "start_time": "2023-08-21T20:40:24.870190077Z"
    }
   },
   "outputs": [],
   "source": [
    "cleaning_key = dict(zip(precleaned_key['raw_ingr'],precleaned_key['replaced']))"
   ]
  },
  {
   "cell_type": "code",
   "execution_count": 183,
   "metadata": {
    "ExecuteTime": {
     "end_time": "2023-08-21T20:40:25.151607493Z",
     "start_time": "2023-08-21T20:40:24.870211346Z"
    }
   },
   "outputs": [],
   "source": [
    "class CleanRecipes():\n",
    "    def __init__(self,cleaning_key=cleaning_key): \n",
    "        self.raw_recipes = self.import_data()\n",
    "        self.input_sequences = self.raw_recipes['ingredients'].apply(self.string_to_list).to_list()\n",
    "        print(self.input_sequences)\n",
    "        self.cleaned_ingredients = []\n",
    "        self.cleaning_key = cleaning_key\n",
    "\n",
    "    def __call__(self):\n",
    "        self.cleaned_ingredients = self.clean_text()\n",
    "        return self.raw_recipes, self.input_sequences, self.cleaned_ingredients\n",
    "\n",
    "    def import_data(self):\n",
    "        #'''Imporrhow to run a jupyter notebook in a gpu docker contqainert cleaned recipe, raw recipe and ratings data'''\n",
    "        raw_recipes = pd.read_csv('RAW_recipes.csv')\n",
    "        del raw_recipes['contributor_id']\n",
    "        del raw_recipes['submitted']\n",
    "        del raw_recipes['tags']\n",
    "        del raw_recipes['steps']\n",
    "        del raw_recipes['description']\n",
    "        raw_recipes = raw_recipes.set_index('id')\n",
    "        return raw_recipes\n",
    "\n",
    "    def string_to_list(self,s):\n",
    "        '''Converts a string that is formatted like a list to a list'''\n",
    "        l = re.findall(r'\\w[\\w\\s]+',s)\n",
    "        return l\n",
    "\n",
    "    def clean_text(self):\n",
    "        #all_ingredients = [x for sublist in self.input_sequences for x in sublist]\n",
    "        for recipe in self.input_sequences:\n",
    "            ingredient_bundle = []\n",
    "            for ingredient in recipe:\n",
    "                try:\n",
    "                    ingredient_bundle.append(self.cleaning_key[ingredient])\n",
    "                except:\n",
    "                    ingredient_bundle.append(ingredient)\n",
    "            self.cleaned_ingredients.append(ingredient_bundle)\n",
    "        return self.cleaned_ingredients"
   ]
  },
  {
   "cell_type": "code",
   "execution_count": 307,
   "outputs": [
    {
     "name": "stderr",
     "output_type": "stream",
     "text": [
      "IOPub data rate exceeded.\n",
      "The notebook server will temporarily stop sending output\n",
      "to the client in order to avoid crashing it.\n",
      "To change this limit, set the config variable\n",
      "`--NotebookApp.iopub_data_rate_limit`.\n",
      "\n",
      "Current values:\n",
      "NotebookApp.iopub_data_rate_limit=1000000.0 (bytes/sec)\n",
      "NotebookApp.rate_limit_window=3.0 (secs)\n",
      "\n"
     ]
    },
    {
     "data": {
      "text/plain": "['pizza crust', 'sausage', 'egg', 'milk', 'salt and pepper', 'cheese']"
     },
     "execution_count": 307,
     "metadata": {},
     "output_type": "execute_result"
    }
   ],
   "source": [
    "cleaner = CleanRecipes()\n",
    "raw_recipes, input_sequences, cleaned_sequences = cleaner()\n",
    "cleaned_sequences[1]"
   ],
   "metadata": {
    "collapsed": false,
    "ExecuteTime": {
     "end_time": "2023-08-21T21:03:08.907686282Z",
     "start_time": "2023-08-21T21:03:05.840998203Z"
    }
   }
  },
  {
   "cell_type": "raw",
   "source": [
    "<h3><br><h3>\n",
    "<h3> Cleaning recipe names </h3>"
   ],
   "metadata": {
    "collapsed": false
   }
  },
  {
   "cell_type": "code",
   "execution_count": 302,
   "outputs": [
    {
     "name": "stdout",
     "output_type": "stream",
     "text": [
      "['arriba   baked winter squash mexican style', 'a bit different  breakfast pizza', 'all in the kitchen  chili', 'alouette  potatoes', 'amish  tomato ketchup  for canning', 'apple a day  milk shake', 'aww  marinated olives', 'backyard style  barbecued ribs', 'bananas 4 ice cream  pie', 'beat this  banana bread']\n"
     ]
    },
    {
     "data": {
      "text/plain": "[['arriba', 'baked', 'winter', 'squash', 'mexican', 'style'],\n ['a', 'bit', 'different', 'breakfast', 'pizza'],\n ['all', 'in', 'the', 'kitchen', 'chili'],\n ['alouette', 'potatoes'],\n ['amish', 'tomato', 'ketchup', 'for', 'canning'],\n ['apple', 'a', 'day', 'milk', 'shake'],\n ['aww', 'marinated', 'olives'],\n ['backyard', 'style', 'barbecued', 'ribs'],\n ['bananas', '4', 'ice', 'cream', 'pie'],\n ['beat', 'this', 'banana', 'bread']]"
     },
     "execution_count": 302,
     "metadata": {},
     "output_type": "execute_result"
    }
   ],
   "source": [
    "#removing extra spaces\n",
    "names = raw_recipes['name'].to_list()\n",
    "def empty_check(s):\n",
    "    if s != '':\n",
    "        return True\n",
    "    else: return False\n",
    "\n",
    "cleaned_names = []\n",
    "for name in names:\n",
    "    cleaned_names.append(list(filter(empty_check,str(name).split(' '))))\n",
    "    \n",
    "print(names[:10])\n",
    "cleaned_names[:10]"
   ],
   "metadata": {
    "collapsed": false,
    "ExecuteTime": {
     "start_time": "2023-08-21T21:00:24.947657407Z"
    }
   }
  },
  {
   "cell_type": "markdown",
   "source": [
    "<h2><br></h2>\n",
    "<h2>EDA</h2>"
   ],
   "metadata": {
    "collapsed": false
   }
  },
  {
   "cell_type": "code",
   "execution_count": 310,
   "outputs": [
    {
     "data": {
      "text/plain": "<Figure size 640x480 with 1 Axes>",
      "image/png": "[encoded data removed]"
     },
     "metadata": {},
     "output_type": "display_data"
    }
   ],
   "source": [
    "#ingredient list length\n",
    "lengths = [len(x) for x in cleaned_sequences]\n",
    "plt.style.use('ggplot')\n",
    "sns.histplot(pd.DataFrame(lengths),legend=False)\n",
    "plt.title('Ingredients per recipe')\n",
    "plt.xlabel('Length')\n",
    "plt.show()"
   ],
   "metadata": {
    "collapsed": false,
    "ExecuteTime": {
     "end_time": "2023-08-21T21:05:26.189778452Z",
     "start_time": "2023-08-21T21:05:25.961328775Z"
    }
   }
  },
  {
   "cell_type": "code",
   "execution_count": 309,
   "outputs": [
    {
     "data": {
      "text/plain": "<Figure size 640x480 with 1 Axes>",
      "image/png": "[encoded data removed]"
     },
     "metadata": {},
     "output_type": "display_data"
    }
   ],
   "source": [
    "#Recipe name length\n",
    "lengths = [len(x) for x in cleaned_names]\n",
    "plt.style.use('ggplot')\n",
    "sns.histplot(pd.DataFrame(lengths),legend=False)\n",
    "plt.title('Words in a recipe name')\n",
    "plt.xlabel('Length')\n",
    "plt.show()"
   ],
   "metadata": {
    "collapsed": false,
    "ExecuteTime": {
     "end_time": "2023-08-21T21:05:21.134557209Z",
     "start_time": "2023-08-21T21:05:20.929893484Z"
    }
   }
  },
  {
   "cell_type": "code",
   "execution_count": 186,
   "metadata": {
    "ExecuteTime": {
     "end_time": "2023-08-21T20:40:28.021199090Z",
     "start_time": "2023-08-21T20:40:28.018015634Z"
    }
   },
   "outputs": [
    {
     "data": {
      "text/plain": "\"\\nall_words = ' '.join([x for sublist in cleaned_sequences for x in sublist])\\nwordcloud = WordCloud().generate(all_words)\\nplt.imshow(wordcloud, interpolation='bilinear')\\nplt.axis('off')\\nplt.title('Word frequencies');\\n\""
     },
     "execution_count": 186,
     "metadata": {},
     "output_type": "execute_result"
    }
   ],
   "source": [
    "#overview of frequencies\n",
    "'''\n",
    "all_words = ' '.join([x for sublist in cleaned_sequences for x in sublist])\n",
    "wordcloud = WordCloud().generate(all_words)\n",
    "plt.imshow(wordcloud, interpolation='bilinear')\n",
    "plt.axis('off')\n",
    "plt.title('Word frequencies');\n",
    "'''"
   ]
  },
  {
   "cell_type": "code",
   "execution_count": 187,
   "metadata": {
    "ExecuteTime": {
     "end_time": "2023-08-21T20:40:28.024626410Z",
     "start_time": "2023-08-21T20:40:28.020049308Z"
    }
   },
   "outputs": [],
   "source": [
    "#top words\n",
    "def get_top(cleaned_sequences):\n",
    "    ingred = [x for sublist in cleaned_sequences for x in sublist]\n",
    "    ingred_counts = Counter(ingred).most_common()\n",
    "    #top_ingredients = [ingred_counts[n][0] for n in range(len(ingred_counts))]\n",
    "    return ingred_counts"
   ]
  },
  {
   "cell_type": "code",
   "execution_count": 188,
   "metadata": {
    "ExecuteTime": {
     "end_time": "2023-08-21T20:40:28.337730149Z",
     "start_time": "2023-08-21T20:40:28.023763255Z"
    }
   },
   "outputs": [
    {
     "data": {
      "text/plain": "<Figure size 1000x400 with 2 Axes>",
      "image/png": "[encoded data removed]"
     },
     "metadata": {},
     "output_type": "display_data"
    }
   ],
   "source": [
    "tops = get_top(cleaned_sequences)\n",
    "sorted_ingredients = [x[0] for x in tops]\n",
    "sorted_counts = [x[1] for x in tops]\n",
    "\n",
    "count_range = 10 \n",
    "plt.figure(figsize=(10,4))\n",
    "plt.style.use('ggplot')\n",
    "plt.suptitle('Ingredient Frequencies',fontsize=18)\n",
    "plt.subplot(1,2,1)\n",
    "plt.bar(sorted_ingredients[:count_range], sorted_counts[:count_range])\n",
    "plt.xticks(rotation=90)\n",
    "plt.ylim((0,90_000))\n",
    "plt.title('Most common')\n",
    "\n",
    "plt.subplot(1,2,2)\n",
    "plt.bar(sorted_ingredients[-count_range:], sorted_counts[-count_range:])\n",
    "plt.xticks(rotation=90)\n",
    "plt.ylim((0,90_000))\n",
    "plt.title('Least common');"
   ]
  },
  {
   "cell_type": "markdown",
   "metadata": {},
   "source": [
    "<h2><br></h2>\n",
    "<h2>Tokenizing ingredients</h2>"
   ]
  },
  {
   "cell_type": "code",
   "execution_count": 189,
   "metadata": {
    "ExecuteTime": {
     "end_time": "2023-08-21T20:40:28.339568382Z",
     "start_time": "2023-08-21T20:40:28.337075832Z"
    }
   },
   "outputs": [],
   "source": [
    "pad_value = int(0)"
   ]
  },
  {
   "cell_type": "code",
   "execution_count": 190,
   "metadata": {
    "ExecuteTime": {
     "end_time": "2023-08-21T20:40:28.345473299Z",
     "start_time": "2023-08-21T20:40:28.341714250Z"
    }
   },
   "outputs": [],
   "source": [
    "class TokenizeRecipes():\n",
    "    def __init__(self, input_sequences):\n",
    "        self.tokenizer = Tokenizer()\n",
    "        self.input_sequences = input_sequences\n",
    "    \n",
    "    def __call__(self):\n",
    "        self.tokenizer, self.ngram_sequences, self.totalwords = self.get_sequence_of_tokens()\n",
    "        self.max_length = self.find_max()\n",
    "        self.padded_sequence = self.pad_sequences()\n",
    "        self.padded_sequence = np.array(self.padded_sequence)\n",
    "        self.predictors, self.label = self.padded_sequence[:,:-1],self.padded_sequence[:,-1]\n",
    "        return self.tokenizer, self.max_length, self.totalwords, self.label, self.predictors\n",
    "\n",
    "    def get_sequence_of_tokens(self):\n",
    "        '''Tokenization'''    \n",
    "        self.tokenizer.fit_on_texts(self.input_sequences)\n",
    "        self.total_words = len(self.tokenizer.word_index) + 1\n",
    "\n",
    "        self.ngram_sequences = []\n",
    "        for line in self.input_sequences:\n",
    "            token_list = self.tokenizer.texts_to_sequences([line])[0]\n",
    "            for i in range(1, len(token_list)):\n",
    "                n_gram_sequence = token_list[:i+1]\n",
    "                self.ngram_sequences.append(n_gram_sequence)\n",
    "        return self.tokenizer, self.ngram_sequences, self.total_words\n",
    "\n",
    "    def find_max(self):\n",
    "        '''find max token length'''\n",
    "        self.max_length = max(len(x) for x in self.input_sequences)\n",
    "        return self.max_length\n",
    "\n",
    "    def pad_sequences(self):\n",
    "        '''pad sequences (built in function returns a recursion error)'''\n",
    "        self.padded_sequence = []\n",
    "        for sequence_in in self.ngram_sequences:\n",
    "            zeros = (self.max_length-len(sequence_in))\n",
    "            padded = [pad_value for zero in range(zeros)]\n",
    "            padded.extend(sequence_in)\n",
    "            self.padded_sequence.append(padded)\n",
    "        return self.padded_sequence"
   ]
  },
  {
   "cell_type": "code",
   "execution_count": 191,
   "metadata": {
    "ExecuteTime": {
     "end_time": "2023-08-21T20:40:35.658363426Z",
     "start_time": "2023-08-21T20:40:28.342892346Z"
    }
   },
   "outputs": [
    {
     "data": {
      "text/plain": "12413"
     },
     "execution_count": 191,
     "metadata": {},
     "output_type": "execute_result"
    }
   ],
   "source": [
    "tokenizer,max_length,total_words,label,predictors = TokenizeRecipes(cleaned_sequences)()\n",
    "total_words"
   ]
  },
  {
   "cell_type": "code",
   "execution_count": 192,
   "metadata": {
    "ExecuteTime": {
     "end_time": "2023-08-21T20:40:35.658534863Z",
     "start_time": "2023-08-21T20:40:35.650187180Z"
    }
   },
   "outputs": [
    {
     "data": {
      "text/plain": "44"
     },
     "execution_count": 192,
     "metadata": {},
     "output_type": "execute_result"
    }
   ],
   "source": [
    "max_length"
   ]
  },
  {
   "cell_type": "markdown",
   "metadata": {},
   "source": [
    "Embedding words using word2vec"
   ]
  },
  {
   "cell_type": "code",
   "execution_count": 193,
   "metadata": {
    "ExecuteTime": {
     "end_time": "2023-08-21T20:40:35.775064704Z",
     "start_time": "2023-08-21T20:40:35.650273745Z"
    }
   },
   "outputs": [
    {
     "data": {
      "text/plain": "{'corpora': ['semeval-2016-2017-task3-subtaskBC',\n  'semeval-2016-2017-task3-subtaskA-unannotated',\n  'patent-2017',\n  'quora-duplicate-questions',\n  'wiki-english-20171001',\n  'text8',\n  'fake-news',\n  '20-newsgroups',\n  '__testing_matrix-synopsis',\n  '__testing_multipart-matrix-synopsis'],\n 'models': ['fasttext-wiki-news-subwords-300',\n  'conceptnet-numberbatch-17-06-300',\n  'word2vec-ruscorpora-300',\n  'word2vec-google-news-300',\n  'glove-wiki-gigaword-50',\n  'glove-wiki-gigaword-100',\n  'glove-wiki-gigaword-200',\n  'glove-wiki-gigaword-300',\n  'glove-twitter-25',\n  'glove-twitter-50',\n  'glove-twitter-100',\n  'glove-twitter-200',\n  '__testing_word2vec-matrix-synopsis']}"
     },
     "execution_count": 193,
     "metadata": {},
     "output_type": "execute_result"
    }
   ],
   "source": [
    "api.info(name_only=True)"
   ]
  },
  {
   "cell_type": "code",
   "execution_count": 194,
   "metadata": {
    "ExecuteTime": {
     "end_time": "2023-08-21T20:40:35.815955784Z",
     "start_time": "2023-08-21T20:40:35.790927253Z"
    }
   },
   "outputs": [],
   "source": [
    "all_sequences = [x for list1 in cleaned_sequences for x in list1]"
   ]
  },
  {
   "cell_type": "code",
   "execution_count": 195,
   "metadata": {
    "ExecuteTime": {
     "end_time": "2023-08-21T20:40:56.289385137Z",
     "start_time": "2023-08-21T20:40:35.816289265Z"
    }
   },
   "outputs": [],
   "source": [
    "embed_model = api.load('word2vec-google-news-300')"
   ]
  },
  {
   "cell_type": "code",
   "execution_count": 196,
   "metadata": {
    "ExecuteTime": {
     "end_time": "2023-08-21T20:40:56.297797077Z",
     "start_time": "2023-08-21T20:40:56.289750873Z"
    }
   },
   "outputs": [],
   "source": [
    "embed_size = 300"
   ]
  },
  {
   "cell_type": "code",
   "execution_count": 197,
   "metadata": {
    "ExecuteTime": {
     "end_time": "2023-08-21T20:40:56.297874469Z",
     "start_time": "2023-08-21T20:40:56.291921379Z"
    }
   },
   "outputs": [],
   "source": [
    "def embed_one_ingredient(ingredient):\n",
    "    '''Encode a single recipe'''\n",
    "    recipe_embedding = []\n",
    "    try:\n",
    "        recipe_embedding.append(embed_model[ingredient])\n",
    "    except:\n",
    "        recipe_embedding.append(np.zeros((embed_size)))\n",
    "    #recipe_embedding = pd.DataFrame(recipe_embedding)\n",
    "    return recipe_embedding"
   ]
  },
  {
   "cell_type": "code",
   "execution_count": 198,
   "metadata": {
    "ExecuteTime": {
     "end_time": "2023-08-21T20:40:56.297978623Z",
     "start_time": "2023-08-21T20:40:56.295146887Z"
    }
   },
   "outputs": [
    {
     "data": {
      "text/plain": "'honey'"
     },
     "execution_count": 198,
     "metadata": {},
     "output_type": "execute_result"
    }
   ],
   "source": [
    "test_word = cleaned_sequences[:1][0][3]\n",
    "test_word"
   ]
  },
  {
   "cell_type": "code",
   "execution_count": 199,
   "metadata": {
    "ExecuteTime": {
     "end_time": "2023-08-21T20:40:56.342545728Z",
     "start_time": "2023-08-21T20:40:56.297763977Z"
    }
   },
   "outputs": [
    {
     "data": {
      "text/plain": "[array([-4.54711914e-03, -1.25976562e-01, -1.68945312e-01,  6.17675781e-02,\n         1.94549561e-03,  2.57568359e-02, -9.52148438e-02, -3.39843750e-01,\n        -6.53076172e-03,  1.54296875e-01,  3.88183594e-02, -3.12500000e-01,\n        -3.04687500e-01,  2.23632812e-01, -1.61132812e-01,  2.15820312e-01,\n        -3.02734375e-01,  1.63085938e-01, -2.73437500e-01, -2.10937500e-01,\n        -2.50244141e-02,  8.00781250e-02,  1.82617188e-01, -2.51464844e-02,\n        -1.61132812e-01,  5.32226562e-02, -4.68750000e-02, -3.01513672e-02,\n        -2.24609375e-02, -4.15039062e-02, -2.16064453e-02, -1.03027344e-01,\n        -1.22680664e-02, -1.12792969e-01, -3.28125000e-01,  1.18164062e-01,\n         1.76757812e-01, -1.90429688e-01,  2.51953125e-01,  2.20703125e-01,\n         1.66992188e-01, -1.87500000e-01,  1.62109375e-01,  4.34570312e-02,\n        -3.51562500e-01, -2.92968750e-01, -7.86132812e-02,  8.34960938e-02,\n        -5.27954102e-03, -6.68945312e-02, -2.98828125e-01,  2.81250000e-01,\n        -9.81445312e-02,  4.30297852e-03,  9.17968750e-02, -1.53320312e-01,\n        -1.97265625e-01,  1.07910156e-01,  2.40478516e-02, -3.32031250e-01,\n         4.68750000e-02,  1.75781250e-02, -3.97949219e-02,  2.83203125e-01,\n         9.37500000e-02, -2.53906250e-01, -1.91406250e-01, -2.55859375e-01,\n         3.61328125e-02,  1.62353516e-02,  5.07812500e-02,  2.64892578e-02,\n        -9.57031250e-02, -1.28906250e-01, -1.66992188e-01,  2.32421875e-01,\n        -1.78710938e-01, -1.16210938e-01,  1.45507812e-01, -2.42919922e-02,\n        -1.56250000e-01, -8.30078125e-02,  1.64062500e-01, -1.64062500e-01,\n        -2.08007812e-01,  1.32812500e-01, -1.77734375e-01,  3.47656250e-01,\n        -3.39355469e-02,  2.08007812e-01,  2.69775391e-02,  1.91406250e-01,\n        -3.04687500e-01, -3.90625000e-01,  2.63977051e-03, -7.47070312e-02,\n         4.12597656e-02, -3.16406250e-01,  1.58203125e-01, -2.00195312e-01,\n        -2.08007812e-01, -2.38281250e-01,  4.93164062e-02, -1.06933594e-01,\n        -1.23046875e-01, -1.15234375e-01,  3.78417969e-02,  1.29882812e-01,\n        -9.22851562e-02, -4.58984375e-02, -1.72851562e-01, -7.72094727e-03,\n        -1.64062500e-01,  2.50000000e-01, -5.07812500e-02,  1.74804688e-01,\n         1.13769531e-01, -2.77343750e-01, -2.77343750e-01, -1.05957031e-01,\n        -1.62353516e-02,  2.41210938e-01, -1.76757812e-01, -6.10351562e-02,\n         1.23535156e-01,  1.66015625e-01, -4.57763672e-04, -2.50244141e-02,\n         2.63671875e-01,  1.61132812e-01, -4.51171875e-01,  2.87109375e-01,\n         4.88281250e-04,  1.34765625e-01, -1.78710938e-01, -8.25195312e-02,\n         5.67626953e-03, -3.49121094e-02,  1.61132812e-01,  8.74023438e-02,\n         1.89453125e-01, -1.68945312e-01, -6.98242188e-02, -3.16406250e-01,\n        -7.86132812e-02, -9.52148438e-02,  6.25000000e-02,  1.03027344e-01,\n        -2.10937500e-01,  1.00708008e-02,  2.66113281e-02, -1.67968750e-01,\n        -2.92968750e-01, -3.51562500e-02,  5.24902344e-02, -2.25585938e-01,\n        -4.29687500e-02, -1.08398438e-01, -3.67187500e-01,  6.44531250e-02,\n        -2.46093750e-01,  3.50952148e-03,  1.86523438e-01,  8.30078125e-03,\n         4.00390625e-02,  3.78417969e-02,  9.71679688e-02,  3.06396484e-02,\n        -2.13867188e-01, -3.78417969e-02,  8.54492188e-02,  1.88476562e-01,\n        -5.79833984e-03, -6.10351562e-02, -3.94531250e-01, -1.26953125e-01,\n         2.03125000e-01, -5.98144531e-02,  1.07421875e-01, -8.49609375e-02,\n        -8.10546875e-02, -1.25976562e-01,  2.23388672e-02,  1.78710938e-01,\n        -3.80859375e-02,  2.70996094e-02, -1.33789062e-01,  6.10351562e-02,\n        -7.12890625e-02,  3.41796875e-01, -2.77343750e-01, -5.29785156e-02,\n         1.32812500e-01,  2.32421875e-01,  1.25976562e-01,  4.25781250e-01,\n         5.03540039e-03, -1.52343750e-01, -2.28271484e-02,  7.47070312e-02,\n         1.24023438e-01, -1.96289062e-01,  8.20312500e-02,  1.97753906e-02,\n        -1.63085938e-01,  1.54296875e-01,  3.97949219e-02,  2.15820312e-01,\n         5.07812500e-02,  4.85839844e-02, -4.98046875e-01, -7.95898438e-02,\n        -9.61914062e-02,  3.90625000e-02,  1.78710938e-01,  3.58886719e-02,\n        -2.18750000e-01,  1.33789062e-01,  3.18359375e-01,  1.39648438e-01,\n         2.50000000e-01, -5.59082031e-02, -1.51367188e-01,  7.86132812e-02,\n         3.51562500e-01,  1.73339844e-02, -5.34667969e-02, -4.54101562e-02,\n        -2.32421875e-01,  1.89453125e-01,  1.99218750e-01, -3.18359375e-01,\n        -3.39843750e-01,  2.00195312e-01, -2.37304688e-01, -3.73046875e-01,\n        -9.13085938e-02, -2.30468750e-01,  2.29492188e-01,  3.24707031e-02,\n         3.47656250e-01,  3.71093750e-02,  1.47460938e-01,  1.05468750e-01,\n         7.17773438e-02, -4.51660156e-02,  6.15234375e-02, -1.85394287e-03,\n         3.22265625e-02,  5.63964844e-02, -1.04980469e-01, -1.99218750e-01,\n         4.53125000e-01,  5.88378906e-02, -1.37329102e-02,  2.79541016e-02,\n        -2.67578125e-01, -4.88281250e-01,  5.44433594e-02,  8.83789062e-02,\n        -2.59399414e-03,  8.88671875e-02, -1.84570312e-01,  4.45312500e-01,\n         1.45507812e-01, -2.04101562e-01, -1.46484375e-01,  5.61523438e-02,\n         1.11083984e-02, -2.05078125e-01,  4.22363281e-02,  1.77734375e-01,\n         1.68945312e-01,  1.01562500e-01,  2.17773438e-01, -3.93066406e-02,\n         8.17871094e-03, -2.32421875e-01, -1.39648438e-01,  7.27539062e-02,\n        -1.59179688e-01,  3.49121094e-02,  7.61718750e-02,  1.30859375e-01,\n         1.80664062e-01, -5.46264648e-03,  8.78906250e-02,  4.39453125e-02,\n         1.69921875e-01,  4.37500000e-01, -1.99218750e-01, -1.78710938e-01,\n        -1.24511719e-01, -1.32812500e-01, -2.11914062e-01,  9.71679688e-02,\n         1.54296875e-01, -2.05993652e-03,  2.08984375e-01, -7.04956055e-03],\n       dtype=float32)]"
     },
     "execution_count": 199,
     "metadata": {},
     "output_type": "execute_result"
    }
   ],
   "source": [
    "embed_one_ingredient(test_word)"
   ]
  },
  {
   "cell_type": "code",
   "execution_count": 200,
   "metadata": {
    "ExecuteTime": {
     "end_time": "2023-08-21T20:40:56.386200960Z",
     "start_time": "2023-08-21T20:40:56.342199610Z"
    }
   },
   "outputs": [],
   "source": [
    "def find_unique_ingredients(cleaned_sequences):\n",
    "    return list(set([x for sublist in cleaned_sequences for x in sublist]))\n",
    "\n",
    "unique_ingredients = find_unique_ingredients(cleaned_sequences)"
   ]
  },
  {
   "cell_type": "code",
   "execution_count": 201,
   "metadata": {
    "ExecuteTime": {
     "end_time": "2023-08-21T20:40:56.410083329Z",
     "start_time": "2023-08-21T20:40:56.386097756Z"
    }
   },
   "outputs": [
    {
     "name": "stdout",
     "output_type": "stream",
     "text": [
      "(12413, 300)\n"
     ]
    },
    {
     "data": {
      "text/plain": "        0         1         2         3         4         5         6    \\\n0  0.000000  0.000000  0.000000  0.000000  0.000000  0.000000  0.000000   \n1 -0.057373  0.222656  0.204102  0.046631 -0.027344  0.296875 -0.102539   \n2  0.078125  0.203125  0.063965  0.133789  0.096191  0.004486  0.271484   \n3 -0.349609  0.076172  0.095215  0.068359 -0.054199  0.023682  0.211914   \n4 -0.255859  0.170898 -0.065918  0.213867 -0.040283  0.001259  0.304688   \n\n        7         8         9    ...       290       291       292       293  \\\n0  0.000000  0.000000  0.000000  ...  0.000000  0.000000  0.000000  0.000000   \n1 -0.172852  0.024414  0.310547  ... -0.357422 -0.478516 -0.131836  0.162109   \n2 -0.421875 -0.165039  0.183594  ... -0.179688 -0.320312 -0.150391 -0.000462   \n3 -0.104492 -0.068359  0.234375  ... -0.150391  0.059814 -0.316406  0.023926   \n4 -0.202148 -0.190430  0.171875  ... -0.194336 -0.255859  0.318359  0.044678   \n\n        294       295       296       297       298       299  \n0  0.000000  0.000000  0.000000  0.000000  0.000000  0.000000  \n1  0.167969  0.054199  0.166016  0.197266 -0.053955 -0.161133  \n2  0.057617 -0.186523  0.121582 -0.072266 -0.140625 -0.132812  \n3  0.125977 -0.023438  0.046143  0.089355 -0.212891  0.118164  \n4  0.333984  0.048584 -0.061523  0.125977  0.204102  0.382812  \n\n[5 rows x 300 columns]",
      "text/html": "<div>\n<style scoped>\n    .dataframe tbody tr th:only-of-type {\n        vertical-align: middle;\n    }\n\n    .dataframe tbody tr th {\n        vertical-align: top;\n    }\n\n    .dataframe thead th {\n        text-align: right;\n    }\n</style>\n<table border=\"1\" class=\"dataframe\">\n  <thead>\n    <tr style=\"text-align: right;\">\n      <th></th>\n      <th>0</th>\n      <th>1</th>\n      <th>2</th>\n      <th>3</th>\n      <th>4</th>\n      <th>5</th>\n      <th>6</th>\n      <th>7</th>\n      <th>8</th>\n      <th>9</th>\n      <th>...</th>\n      <th>290</th>\n      <th>291</th>\n      <th>292</th>\n      <th>293</th>\n      <th>294</th>\n      <th>295</th>\n      <th>296</th>\n      <th>297</th>\n      <th>298</th>\n      <th>299</th>\n    </tr>\n  </thead>\n  <tbody>\n    <tr>\n      <th>0</th>\n      <td>0.000000</td>\n      <td>0.000000</td>\n      <td>0.000000</td>\n      <td>0.000000</td>\n      <td>0.000000</td>\n      <td>0.000000</td>\n      <td>0.000000</td>\n      <td>0.000000</td>\n      <td>0.000000</td>\n      <td>0.000000</td>\n      <td>...</td>\n      <td>0.000000</td>\n      <td>0.000000</td>\n      <td>0.000000</td>\n      <td>0.000000</td>\n      <td>0.000000</td>\n      <td>0.000000</td>\n      <td>0.000000</td>\n      <td>0.000000</td>\n      <td>0.000000</td>\n      <td>0.000000</td>\n    </tr>\n    <tr>\n      <th>1</th>\n      <td>-0.057373</td>\n      <td>0.222656</td>\n      <td>0.204102</td>\n      <td>0.046631</td>\n      <td>-0.027344</td>\n      <td>0.296875</td>\n      <td>-0.102539</td>\n      <td>-0.172852</td>\n      <td>0.024414</td>\n      <td>0.310547</td>\n      <td>...</td>\n      <td>-0.357422</td>\n      <td>-0.478516</td>\n      <td>-0.131836</td>\n      <td>0.162109</td>\n      <td>0.167969</td>\n      <td>0.054199</td>\n      <td>0.166016</td>\n      <td>0.197266</td>\n      <td>-0.053955</td>\n      <td>-0.161133</td>\n    </tr>\n    <tr>\n      <th>2</th>\n      <td>0.078125</td>\n      <td>0.203125</td>\n      <td>0.063965</td>\n      <td>0.133789</td>\n      <td>0.096191</td>\n      <td>0.004486</td>\n      <td>0.271484</td>\n      <td>-0.421875</td>\n      <td>-0.165039</td>\n      <td>0.183594</td>\n      <td>...</td>\n      <td>-0.179688</td>\n      <td>-0.320312</td>\n      <td>-0.150391</td>\n      <td>-0.000462</td>\n      <td>0.057617</td>\n      <td>-0.186523</td>\n      <td>0.121582</td>\n      <td>-0.072266</td>\n      <td>-0.140625</td>\n      <td>-0.132812</td>\n    </tr>\n    <tr>\n      <th>3</th>\n      <td>-0.349609</td>\n      <td>0.076172</td>\n      <td>0.095215</td>\n      <td>0.068359</td>\n      <td>-0.054199</td>\n      <td>0.023682</td>\n      <td>0.211914</td>\n      <td>-0.104492</td>\n      <td>-0.068359</td>\n      <td>0.234375</td>\n      <td>...</td>\n      <td>-0.150391</td>\n      <td>0.059814</td>\n      <td>-0.316406</td>\n      <td>0.023926</td>\n      <td>0.125977</td>\n      <td>-0.023438</td>\n      <td>0.046143</td>\n      <td>0.089355</td>\n      <td>-0.212891</td>\n      <td>0.118164</td>\n    </tr>\n    <tr>\n      <th>4</th>\n      <td>-0.255859</td>\n      <td>0.170898</td>\n      <td>-0.065918</td>\n      <td>0.213867</td>\n      <td>-0.040283</td>\n      <td>0.001259</td>\n      <td>0.304688</td>\n      <td>-0.202148</td>\n      <td>-0.190430</td>\n      <td>0.171875</td>\n      <td>...</td>\n      <td>-0.194336</td>\n      <td>-0.255859</td>\n      <td>0.318359</td>\n      <td>0.044678</td>\n      <td>0.333984</td>\n      <td>0.048584</td>\n      <td>-0.061523</td>\n      <td>0.125977</td>\n      <td>0.204102</td>\n      <td>0.382812</td>\n    </tr>\n  </tbody>\n</table>\n<p>5 rows × 300 columns</p>\n</div>"
     },
     "execution_count": 201,
     "metadata": {},
     "output_type": "execute_result"
    }
   ],
   "source": [
    "def encode_recipes(unique_ingredients,tokenizer=tokenizer,embed_size=embed_size):\n",
    "    '''Encode all recipes'''\n",
    "    word_index = tokenizer.word_index\n",
    "    recipe_embeddings = np.zeros((len(unique_ingredients)+1,embed_size))\n",
    "    for ingredient,i in word_index.items():\n",
    "        ingredient_embedding = embed_one_ingredient(ingredient)[0]\n",
    "        recipe_embeddings[i,:] = ingredient_embedding\n",
    "    #recipe_embeddings = np.delete(recipe_embeddings,0,axis=0) #dict starts at 1\n",
    "    return recipe_embeddings\n",
    "\n",
    "recipe_embeddings = encode_recipes(unique_ingredients)\n",
    "print(recipe_embeddings.shape)\n",
    "pd.DataFrame(recipe_embeddings).head()"
   ]
  },
  {
   "cell_type": "code",
   "execution_count": 202,
   "metadata": {
    "ExecuteTime": {
     "end_time": "2023-08-21T20:40:56.418819942Z",
     "start_time": "2023-08-21T20:40:56.409420095Z"
    }
   },
   "outputs": [],
   "source": [
    "#preparing test and train sets"
   ]
  },
  {
   "cell_type": "code",
   "execution_count": 203,
   "metadata": {
    "ExecuteTime": {
     "end_time": "2023-08-21T20:40:56.878689833Z",
     "start_time": "2023-08-21T20:40:56.410836403Z"
    }
   },
   "outputs": [],
   "source": [
    "#shuffeling labels and predictors \n",
    "shuffled_index = np.random.permutation(len(predictors))\n",
    "predictors = predictors[shuffled_index]\n",
    "label = label[shuffled_index]"
   ]
  },
  {
   "cell_type": "code",
   "execution_count": 204,
   "metadata": {
    "ExecuteTime": {
     "end_time": "2023-08-21T20:40:56.882351147Z",
     "start_time": "2023-08-21T20:40:56.878363514Z"
    }
   },
   "outputs": [
    {
     "data": {
      "text/plain": "array([  24,   24,    1, ..., 2573,    6,   37])"
     },
     "execution_count": 204,
     "metadata": {},
     "output_type": "execute_result"
    }
   ],
   "source": [
    "label"
   ]
  },
  {
   "cell_type": "code",
   "execution_count": 205,
   "metadata": {
    "ExecuteTime": {
     "end_time": "2023-08-21T20:40:56.947270884Z",
     "start_time": "2023-08-21T20:40:56.882414680Z"
    }
   },
   "outputs": [
    {
     "data": {
      "text/plain": "(12412, 0)"
     },
     "execution_count": 205,
     "metadata": {},
     "output_type": "execute_result"
    }
   ],
   "source": [
    "predictors.max(), predictors.min()"
   ]
  },
  {
   "cell_type": "code",
   "execution_count": 206,
   "metadata": {
    "ExecuteTime": {
     "end_time": "2023-08-21T20:40:56.949479073Z",
     "start_time": "2023-08-21T20:40:56.947525614Z"
    }
   },
   "outputs": [
    {
     "data": {
      "text/plain": "array([[   0,    0,    0, ...,    0,  895,  161],\n       [   0,    0,    0, ...,    0,    0,  300],\n       [   0,    0,    0, ...,    0, 1163, 1532],\n       ...,\n       [   0,    0,    0, ...,  268,  197,   56],\n       [   0,    0,    0, ...,    0,    0,   20],\n       [   0,    0,    0, ...,  156,   42,  279]])"
     },
     "execution_count": 206,
     "metadata": {},
     "output_type": "execute_result"
    }
   ],
   "source": [
    "predictors"
   ]
  },
  {
   "cell_type": "markdown",
   "metadata": {},
   "source": [
    "<h2><br></h2>\n",
    "<h2>Building model to suggest ingredients</h2>"
   ]
  },
  {
   "cell_type": "code",
   "execution_count": 207,
   "metadata": {
    "ExecuteTime": {
     "end_time": "2023-08-21T20:40:56.952333205Z",
     "start_time": "2023-08-21T20:40:56.949564134Z"
    }
   },
   "outputs": [
    {
     "data": {
      "text/plain": "((1948345, 43), (1948345,), (12413, 300), 12412)"
     },
     "execution_count": 207,
     "metadata": {},
     "output_type": "execute_result"
    }
   ],
   "source": [
    "predictors.shape, label.shape, recipe_embeddings.shape,len(unique_ingredients)"
   ]
  },
  {
   "cell_type": "code",
   "execution_count": 208,
   "metadata": {
    "ExecuteTime": {
     "end_time": "2023-08-21T20:40:57.250221234Z",
     "start_time": "2023-08-21T20:40:56.952081726Z"
    }
   },
   "outputs": [],
   "source": [
    "predictors = tf.cast(predictors,tf.float64)\n",
    "label = tf.cast(label,tf.float64)"
   ]
  },
  {
   "cell_type": "code",
   "execution_count": 209,
   "outputs": [],
   "source": [
    "checkpoint_filepath = '/tmp/checkpoint'\n",
    "save_callback = tf.keras.callbacks.ModelCheckpoint(filepath=checkpoint_filepath,\n",
    "                                                 save_weights_only=True,\n",
    "                                                 save_best_only=True,\n",
    "                                                 verbose=1)\n",
    "\n",
    "early_callback = tf.keras.callbacks.EarlyStopping(monitor='val_loss',\n",
    "                                                  restore_best_weights=True,\n",
    "                                                  patience=5)"
   ],
   "metadata": {
    "collapsed": false,
    "ExecuteTime": {
     "end_time": "2023-08-21T20:40:57.254786829Z",
     "start_time": "2023-08-21T20:40:57.251105678Z"
    }
   }
  },
  {
   "cell_type": "raw",
   "source": [
    "<h3> Training LSTM and dense output layers </h3>"
   ],
   "metadata": {
    "collapsed": false
   }
  },
  {
   "cell_type": "code",
   "execution_count": 210,
   "metadata": {
    "ExecuteTime": {
     "end_time": "2023-08-21T20:40:57.256137244Z",
     "start_time": "2023-08-21T20:40:57.253608398Z"
    }
   },
   "outputs": [],
   "source": [
    "def create_model(embed_size=embed_size, unique_ingredients=len(unique_ingredients), recipe_embeddings=recipe_embeddings,lr=0.001,transfer=False):\n",
    "    '''Build LSTM model'''\n",
    "    input_len = max_length-1\n",
    "    model = Sequential()\n",
    "    model.add(Embedding(unique_ingredients+1, embed_size, weights=[recipe_embeddings], trainable=transfer, mask_zero=True, input_length=input_len)) \n",
    "    model.add(LSTM(100))\n",
    "    model.add(Dropout(0.1))\n",
    "    model.add(Dense(unique_ingredients+1, activation='softmax'))\n",
    "    model.compile(loss='sparse_categorical_crossentropy',optimizer=tf.keras.optimizers.Adam(learning_rate=lr))\n",
    "    return model"
   ]
  },
  {
   "cell_type": "code",
   "execution_count": 211,
   "metadata": {
    "scrolled": true,
    "ExecuteTime": {
     "end_time": "2023-08-21T20:40:57.258473012Z",
     "start_time": "2023-08-21T20:40:57.256320927Z"
    }
   },
   "outputs": [
    {
     "name": "stdout",
     "output_type": "stream",
     "text": [
      "[PhysicalDevice(name='/physical_device:GPU:0', device_type='GPU')]\n"
     ]
    }
   ],
   "source": [
    "print(tf.config.list_physical_devices('GPU'))"
   ]
  },
  {
   "cell_type": "code",
   "execution_count": 212,
   "metadata": {
    "ExecuteTime": {
     "end_time": "2023-08-21T20:40:57.302247954Z",
     "start_time": "2023-08-21T20:40:57.258635865Z"
    }
   },
   "outputs": [
    {
     "data": {
      "text/plain": "\"\\nwith tf.device('/cpu:0'):\\n    model = create_model()\\n    history = model.fit(predictors, label, validation_split=.1,epochs=50, callbacks=[save_callback, early_callback])\\n\""
     },
     "execution_count": 212,
     "metadata": {},
     "output_type": "execute_result"
    }
   ],
   "source": [
    "#run on cpu because gpu has glitch with mask_zero=True\n",
    "'''\n",
    "with tf.device('/cpu:0'):\n",
    "    model = create_model()\n",
    "    history = model.fit(predictors, label, validation_split=.1,epochs=50, callbacks=[save_callback, early_callback])\n",
    "'''"
   ]
  },
  {
   "cell_type": "raw",
   "source": [
    "<h3> Fine tuning embeddings <h3>"
   ],
   "metadata": {
    "collapsed": false
   }
  },
  {
   "cell_type": "code",
   "execution_count": 213,
   "outputs": [
    {
     "data": {
      "text/plain": "\"\\nwith tf.device('/cpu:0'):\\n    model = create_model(lr=0.0001,transfer=True)\\n    model.load_weights(checkpoint_filepath)\\n    fine_history = model.fit(predictors, label, validation_split=.1, epochs=50,callbacks=[early_callback])\\n    #model.save_weights('./weights.h5')\\n\""
     },
     "execution_count": 213,
     "metadata": {},
     "output_type": "execute_result"
    }
   ],
   "source": [
    "'''\n",
    "with tf.device('/cpu:0'):\n",
    "    model = create_model(lr=0.0001,transfer=True)\n",
    "    model.load_weights(checkpoint_filepath)\n",
    "    fine_history = model.fit(predictors, label, validation_split=.1, epochs=50,callbacks=[early_callback])\n",
    "    #model.save_weights('./weights.h5')\n",
    "'''"
   ],
   "metadata": {
    "collapsed": false,
    "ExecuteTime": {
     "end_time": "2023-08-21T20:40:57.302416688Z",
     "start_time": "2023-08-21T20:40:57.302069294Z"
    }
   }
  },
  {
   "cell_type": "code",
   "execution_count": 214,
   "outputs": [
    {
     "data": {
      "text/plain": "\"\\nwith open('histories.pkl','wb') as f:\\n    pickle.dump([history.history,fine_history.history],f)\\nf.close()\\n\""
     },
     "execution_count": 214,
     "metadata": {},
     "output_type": "execute_result"
    }
   ],
   "source": [
    "'''\n",
    "with open('histories.pkl','wb') as f:\n",
    "    pickle.dump([history.history,fine_history.history],f)\n",
    "f.close()\n",
    "'''"
   ],
   "metadata": {
    "collapsed": false,
    "ExecuteTime": {
     "end_time": "2023-08-21T20:40:57.302521704Z",
     "start_time": "2023-08-21T20:40:57.302118711Z"
    }
   }
  },
  {
   "cell_type": "code",
   "execution_count": 215,
   "outputs": [],
   "source": [
    "with open('histories.pkl','rb') as f:\n",
    "    _ = pickle.load(f)\n",
    "    history = _[0]\n",
    "    fine_history = _[1]\n",
    "f.close()"
   ],
   "metadata": {
    "collapsed": false,
    "ExecuteTime": {
     "end_time": "2023-08-21T20:40:57.303926756Z",
     "start_time": "2023-08-21T20:40:57.302138114Z"
    }
   }
  },
  {
   "cell_type": "code",
   "execution_count": 216,
   "outputs": [
    {
     "name": "stdout",
     "output_type": "stream",
     "text": [
      "17 17\n"
     ]
    },
    {
     "data": {
      "text/plain": "<Figure size 800x400 with 1 Axes>",
      "image/png": "[encoded data removed]"
     },
     "metadata": {},
     "output_type": "display_data"
    }
   ],
   "source": [
    "def plot_history(history_, fine_history_):\n",
    "    epochs_train = len(history_['loss'])\n",
    "    history_['loss'].extend(fine_history_['loss'])\n",
    "    history_['val_loss'].extend(fine_history_['val_loss'])\n",
    "    epochs_ft = len(history_['loss'])\n",
    "    print(len(history_['loss']),epochs_ft)\n",
    " \n",
    "    count = 1\n",
    "    plt.style.use('ggplot')\n",
    "    plt.figure(figsize=(8, 4))   \n",
    "    plt.plot(range(1,epochs_ft+1), pd.DataFrame(history_['loss']), label='Training Loss')\n",
    "    plt.plot(range(1,epochs_ft+1), pd.DataFrame(history_['val_loss']), label='Validation Loss')\n",
    "    plt.legend()\n",
    "    plt.text(4,5.45,'Training')\n",
    "    plt.text(12,4.85,'Fine tuning')\n",
    "    plt.xlabel('Epochs')\n",
    "    plt.ylabel('Loss')\n",
    "    plt.show()\n",
    "    \n",
    "plot_history(history,fine_history)"
   ],
   "metadata": {
    "collapsed": false,
    "ExecuteTime": {
     "end_time": "2023-08-21T20:40:57.398162659Z",
     "start_time": "2023-08-21T20:40:57.302155396Z"
    }
   }
  },
  {
   "cell_type": "markdown",
   "metadata": {},
   "source": [
    "<h2><br></h2>\n",
    "<h2>Predicting what's for dinner</h2>"
   ]
  },
  {
   "cell_type": "code",
   "execution_count": 217,
   "metadata": {
    "ExecuteTime": {
     "end_time": "2023-08-21T20:40:57.398294978Z",
     "start_time": "2023-08-21T20:40:57.398080321Z"
    }
   },
   "outputs": [],
   "source": [
    "def pad_sequences(token_list, max_length=max_length):\n",
    "    '''pad sequences (built in function returns a recursion error)'''\n",
    "    padded_sequence = []\n",
    "    zeros = (max_length-len(token_list))-1\n",
    "    padded = [int(0) for zero in range(zeros)]\n",
    "    padded.extend(token_list)\n",
    "    return padded"
   ]
  },
  {
   "cell_type": "code",
   "execution_count": 218,
   "metadata": {
    "ExecuteTime": {
     "end_time": "2023-08-21T20:40:57.398334440Z",
     "start_time": "2023-08-21T20:40:57.398140975Z"
    }
   },
   "outputs": [],
   "source": [
    "def cook_for_me(seed_text, model):\n",
    "    next_words = 5\n",
    "    words_out = []\n",
    "    token_list = []\n",
    "\n",
    "    seed_text = seed_text.split(' ')\n",
    "    for word in seed_text:\n",
    "        token_ = tokenizer.texts_to_sequences([word])[0]\n",
    "        token_list.extend(token_)\n",
    "    token_list = pad_sequences(token_list)\n",
    "        \n",
    "    while next_words > 0:\n",
    "        model.load_weights('weights.h5')\n",
    "        proba = model.predict(np.array(token_list).reshape(-1,43), verbose=0)\n",
    "        predicted = np.argmax(proba, axis=1)\n",
    "        new_token = int(predicted[0])\n",
    "        word = list(tokenizer.word_index.keys())[int(predicted[0]-1)]\n",
    "        words_out.append(word)\n",
    "        token_list.append(new_token)\n",
    "        token_list.pop(0)\n",
    "        next_words -= 1\n",
    "    words_out = list(set(words_out))\n",
    "    string_out = 'Why not try adding some '+', '.join(words_out[:-1])+' and '+words_out[-1]+'?'\n",
    "    return string_out"
   ]
  },
  {
   "cell_type": "code",
   "execution_count": 219,
   "metadata": {
    "ExecuteTime": {
     "end_time": "2023-08-21T20:40:57.399052731Z",
     "start_time": "2023-08-21T20:40:57.398248672Z"
    }
   },
   "outputs": [],
   "source": [
    "def make_suggestions(ingredients_in_stock):\n",
    "    for ingredient in ingredients_in_stock:\n",
    "        split_ingredients = ' and '.join(ingredient.split(' '))\n",
    "        greeting = 'For '+split_ingredients.upper() +' let me see... '\n",
    "        print(greeting)\n",
    "        print(cook_for_me(ingredient,model))\n",
    "        print('')"
   ]
  },
  {
   "cell_type": "code",
   "execution_count": 220,
   "metadata": {
    "ExecuteTime": {
     "end_time": "2023-08-21T20:40:58.707140143Z",
     "start_time": "2023-08-21T20:40:57.398266447Z"
    }
   },
   "outputs": [
    {
     "name": "stdout",
     "output_type": "stream",
     "text": [
      "For TUNA let me see... \n",
      "Why not try adding some mayonnaise, pickle, celery and onion?\n",
      "\n",
      "For CHICKEN AND NOODLE let me see... \n",
      "Why not try adding some garlic clove, onion, carrot, celery and olive oil?\n",
      "\n",
      "For MIRIN let me see... \n",
      "Why not try adding some sesame oil, garlic clove, soy sauce, sugar and fresh ginger?\n",
      "\n",
      "For CHERRY let me see... \n",
      "Why not try adding some cornstarch, lemon juice, water and sugar?\n",
      "\n",
      "For CHOCOLATE AND FLOUR let me see... \n",
      "Why not try adding some baking powder, sugar, butter, egg and flmy?\n",
      "\n",
      "For LETTUCE let me see... \n",
      "Why not try adding some tomato, salt, cucumber, dressing and red onion?\n"
     ]
    }
   ],
   "source": [
    "ingredients_in_stock = ['tuna','chicken noodle','mirin','cherry','chocolate flour','lettuce']\n",
    "make_suggestions(ingredients_in_stock)"
   ]
  },
  {
   "cell_type": "markdown",
   "metadata": {},
   "source": []
  }
 ],
 "metadata": {
  "kernelspec": {
   "name": "food_env",
   "language": "python",
   "display_name": "food_env"
  },
  "language_info": {
   "codemirror_mode": {
    "name": "ipython",
    "version": 3
   },
   "file_extension": ".py",
   "mimetype": "text/x-python",
   "name": "python",
   "nbconvert_exporter": "python",
   "pygments_lexer": "ipython3",
   "version": "3.9.17"
  }
 },
 "nbformat": 4,
 "nbformat_minor": 4
}
