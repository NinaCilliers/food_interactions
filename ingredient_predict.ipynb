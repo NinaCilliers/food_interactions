{
 "cells": [
  {
   "cell_type": "markdown",
   "metadata": {},
   "source": [
    "<h1>What's for dinenr?</h1>\n",
    "<h4><i> An simple LSTM model generates dinner suggestions from partial ingredient list </i><h4>\n",
    "<h4><br></h4>\n",
    "<h2>Introduction</h2>\n",
    "\n",
    "\n",
    "<h2>Data Cleaning</h2>"
   ]
  },
  {
   "cell_type": "code",
   "execution_count": 1,
   "metadata": {},
   "outputs": [
    {
     "name": "stderr",
     "output_type": "stream",
     "text": [
      "2023-08-20 18:17:46.633068: I tensorflow/core/util/port.cc:110] oneDNN custom operations are on. You may see slightly different numerical results due to floating-point round-off errors from different computation orders. To turn them off, set the environment variable `TF_ENABLE_ONEDNN_OPTS=0`.\n",
      "2023-08-20 18:17:46.652190: I tensorflow/tsl/cuda/cudart_stub.cc:28] Could not find cuda drivers on your machine, GPU will not be used.\n",
      "2023-08-20 18:17:46.797604: I tensorflow/tsl/cuda/cudart_stub.cc:28] Could not find cuda drivers on your machine, GPU will not be used.\n",
      "2023-08-20 18:17:46.798388: I tensorflow/core/platform/cpu_feature_guard.cc:182] This TensorFlow binary is optimized to use available CPU instructions in performance-critical operations.\n",
      "To enable the following instructions: AVX2 AVX_VNNI FMA, in other operations, rebuild TensorFlow with the appropriate compiler flags.\n",
      "2023-08-20 18:17:47.286277: W tensorflow/compiler/tf2tensorrt/utils/py_utils.cc:38] TF-TRT Warning: Could not find TensorRT\n"
     ]
    }
   ],
   "source": [
    "import pandas as pd\n",
    "import re\n",
    "import numpy as np\n",
    "import matplotlib.pyplot as plt\n",
    "from collections import Counter\n",
    "import pickle\n",
    "\n",
    "import tensorflow as tf\n",
    "import gensim.downloader as api\n",
    "from gensim.models import Word2Vec\n",
    "from tensorflow.keras.models import Sequential\n",
    "from tensorflow.keras.layers import Embedding, LSTM, Dense, Dropout\n",
    "from keras.preprocessing.text import Tokenizer\n",
    "\n",
    "import seaborn as sns\n",
    "#from wordcloud import WordCloud"
   ]
  },
  {
   "cell_type": "code",
   "execution_count": 2,
   "metadata": {},
   "outputs": [
    {
     "data": {
      "text/plain": [
       "\"\\ndef string_to_list(s):\\n    Converts a string that is formatted like a list to a list\\n    l = re.findall(r'\\\\w[\\\\w\\\\s]+',s)\\n    #l = ' '.join(l)\\n    return l\\n\""
      ]
     },
     "execution_count": 2,
     "metadata": {},
     "output_type": "execute_result"
    }
   ],
   "source": [
    "'''\n",
    "def string_to_list(s):\n",
    "    Converts a string that is formatted like a list to a list\n",
    "    l = re.findall(r'\\w[\\w\\s]+',s)\n",
    "    #l = ' '.join(l)\n",
    "    return l\n",
    "'''"
   ]
  },
  {
   "cell_type": "code",
   "execution_count": 3,
   "metadata": {},
   "outputs": [
    {
     "data": {
      "text/plain": [
       "\"\\n#cleaning token lists\\ninput_sequences = raw_recipes['ingredients'].apply(string_to_list).to_list()\\ninput_sequences[:1]\\n\""
      ]
     },
     "execution_count": 3,
     "metadata": {},
     "output_type": "execute_result"
    }
   ],
   "source": [
    "'''\n",
    "#cleaning token lists\n",
    "input_sequences = raw_recipes['ingredients'].apply(string_to_list).to_list()\n",
    "input_sequences[:1]\n",
    "'''"
   ]
  },
  {
   "cell_type": "code",
   "execution_count": 4,
   "metadata": {},
   "outputs": [
    {
     "data": {
      "text/html": [
       "<div>\n",
       "<style scoped>\n",
       "    .dataframe tbody tr th:only-of-type {\n",
       "        vertical-align: middle;\n",
       "    }\n",
       "\n",
       "    .dataframe tbody tr th {\n",
       "        vertical-align: top;\n",
       "    }\n",
       "\n",
       "    .dataframe thead th {\n",
       "        text-align: right;\n",
       "    }\n",
       "</style>\n",
       "<table border=\"1\" class=\"dataframe\">\n",
       "  <thead>\n",
       "    <tr style=\"text-align: right;\">\n",
       "      <th></th>\n",
       "      <th>raw_ingr</th>\n",
       "      <th>replaced</th>\n",
       "    </tr>\n",
       "  </thead>\n",
       "  <tbody>\n",
       "    <tr>\n",
       "      <th>0</th>\n",
       "      <td>medium heads bibb or red leaf lettuce, washed,...</td>\n",
       "      <td>lettuce</td>\n",
       "    </tr>\n",
       "    <tr>\n",
       "      <th>1</th>\n",
       "      <td>mixed baby lettuces and spring greens</td>\n",
       "      <td>lettuce</td>\n",
       "    </tr>\n",
       "    <tr>\n",
       "      <th>2</th>\n",
       "      <td>romaine lettuce leaf</td>\n",
       "      <td>lettuce</td>\n",
       "    </tr>\n",
       "    <tr>\n",
       "      <th>3</th>\n",
       "      <td>iceberg lettuce leaf</td>\n",
       "      <td>lettuce</td>\n",
       "    </tr>\n",
       "    <tr>\n",
       "      <th>4</th>\n",
       "      <td>red romaine lettuce</td>\n",
       "      <td>lettuce</td>\n",
       "    </tr>\n",
       "    <tr>\n",
       "      <th>...</th>\n",
       "      <td>...</td>\n",
       "      <td>...</td>\n",
       "    </tr>\n",
       "    <tr>\n",
       "      <th>11654</th>\n",
       "      <td>soybeans</td>\n",
       "      <td>soybean</td>\n",
       "    </tr>\n",
       "    <tr>\n",
       "      <th>11655</th>\n",
       "      <td>goose</td>\n",
       "      <td>goose</td>\n",
       "    </tr>\n",
       "    <tr>\n",
       "      <th>11656</th>\n",
       "      <td>ajwain</td>\n",
       "      <td>ajwain</td>\n",
       "    </tr>\n",
       "    <tr>\n",
       "      <th>11657</th>\n",
       "      <td>brinjals</td>\n",
       "      <td>brinjal</td>\n",
       "    </tr>\n",
       "    <tr>\n",
       "      <th>11658</th>\n",
       "      <td>khoya</td>\n",
       "      <td>khoya</td>\n",
       "    </tr>\n",
       "  </tbody>\n",
       "</table>\n",
       "<p>11659 rows × 2 columns</p>\n",
       "</div>"
      ],
      "text/plain": [
       "                                                raw_ingr replaced\n",
       "0      medium heads bibb or red leaf lettuce, washed,...  lettuce\n",
       "1                  mixed baby lettuces and spring greens  lettuce\n",
       "2                                   romaine lettuce leaf  lettuce\n",
       "3                                   iceberg lettuce leaf  lettuce\n",
       "4                                    red romaine lettuce  lettuce\n",
       "...                                                  ...      ...\n",
       "11654                                           soybeans  soybean\n",
       "11655                                              goose    goose\n",
       "11656                                             ajwain   ajwain\n",
       "11657                                           brinjals  brinjal\n",
       "11658                                              khoya    khoya\n",
       "\n",
       "[11659 rows x 2 columns]"
      ]
     },
     "execution_count": 4,
     "metadata": {},
     "output_type": "execute_result"
    }
   ],
   "source": [
    "#precleaned dataframe will be used to clena data\n",
    "precleaned_key = pd.read_pickle('ingr_map.pkl')\n",
    "precleaned_key[['raw_ingr','replaced']]"
   ]
  },
  {
   "cell_type": "code",
   "execution_count": 5,
   "metadata": {},
   "outputs": [],
   "source": [
    "cleaning_key = dict(zip(precleaned_key['raw_ingr'],precleaned_key['replaced']))"
   ]
  },
  {
   "cell_type": "code",
   "execution_count": 6,
   "metadata": {},
   "outputs": [],
   "source": [
    "class CleanRecipes():\n",
    "    def __init__(self,cleaning_key=cleaning_key): \n",
    "        self.raw_recipes = self.import_data()\n",
    "        self.input_sequences = self.raw_recipes['ingredients'].apply(self.string_to_list).to_list()\n",
    "        print(self.input_sequences)\n",
    "        self.cleaned_ingredients = []\n",
    "        self.cleaning_key = cleaning_key\n",
    "\n",
    "    def __call__(self):\n",
    "        self.cleaned_ingredients = self.clean_text()\n",
    "        return self.raw_recipes, self.input_sequences, self.cleaned_ingredients\n",
    "\n",
    "    def import_data(self):\n",
    "        #'''Imporrhow to run a jupyter notebook in a gpu docker contqainert cleaned recipe, raw recipe and ratings data'''\n",
    "        raw_recipes = pd.read_csv('RAW_recipes.csv')\n",
    "        del raw_recipes['contributor_id']\n",
    "        del raw_recipes['submitted']\n",
    "        del raw_recipes['tags']\n",
    "        del raw_recipes['steps']\n",
    "        del raw_recipes['description']\n",
    "        raw_recipes = raw_recipes.set_index('id')\n",
    "        return raw_recipes\n",
    "\n",
    "    def string_to_list(self,s):\n",
    "        '''Converts a string that is formatted like a list to a list'''\n",
    "        l = re.findall(r'\\w[\\w\\s]+',s)\n",
    "        return l\n",
    "\n",
    "    def clean_text(self):\n",
    "        #all_ingredients = [x for sublist in self.input_sequences for x in sublist]\n",
    "        for recipe in self.input_sequences:\n",
    "            ingredient_bundle = []\n",
    "            for ingredient in recipe:\n",
    "                try:\n",
    "                    ingredient_bundle.append(self.cleaning_key[ingredient])\n",
    "                except:\n",
    "                    ingredient_bundle.append(ingredient)\n",
    "            self.cleaned_ingredients.append(ingredient_bundle)\n",
    "        return self.cleaned_ingredients"
   ]
  },
  {
   "cell_type": "code",
   "execution_count": 7,
   "metadata": {},
   "outputs": [
    {
     "name": "stderr",
     "output_type": "stream",
     "text": [
      "IOPub data rate exceeded.\n",
      "The Jupyter server will temporarily stop sending output\n",
      "to the client in order to avoid crashing it.\n",
      "To change this limit, set the config variable\n",
      "`--ServerApp.iopub_data_rate_limit`.\n",
      "\n",
      "Current values:\n",
      "ServerApp.iopub_data_rate_limit=1000000.0 (bytes/sec)\n",
      "ServerApp.rate_limit_window=3.0 (secs)\n",
      "\n"
     ]
    }
   ],
   "source": [
    "cleaner = CleanRecipes()\n",
    "raw_recipes, input_sequences, cleaned_sequences = cleaner()"
   ]
  },
  {
   "cell_type": "code",
   "execution_count": 8,
   "metadata": {},
   "outputs": [
    {
     "name": "stdout",
     "output_type": "stream",
     "text": [
      "Cleaning example:\n",
      "Before: ['spreadable cheese with garlic and herbs', 'new potatoes', 'shallots', 'parsley', 'tarragon', 'olive oil', 'red wine vinegar', 'salt', 'pepper', 'red bell pepper', 'yellow bell pepper']\n",
      "After:  ['cheese', 'new potato', 'shallot', 'parsley', 'tarragon', 'olive oil', 'red wine vinegar', 'salt', 'pepper', 'red bell pepper', 'yellow bell pepper']\n"
     ]
    }
   ],
   "source": [
    "print('Cleaning example:')\n",
    "print(f'Before: {input_sequences[3]}')\n",
    "print(f'After:  {cleaned_sequences[3]}')"
   ]
  },
  {
   "cell_type": "markdown",
   "metadata": {},
   "source": [
    "<h2><br></h2>\n",
    "<h2>EDA</h2>"
   ]
  },
  {
   "cell_type": "code",
   "execution_count": 9,
   "metadata": {},
   "outputs": [
    {
     "data": {
      "image/png": "[encoded data removed]",
      "text/plain": [
       "<Figure size 640x480 with 1 Axes>"
      ]
     },
     "metadata": {},
     "output_type": "display_data"
    }
   ],
   "source": [
    "#ingredient list length distribution\n",
    "lengths = [len(x) for x in cleaned_sequences]\n",
    "sns.histplot(pd.DataFrame(lengths),legend=False)\n",
    "plt.title('Ingredients per recipe')\n",
    "plt.xlabel('Length')\n",
    "plt.show()"
   ]
  },
  {
   "cell_type": "code",
   "execution_count": 10,
   "metadata": {},
   "outputs": [
    {
     "data": {
      "text/plain": [
       "\"\\nall_words = ' '.join([x for sublist in cleaned_sequences for x in sublist])\\nwordcloud = WordCloud().generate(all_words)\\nplt.imshow(wordcloud, interpolation='bilinear')\\nplt.axis('off')\\nplt.title('Word frequencies');\\n\""
      ]
     },
     "execution_count": 10,
     "metadata": {},
     "output_type": "execute_result"
    }
   ],
   "source": [
    "#overview of frequencies\n",
    "'''\n",
    "all_words = ' '.join([x for sublist in cleaned_sequences for x in sublist])\n",
    "wordcloud = WordCloud().generate(all_words)\n",
    "plt.imshow(wordcloud, interpolation='bilinear')\n",
    "plt.axis('off')\n",
    "plt.title('Word frequencies');\n",
    "'''"
   ]
  },
  {
   "cell_type": "code",
   "execution_count": 11,
   "metadata": {},
   "outputs": [],
   "source": [
    "#top words\n",
    "def get_top(cleaned_sequences):\n",
    "    ingred = [x for sublist in cleaned_sequences for x in sublist]\n",
    "    ingred_counts = Counter(ingred).most_common()\n",
    "    #top_ingredients = [ingred_counts[n][0] for n in range(len(ingred_counts))]\n",
    "    return ingred_counts"
   ]
  },
  {
   "cell_type": "code",
   "execution_count": 12,
   "metadata": {},
   "outputs": [
    {
     "data": {
      "image/png": "[encoded data removed]",
      "text/plain": [
       "<Figure size 1000x400 with 2 Axes>"
      ]
     },
     "metadata": {},
     "output_type": "display_data"
    }
   ],
   "source": [
    "tops = get_top(cleaned_sequences)\n",
    "sorted_ingredients = [x[0] for x in tops]\n",
    "sorted_counts = [x[1] for x in tops]\n",
    "\n",
    "count_range = 10 \n",
    "plt.figure(figsize=(10,4))\n",
    "plt.suptitle('Ingredient Frequencies',fontsize=18)\n",
    "plt.subplot(1,2,1)\n",
    "plt.bar(sorted_ingredients[:count_range], sorted_counts[:count_range])\n",
    "plt.xticks(rotation=90)\n",
    "plt.ylim((0,90_000))\n",
    "plt.title('Most common')\n",
    "\n",
    "plt.subplot(1,2,2)\n",
    "plt.bar(sorted_ingredients[-count_range:], sorted_counts[-count_range:])\n",
    "plt.xticks(rotation=90)\n",
    "plt.ylim((0,90_000))\n",
    "plt.title('Least common');"
   ]
  },
  {
   "cell_type": "markdown",
   "metadata": {},
   "source": [
    "<h2><br></h2>\n",
    "<h2>Tokenizing ingredients</h2>"
   ]
  },
  {
   "cell_type": "code",
   "execution_count": 13,
   "metadata": {},
   "outputs": [],
   "source": [
    "pad_value = int(0)"
   ]
  },
  {
   "cell_type": "code",
   "execution_count": 14,
   "metadata": {},
   "outputs": [],
   "source": [
    "class TokenizeRecipes():\n",
    "    def __init__(self, input_sequences):\n",
    "        self.tokenizer = Tokenizer()\n",
    "        self.input_sequences = input_sequences\n",
    "    \n",
    "    def __call__(self):\n",
    "        self.tokenizer, self.ngram_sequences, self.totalwords = self.get_sequence_of_tokens()\n",
    "        self.max_length = self.find_max()\n",
    "        self.padded_sequence = self.pad_sequences()\n",
    "        self.padded_sequence = np.array(self.padded_sequence)\n",
    "        self.predictors, self.label = self.padded_sequence[:,:-1],self.padded_sequence[:,-1]\n",
    "        return self.tokenizer, self.max_length, self.totalwords, self.label, self.predictors\n",
    "\n",
    "    def get_sequence_of_tokens(self):\n",
    "        '''Tokenization'''    \n",
    "        self.tokenizer.fit_on_texts(self.input_sequences)\n",
    "        self.total_words = len(self.tokenizer.word_index) + 1\n",
    "\n",
    "        self.ngram_sequences = []\n",
    "        for line in self.input_sequences:\n",
    "            token_list = self.tokenizer.texts_to_sequences([line])[0]\n",
    "            for i in range(1, len(token_list)):\n",
    "                n_gram_sequence = token_list[:i+1]\n",
    "                self.ngram_sequences.append(n_gram_sequence)\n",
    "        return self.tokenizer, self.ngram_sequences, self.total_words\n",
    "\n",
    "    def find_max(self):\n",
    "        '''find max token length'''\n",
    "        self.max_length = max(len(x) for x in self.input_sequences)\n",
    "        return self.max_length\n",
    "\n",
    "    def pad_sequences(self):\n",
    "        '''pad sequences (built in function returns a recursion error)'''\n",
    "        self.padded_sequence = []\n",
    "        for sequence_in in self.ngram_sequences:\n",
    "            zeros = (self.max_length-len(sequence_in))\n",
    "            padded = [pad_value for zero in range(zeros)]\n",
    "            padded.extend(sequence_in)\n",
    "            self.padded_sequence.append(padded)\n",
    "        return self.padded_sequence"
   ]
  },
  {
   "cell_type": "code",
   "execution_count": 15,
   "metadata": {},
   "outputs": [
    {
     "data": {
      "text/plain": [
       "12413"
      ]
     },
     "execution_count": 15,
     "metadata": {},
     "output_type": "execute_result"
    }
   ],
   "source": [
    "tokenizer,max_length,total_words,label,predictors = TokenizeRecipes(cleaned_sequences)()\n",
    "total_words"
   ]
  },
  {
   "cell_type": "code",
   "execution_count": 16,
   "metadata": {},
   "outputs": [
    {
     "data": {
      "text/plain": [
       "44"
      ]
     },
     "execution_count": 16,
     "metadata": {},
     "output_type": "execute_result"
    }
   ],
   "source": [
    "max_length"
   ]
  },
  {
   "cell_type": "markdown",
   "metadata": {},
   "source": [
    "Embedding words using word2vec"
   ]
  },
  {
   "cell_type": "code",
   "execution_count": 17,
   "metadata": {},
   "outputs": [
    {
     "data": {
      "text/plain": [
       "{'corpora': ['semeval-2016-2017-task3-subtaskBC',\n",
       "  'semeval-2016-2017-task3-subtaskA-unannotated',\n",
       "  'patent-2017',\n",
       "  'quora-duplicate-questions',\n",
       "  'wiki-english-20171001',\n",
       "  'text8',\n",
       "  'fake-news',\n",
       "  '20-newsgroups',\n",
       "  '__testing_matrix-synopsis',\n",
       "  '__testing_multipart-matrix-synopsis'],\n",
       " 'models': ['fasttext-wiki-news-subwords-300',\n",
       "  'conceptnet-numberbatch-17-06-300',\n",
       "  'word2vec-ruscorpora-300',\n",
       "  'word2vec-google-news-300',\n",
       "  'glove-wiki-gigaword-50',\n",
       "  'glove-wiki-gigaword-100',\n",
       "  'glove-wiki-gigaword-200',\n",
       "  'glove-wiki-gigaword-300',\n",
       "  'glove-twitter-25',\n",
       "  'glove-twitter-50',\n",
       "  'glove-twitter-100',\n",
       "  'glove-twitter-200',\n",
       "  '__testing_word2vec-matrix-synopsis']}"
      ]
     },
     "execution_count": 17,
     "metadata": {},
     "output_type": "execute_result"
    }
   ],
   "source": [
    "api.info(name_only=True)"
   ]
  },
  {
   "cell_type": "code",
   "execution_count": 18,
   "metadata": {},
   "outputs": [],
   "source": [
    "all_sequences = [x for list1 in cleaned_sequences for x in list1]"
   ]
  },
  {
   "cell_type": "code",
   "execution_count": 19,
   "metadata": {},
   "outputs": [],
   "source": [
    "embed_model = api.load('word2vec-google-news-300')"
   ]
  },
  {
   "cell_type": "code",
   "execution_count": 20,
   "metadata": {},
   "outputs": [],
   "source": [
    "embed_size = 300"
   ]
  },
  {
   "cell_type": "code",
   "execution_count": 21,
   "metadata": {},
   "outputs": [],
   "source": [
    "def embed_one_ingredient(ingredient):\n",
    "    '''Encode a single recipe'''\n",
    "    recipe_embedding = []\n",
    "    try:\n",
    "        recipe_embedding.append(embed_model[ingredient])\n",
    "    except:\n",
    "        recipe_embedding.append(np.zeros((embed_size)))\n",
    "    #recipe_embedding = pd.DataFrame(recipe_embedding)\n",
    "    return recipe_embedding"
   ]
  },
  {
   "cell_type": "code",
   "execution_count": 22,
   "metadata": {},
   "outputs": [
    {
     "data": {
      "text/plain": [
       "'honey'"
      ]
     },
     "execution_count": 22,
     "metadata": {},
     "output_type": "execute_result"
    }
   ],
   "source": [
    "test_word = cleaned_sequences[:1][0][3]\n",
    "test_word"
   ]
  },
  {
   "cell_type": "code",
   "execution_count": 23,
   "metadata": {},
   "outputs": [
    {
     "data": {
      "text/plain": [
       "[array([-4.54711914e-03, -1.25976562e-01, -1.68945312e-01,  6.17675781e-02,\n",
       "         1.94549561e-03,  2.57568359e-02, -9.52148438e-02, -3.39843750e-01,\n",
       "        -6.53076172e-03,  1.54296875e-01,  3.88183594e-02, -3.12500000e-01,\n",
       "        -3.04687500e-01,  2.23632812e-01, -1.61132812e-01,  2.15820312e-01,\n",
       "        -3.02734375e-01,  1.63085938e-01, -2.73437500e-01, -2.10937500e-01,\n",
       "        -2.50244141e-02,  8.00781250e-02,  1.82617188e-01, -2.51464844e-02,\n",
       "        -1.61132812e-01,  5.32226562e-02, -4.68750000e-02, -3.01513672e-02,\n",
       "        -2.24609375e-02, -4.15039062e-02, -2.16064453e-02, -1.03027344e-01,\n",
       "        -1.22680664e-02, -1.12792969e-01, -3.28125000e-01,  1.18164062e-01,\n",
       "         1.76757812e-01, -1.90429688e-01,  2.51953125e-01,  2.20703125e-01,\n",
       "         1.66992188e-01, -1.87500000e-01,  1.62109375e-01,  4.34570312e-02,\n",
       "        -3.51562500e-01, -2.92968750e-01, -7.86132812e-02,  8.34960938e-02,\n",
       "        -5.27954102e-03, -6.68945312e-02, -2.98828125e-01,  2.81250000e-01,\n",
       "        -9.81445312e-02,  4.30297852e-03,  9.17968750e-02, -1.53320312e-01,\n",
       "        -1.97265625e-01,  1.07910156e-01,  2.40478516e-02, -3.32031250e-01,\n",
       "         4.68750000e-02,  1.75781250e-02, -3.97949219e-02,  2.83203125e-01,\n",
       "         9.37500000e-02, -2.53906250e-01, -1.91406250e-01, -2.55859375e-01,\n",
       "         3.61328125e-02,  1.62353516e-02,  5.07812500e-02,  2.64892578e-02,\n",
       "        -9.57031250e-02, -1.28906250e-01, -1.66992188e-01,  2.32421875e-01,\n",
       "        -1.78710938e-01, -1.16210938e-01,  1.45507812e-01, -2.42919922e-02,\n",
       "        -1.56250000e-01, -8.30078125e-02,  1.64062500e-01, -1.64062500e-01,\n",
       "        -2.08007812e-01,  1.32812500e-01, -1.77734375e-01,  3.47656250e-01,\n",
       "        -3.39355469e-02,  2.08007812e-01,  2.69775391e-02,  1.91406250e-01,\n",
       "        -3.04687500e-01, -3.90625000e-01,  2.63977051e-03, -7.47070312e-02,\n",
       "         4.12597656e-02, -3.16406250e-01,  1.58203125e-01, -2.00195312e-01,\n",
       "        -2.08007812e-01, -2.38281250e-01,  4.93164062e-02, -1.06933594e-01,\n",
       "        -1.23046875e-01, -1.15234375e-01,  3.78417969e-02,  1.29882812e-01,\n",
       "        -9.22851562e-02, -4.58984375e-02, -1.72851562e-01, -7.72094727e-03,\n",
       "        -1.64062500e-01,  2.50000000e-01, -5.07812500e-02,  1.74804688e-01,\n",
       "         1.13769531e-01, -2.77343750e-01, -2.77343750e-01, -1.05957031e-01,\n",
       "        -1.62353516e-02,  2.41210938e-01, -1.76757812e-01, -6.10351562e-02,\n",
       "         1.23535156e-01,  1.66015625e-01, -4.57763672e-04, -2.50244141e-02,\n",
       "         2.63671875e-01,  1.61132812e-01, -4.51171875e-01,  2.87109375e-01,\n",
       "         4.88281250e-04,  1.34765625e-01, -1.78710938e-01, -8.25195312e-02,\n",
       "         5.67626953e-03, -3.49121094e-02,  1.61132812e-01,  8.74023438e-02,\n",
       "         1.89453125e-01, -1.68945312e-01, -6.98242188e-02, -3.16406250e-01,\n",
       "        -7.86132812e-02, -9.52148438e-02,  6.25000000e-02,  1.03027344e-01,\n",
       "        -2.10937500e-01,  1.00708008e-02,  2.66113281e-02, -1.67968750e-01,\n",
       "        -2.92968750e-01, -3.51562500e-02,  5.24902344e-02, -2.25585938e-01,\n",
       "        -4.29687500e-02, -1.08398438e-01, -3.67187500e-01,  6.44531250e-02,\n",
       "        -2.46093750e-01,  3.50952148e-03,  1.86523438e-01,  8.30078125e-03,\n",
       "         4.00390625e-02,  3.78417969e-02,  9.71679688e-02,  3.06396484e-02,\n",
       "        -2.13867188e-01, -3.78417969e-02,  8.54492188e-02,  1.88476562e-01,\n",
       "        -5.79833984e-03, -6.10351562e-02, -3.94531250e-01, -1.26953125e-01,\n",
       "         2.03125000e-01, -5.98144531e-02,  1.07421875e-01, -8.49609375e-02,\n",
       "        -8.10546875e-02, -1.25976562e-01,  2.23388672e-02,  1.78710938e-01,\n",
       "        -3.80859375e-02,  2.70996094e-02, -1.33789062e-01,  6.10351562e-02,\n",
       "        -7.12890625e-02,  3.41796875e-01, -2.77343750e-01, -5.29785156e-02,\n",
       "         1.32812500e-01,  2.32421875e-01,  1.25976562e-01,  4.25781250e-01,\n",
       "         5.03540039e-03, -1.52343750e-01, -2.28271484e-02,  7.47070312e-02,\n",
       "         1.24023438e-01, -1.96289062e-01,  8.20312500e-02,  1.97753906e-02,\n",
       "        -1.63085938e-01,  1.54296875e-01,  3.97949219e-02,  2.15820312e-01,\n",
       "         5.07812500e-02,  4.85839844e-02, -4.98046875e-01, -7.95898438e-02,\n",
       "        -9.61914062e-02,  3.90625000e-02,  1.78710938e-01,  3.58886719e-02,\n",
       "        -2.18750000e-01,  1.33789062e-01,  3.18359375e-01,  1.39648438e-01,\n",
       "         2.50000000e-01, -5.59082031e-02, -1.51367188e-01,  7.86132812e-02,\n",
       "         3.51562500e-01,  1.73339844e-02, -5.34667969e-02, -4.54101562e-02,\n",
       "        -2.32421875e-01,  1.89453125e-01,  1.99218750e-01, -3.18359375e-01,\n",
       "        -3.39843750e-01,  2.00195312e-01, -2.37304688e-01, -3.73046875e-01,\n",
       "        -9.13085938e-02, -2.30468750e-01,  2.29492188e-01,  3.24707031e-02,\n",
       "         3.47656250e-01,  3.71093750e-02,  1.47460938e-01,  1.05468750e-01,\n",
       "         7.17773438e-02, -4.51660156e-02,  6.15234375e-02, -1.85394287e-03,\n",
       "         3.22265625e-02,  5.63964844e-02, -1.04980469e-01, -1.99218750e-01,\n",
       "         4.53125000e-01,  5.88378906e-02, -1.37329102e-02,  2.79541016e-02,\n",
       "        -2.67578125e-01, -4.88281250e-01,  5.44433594e-02,  8.83789062e-02,\n",
       "        -2.59399414e-03,  8.88671875e-02, -1.84570312e-01,  4.45312500e-01,\n",
       "         1.45507812e-01, -2.04101562e-01, -1.46484375e-01,  5.61523438e-02,\n",
       "         1.11083984e-02, -2.05078125e-01,  4.22363281e-02,  1.77734375e-01,\n",
       "         1.68945312e-01,  1.01562500e-01,  2.17773438e-01, -3.93066406e-02,\n",
       "         8.17871094e-03, -2.32421875e-01, -1.39648438e-01,  7.27539062e-02,\n",
       "        -1.59179688e-01,  3.49121094e-02,  7.61718750e-02,  1.30859375e-01,\n",
       "         1.80664062e-01, -5.46264648e-03,  8.78906250e-02,  4.39453125e-02,\n",
       "         1.69921875e-01,  4.37500000e-01, -1.99218750e-01, -1.78710938e-01,\n",
       "        -1.24511719e-01, -1.32812500e-01, -2.11914062e-01,  9.71679688e-02,\n",
       "         1.54296875e-01, -2.05993652e-03,  2.08984375e-01, -7.04956055e-03],\n",
       "       dtype=float32)]"
      ]
     },
     "execution_count": 23,
     "metadata": {},
     "output_type": "execute_result"
    }
   ],
   "source": [
    "embed_one_ingredient(test_word)"
   ]
  },
  {
   "cell_type": "code",
   "execution_count": 24,
   "metadata": {},
   "outputs": [],
   "source": [
    "def find_unique_ingredients(cleaned_sequences):\n",
    "    return list(set([x for sublist in cleaned_sequences for x in sublist]))\n",
    "\n",
    "unique_ingredients = find_unique_ingredients(cleaned_sequences)"
   ]
  },
  {
   "cell_type": "code",
   "execution_count": 25,
   "metadata": {},
   "outputs": [
    {
     "name": "stdout",
     "output_type": "stream",
     "text": [
      "(12413, 300)\n"
     ]
    },
    {
     "data": {
      "text/html": [
       "<div>\n",
       "<style scoped>\n",
       "    .dataframe tbody tr th:only-of-type {\n",
       "        vertical-align: middle;\n",
       "    }\n",
       "\n",
       "    .dataframe tbody tr th {\n",
       "        vertical-align: top;\n",
       "    }\n",
       "\n",
       "    .dataframe thead th {\n",
       "        text-align: right;\n",
       "    }\n",
       "</style>\n",
       "<table border=\"1\" class=\"dataframe\">\n",
       "  <thead>\n",
       "    <tr style=\"text-align: right;\">\n",
       "      <th></th>\n",
       "      <th>0</th>\n",
       "      <th>1</th>\n",
       "      <th>2</th>\n",
       "      <th>3</th>\n",
       "      <th>4</th>\n",
       "      <th>5</th>\n",
       "      <th>6</th>\n",
       "      <th>7</th>\n",
       "      <th>8</th>\n",
       "      <th>9</th>\n",
       "      <th>...</th>\n",
       "      <th>290</th>\n",
       "      <th>291</th>\n",
       "      <th>292</th>\n",
       "      <th>293</th>\n",
       "      <th>294</th>\n",
       "      <th>295</th>\n",
       "      <th>296</th>\n",
       "      <th>297</th>\n",
       "      <th>298</th>\n",
       "      <th>299</th>\n",
       "    </tr>\n",
       "  </thead>\n",
       "  <tbody>\n",
       "    <tr>\n",
       "      <th>0</th>\n",
       "      <td>0.000000</td>\n",
       "      <td>0.000000</td>\n",
       "      <td>0.000000</td>\n",
       "      <td>0.000000</td>\n",
       "      <td>0.000000</td>\n",
       "      <td>0.000000</td>\n",
       "      <td>0.000000</td>\n",
       "      <td>0.000000</td>\n",
       "      <td>0.000000</td>\n",
       "      <td>0.000000</td>\n",
       "      <td>...</td>\n",
       "      <td>0.000000</td>\n",
       "      <td>0.000000</td>\n",
       "      <td>0.000000</td>\n",
       "      <td>0.000000</td>\n",
       "      <td>0.000000</td>\n",
       "      <td>0.000000</td>\n",
       "      <td>0.000000</td>\n",
       "      <td>0.000000</td>\n",
       "      <td>0.000000</td>\n",
       "      <td>0.000000</td>\n",
       "    </tr>\n",
       "    <tr>\n",
       "      <th>1</th>\n",
       "      <td>-0.057373</td>\n",
       "      <td>0.222656</td>\n",
       "      <td>0.204102</td>\n",
       "      <td>0.046631</td>\n",
       "      <td>-0.027344</td>\n",
       "      <td>0.296875</td>\n",
       "      <td>-0.102539</td>\n",
       "      <td>-0.172852</td>\n",
       "      <td>0.024414</td>\n",
       "      <td>0.310547</td>\n",
       "      <td>...</td>\n",
       "      <td>-0.357422</td>\n",
       "      <td>-0.478516</td>\n",
       "      <td>-0.131836</td>\n",
       "      <td>0.162109</td>\n",
       "      <td>0.167969</td>\n",
       "      <td>0.054199</td>\n",
       "      <td>0.166016</td>\n",
       "      <td>0.197266</td>\n",
       "      <td>-0.053955</td>\n",
       "      <td>-0.161133</td>\n",
       "    </tr>\n",
       "    <tr>\n",
       "      <th>2</th>\n",
       "      <td>0.078125</td>\n",
       "      <td>0.203125</td>\n",
       "      <td>0.063965</td>\n",
       "      <td>0.133789</td>\n",
       "      <td>0.096191</td>\n",
       "      <td>0.004486</td>\n",
       "      <td>0.271484</td>\n",
       "      <td>-0.421875</td>\n",
       "      <td>-0.165039</td>\n",
       "      <td>0.183594</td>\n",
       "      <td>...</td>\n",
       "      <td>-0.179688</td>\n",
       "      <td>-0.320312</td>\n",
       "      <td>-0.150391</td>\n",
       "      <td>-0.000462</td>\n",
       "      <td>0.057617</td>\n",
       "      <td>-0.186523</td>\n",
       "      <td>0.121582</td>\n",
       "      <td>-0.072266</td>\n",
       "      <td>-0.140625</td>\n",
       "      <td>-0.132812</td>\n",
       "    </tr>\n",
       "    <tr>\n",
       "      <th>3</th>\n",
       "      <td>-0.349609</td>\n",
       "      <td>0.076172</td>\n",
       "      <td>0.095215</td>\n",
       "      <td>0.068359</td>\n",
       "      <td>-0.054199</td>\n",
       "      <td>0.023682</td>\n",
       "      <td>0.211914</td>\n",
       "      <td>-0.104492</td>\n",
       "      <td>-0.068359</td>\n",
       "      <td>0.234375</td>\n",
       "      <td>...</td>\n",
       "      <td>-0.150391</td>\n",
       "      <td>0.059814</td>\n",
       "      <td>-0.316406</td>\n",
       "      <td>0.023926</td>\n",
       "      <td>0.125977</td>\n",
       "      <td>-0.023438</td>\n",
       "      <td>0.046143</td>\n",
       "      <td>0.089355</td>\n",
       "      <td>-0.212891</td>\n",
       "      <td>0.118164</td>\n",
       "    </tr>\n",
       "    <tr>\n",
       "      <th>4</th>\n",
       "      <td>-0.255859</td>\n",
       "      <td>0.170898</td>\n",
       "      <td>-0.065918</td>\n",
       "      <td>0.213867</td>\n",
       "      <td>-0.040283</td>\n",
       "      <td>0.001259</td>\n",
       "      <td>0.304688</td>\n",
       "      <td>-0.202148</td>\n",
       "      <td>-0.190430</td>\n",
       "      <td>0.171875</td>\n",
       "      <td>...</td>\n",
       "      <td>-0.194336</td>\n",
       "      <td>-0.255859</td>\n",
       "      <td>0.318359</td>\n",
       "      <td>0.044678</td>\n",
       "      <td>0.333984</td>\n",
       "      <td>0.048584</td>\n",
       "      <td>-0.061523</td>\n",
       "      <td>0.125977</td>\n",
       "      <td>0.204102</td>\n",
       "      <td>0.382812</td>\n",
       "    </tr>\n",
       "    <tr>\n",
       "      <th>5</th>\n",
       "      <td>-0.187500</td>\n",
       "      <td>-0.199219</td>\n",
       "      <td>-0.038574</td>\n",
       "      <td>0.206055</td>\n",
       "      <td>-0.040527</td>\n",
       "      <td>-0.094238</td>\n",
       "      <td>0.166016</td>\n",
       "      <td>-0.250000</td>\n",
       "      <td>-0.164062</td>\n",
       "      <td>-0.009827</td>\n",
       "      <td>...</td>\n",
       "      <td>-0.425781</td>\n",
       "      <td>-0.416016</td>\n",
       "      <td>0.118164</td>\n",
       "      <td>-0.109863</td>\n",
       "      <td>-0.068848</td>\n",
       "      <td>0.070312</td>\n",
       "      <td>-0.093750</td>\n",
       "      <td>0.193359</td>\n",
       "      <td>0.213867</td>\n",
       "      <td>-0.049316</td>\n",
       "    </tr>\n",
       "    <tr>\n",
       "      <th>6</th>\n",
       "      <td>0.000000</td>\n",
       "      <td>0.000000</td>\n",
       "      <td>0.000000</td>\n",
       "      <td>0.000000</td>\n",
       "      <td>0.000000</td>\n",
       "      <td>0.000000</td>\n",
       "      <td>0.000000</td>\n",
       "      <td>0.000000</td>\n",
       "      <td>0.000000</td>\n",
       "      <td>0.000000</td>\n",
       "      <td>...</td>\n",
       "      <td>0.000000</td>\n",
       "      <td>0.000000</td>\n",
       "      <td>0.000000</td>\n",
       "      <td>0.000000</td>\n",
       "      <td>0.000000</td>\n",
       "      <td>0.000000</td>\n",
       "      <td>0.000000</td>\n",
       "      <td>0.000000</td>\n",
       "      <td>0.000000</td>\n",
       "      <td>0.000000</td>\n",
       "    </tr>\n",
       "    <tr>\n",
       "      <th>7</th>\n",
       "      <td>0.000000</td>\n",
       "      <td>0.000000</td>\n",
       "      <td>0.000000</td>\n",
       "      <td>0.000000</td>\n",
       "      <td>0.000000</td>\n",
       "      <td>0.000000</td>\n",
       "      <td>0.000000</td>\n",
       "      <td>0.000000</td>\n",
       "      <td>0.000000</td>\n",
       "      <td>0.000000</td>\n",
       "      <td>...</td>\n",
       "      <td>0.000000</td>\n",
       "      <td>0.000000</td>\n",
       "      <td>0.000000</td>\n",
       "      <td>0.000000</td>\n",
       "      <td>0.000000</td>\n",
       "      <td>0.000000</td>\n",
       "      <td>0.000000</td>\n",
       "      <td>0.000000</td>\n",
       "      <td>0.000000</td>\n",
       "      <td>0.000000</td>\n",
       "    </tr>\n",
       "    <tr>\n",
       "      <th>8</th>\n",
       "      <td>-0.151367</td>\n",
       "      <td>0.136719</td>\n",
       "      <td>0.116699</td>\n",
       "      <td>-0.178711</td>\n",
       "      <td>-0.111816</td>\n",
       "      <td>0.007446</td>\n",
       "      <td>-0.002625</td>\n",
       "      <td>-0.206055</td>\n",
       "      <td>0.009277</td>\n",
       "      <td>0.099609</td>\n",
       "      <td>...</td>\n",
       "      <td>-0.071289</td>\n",
       "      <td>-0.231445</td>\n",
       "      <td>-0.163086</td>\n",
       "      <td>0.049561</td>\n",
       "      <td>-0.102051</td>\n",
       "      <td>0.063477</td>\n",
       "      <td>-0.218750</td>\n",
       "      <td>0.008484</td>\n",
       "      <td>0.153320</td>\n",
       "      <td>-0.067383</td>\n",
       "    </tr>\n",
       "    <tr>\n",
       "      <th>9</th>\n",
       "      <td>-0.073242</td>\n",
       "      <td>0.132812</td>\n",
       "      <td>-0.006989</td>\n",
       "      <td>0.156250</td>\n",
       "      <td>0.070312</td>\n",
       "      <td>0.105957</td>\n",
       "      <td>0.312500</td>\n",
       "      <td>-0.437500</td>\n",
       "      <td>-0.049316</td>\n",
       "      <td>0.211914</td>\n",
       "      <td>...</td>\n",
       "      <td>-0.134766</td>\n",
       "      <td>-0.216797</td>\n",
       "      <td>0.044922</td>\n",
       "      <td>0.048828</td>\n",
       "      <td>-0.046143</td>\n",
       "      <td>0.102051</td>\n",
       "      <td>-0.065918</td>\n",
       "      <td>0.238281</td>\n",
       "      <td>0.094727</td>\n",
       "      <td>-0.253906</td>\n",
       "    </tr>\n",
       "  </tbody>\n",
       "</table>\n",
       "<p>10 rows × 300 columns</p>\n",
       "</div>"
      ],
      "text/plain": [
       "        0         1         2         3         4         5         6    \\\n",
       "0  0.000000  0.000000  0.000000  0.000000  0.000000  0.000000  0.000000   \n",
       "1 -0.057373  0.222656  0.204102  0.046631 -0.027344  0.296875 -0.102539   \n",
       "2  0.078125  0.203125  0.063965  0.133789  0.096191  0.004486  0.271484   \n",
       "3 -0.349609  0.076172  0.095215  0.068359 -0.054199  0.023682  0.211914   \n",
       "4 -0.255859  0.170898 -0.065918  0.213867 -0.040283  0.001259  0.304688   \n",
       "5 -0.187500 -0.199219 -0.038574  0.206055 -0.040527 -0.094238  0.166016   \n",
       "6  0.000000  0.000000  0.000000  0.000000  0.000000  0.000000  0.000000   \n",
       "7  0.000000  0.000000  0.000000  0.000000  0.000000  0.000000  0.000000   \n",
       "8 -0.151367  0.136719  0.116699 -0.178711 -0.111816  0.007446 -0.002625   \n",
       "9 -0.073242  0.132812 -0.006989  0.156250  0.070312  0.105957  0.312500   \n",
       "\n",
       "        7         8         9    ...       290       291       292       293  \\\n",
       "0  0.000000  0.000000  0.000000  ...  0.000000  0.000000  0.000000  0.000000   \n",
       "1 -0.172852  0.024414  0.310547  ... -0.357422 -0.478516 -0.131836  0.162109   \n",
       "2 -0.421875 -0.165039  0.183594  ... -0.179688 -0.320312 -0.150391 -0.000462   \n",
       "3 -0.104492 -0.068359  0.234375  ... -0.150391  0.059814 -0.316406  0.023926   \n",
       "4 -0.202148 -0.190430  0.171875  ... -0.194336 -0.255859  0.318359  0.044678   \n",
       "5 -0.250000 -0.164062 -0.009827  ... -0.425781 -0.416016  0.118164 -0.109863   \n",
       "6  0.000000  0.000000  0.000000  ...  0.000000  0.000000  0.000000  0.000000   \n",
       "7  0.000000  0.000000  0.000000  ...  0.000000  0.000000  0.000000  0.000000   \n",
       "8 -0.206055  0.009277  0.099609  ... -0.071289 -0.231445 -0.163086  0.049561   \n",
       "9 -0.437500 -0.049316  0.211914  ... -0.134766 -0.216797  0.044922  0.048828   \n",
       "\n",
       "        294       295       296       297       298       299  \n",
       "0  0.000000  0.000000  0.000000  0.000000  0.000000  0.000000  \n",
       "1  0.167969  0.054199  0.166016  0.197266 -0.053955 -0.161133  \n",
       "2  0.057617 -0.186523  0.121582 -0.072266 -0.140625 -0.132812  \n",
       "3  0.125977 -0.023438  0.046143  0.089355 -0.212891  0.118164  \n",
       "4  0.333984  0.048584 -0.061523  0.125977  0.204102  0.382812  \n",
       "5 -0.068848  0.070312 -0.093750  0.193359  0.213867 -0.049316  \n",
       "6  0.000000  0.000000  0.000000  0.000000  0.000000  0.000000  \n",
       "7  0.000000  0.000000  0.000000  0.000000  0.000000  0.000000  \n",
       "8 -0.102051  0.063477 -0.218750  0.008484  0.153320 -0.067383  \n",
       "9 -0.046143  0.102051 -0.065918  0.238281  0.094727 -0.253906  \n",
       "\n",
       "[10 rows x 300 columns]"
      ]
     },
     "execution_count": 25,
     "metadata": {},
     "output_type": "execute_result"
    }
   ],
   "source": [
    "def encode_recipes(unique_ingredients,tokenizer=tokenizer,embed_size=embed_size):\n",
    "    '''Encode all recipes'''\n",
    "    word_index = tokenizer.word_index\n",
    "    recipe_embeddings = np.zeros((len(unique_ingredients)+1,embed_size))\n",
    "    for ingredient,i in word_index.items():\n",
    "        ingredient_embedding = embed_one_ingredient(ingredient)[0]\n",
    "        recipe_embeddings[i,:] = ingredient_embedding\n",
    "    #recipe_embeddings = np.delete(recipe_embeddings,0,axis=0) #dict starts at 1\n",
    "    return recipe_embeddings\n",
    "\n",
    "recipe_embeddings = encode_recipes(unique_ingredients)\n",
    "print(recipe_embeddings.shape)\n",
    "pd.DataFrame(recipe_embeddings).head(10)"
   ]
  },
  {
   "cell_type": "code",
   "execution_count": 26,
   "metadata": {},
   "outputs": [],
   "source": [
    "#preparing test and train sets"
   ]
  },
  {
   "cell_type": "code",
   "execution_count": 27,
   "metadata": {},
   "outputs": [],
   "source": [
    "#shuffeling labels and predictors \n",
    "shuffled_index = np.random.permutation(len(predictors))\n",
    "predictors = predictors[shuffled_index]\n",
    "label = label[shuffled_index]"
   ]
  },
  {
   "cell_type": "code",
   "execution_count": 28,
   "metadata": {},
   "outputs": [
    {
     "data": {
      "text/plain": [
       "'\\nlabel=label.reshape(-1,1)\\nlabel = label-1\\n\\npredictors = predictors-1\\n'"
      ]
     },
     "execution_count": 28,
     "metadata": {},
     "output_type": "execute_result"
    }
   ],
   "source": [
    "#shifting data to match encoding matrix\n",
    "'''\n",
    "label=label.reshape(-1,1)\n",
    "label = label-1\n",
    "\n",
    "predictors = predictors-1\n",
    "'''"
   ]
  },
  {
   "cell_type": "code",
   "execution_count": 29,
   "metadata": {},
   "outputs": [
    {
     "data": {
      "text/plain": [
       "(1, 12412)"
      ]
     },
     "execution_count": 29,
     "metadata": {},
     "output_type": "execute_result"
    }
   ],
   "source": [
    "label.min(), label.max()"
   ]
  },
  {
   "cell_type": "code",
   "execution_count": 30,
   "metadata": {},
   "outputs": [
    {
     "data": {
      "text/plain": [
       "(12412, 0)"
      ]
     },
     "execution_count": 30,
     "metadata": {},
     "output_type": "execute_result"
    }
   ],
   "source": [
    "predictors.max(), predictors.min()"
   ]
  },
  {
   "cell_type": "code",
   "execution_count": 31,
   "metadata": {},
   "outputs": [
    {
     "data": {
      "text/plain": [
       "array([[  0,   0,   0, ...,   1, 448, 104],\n",
       "       [  0,   0,   0, ..., 526,  28, 221],\n",
       "       [  0,   0,   0, ...,   0,   0,  59],\n",
       "       ...,\n",
       "       [  0,   0,   0, ...,   0,   0, 137],\n",
       "       [  0,   0,   0, ..., 958,  12,   2],\n",
       "       [  0,   0,   0, ...,   7,   4, 156]])"
      ]
     },
     "execution_count": 31,
     "metadata": {},
     "output_type": "execute_result"
    }
   ],
   "source": [
    "predictors"
   ]
  },
  {
   "cell_type": "code",
   "execution_count": 32,
   "metadata": {},
   "outputs": [
    {
     "data": {
      "text/plain": [
       "array([  7, 806, 370, ...,  28,  27, 149])"
      ]
     },
     "execution_count": 32,
     "metadata": {},
     "output_type": "execute_result"
    }
   ],
   "source": [
    "label"
   ]
  },
  {
   "cell_type": "markdown",
   "metadata": {},
   "source": [
    "<h2><br></h2>\n",
    "<h2>Building model</h2>"
   ]
  },
  {
   "cell_type": "code",
   "execution_count": 33,
   "metadata": {},
   "outputs": [
    {
     "data": {
      "text/plain": [
       "((1948345, 43), (1948345,), (12413, 300), 12412)"
      ]
     },
     "execution_count": 33,
     "metadata": {},
     "output_type": "execute_result"
    }
   ],
   "source": [
    "predictors.shape, label.shape, recipe_embeddings.shape,len(unique_ingredients)"
   ]
  },
  {
   "cell_type": "code",
   "execution_count": 34,
   "metadata": {},
   "outputs": [
    {
     "name": "stderr",
     "output_type": "stream",
     "text": [
      "2023-08-20 18:18:19.597671: I tensorflow/compiler/xla/stream_executor/cuda/cuda_gpu_executor.cc:995] successful NUMA node read from SysFS had negative value (-1), but there must be at least one NUMA node, so returning NUMA node zero. See more at https://github.com/torvalds/linux/blob/v6.0/Documentation/ABI/testing/sysfs-bus-pci#L344-L355\n",
      "2023-08-20 18:18:19.687757: W tensorflow/core/common_runtime/gpu/gpu_device.cc:1960] Cannot dlopen some GPU libraries. Please make sure the missing libraries mentioned above are installed properly if you would like to use GPU. Follow the guide at https://www.tensorflow.org/install/gpu for how to download and setup the required libraries for your platform.\n",
      "Skipping registering GPU devices...\n"
     ]
    }
   ],
   "source": [
    "predictors = tf.cast(predictors,tf.float64)\n",
    "label = tf.cast(label,tf.float64)"
   ]
  },
  {
   "cell_type": "code",
   "execution_count": 35,
   "metadata": {},
   "outputs": [],
   "source": [
    "def create_model(embed_size=embed_size, unique_ingredients=len(unique_ingredients), recipe_embeddings=recipe_embeddings):\n",
    "    '''Build LSTM model'''\n",
    "    input_len = max_length-1\n",
    "    model = Sequential()\n",
    "    model.add(Embedding(unique_ingredients+1, embed_size, weights=[recipe_embeddings], trainable=False, mask_zero=True, input_length=input_len)) \n",
    "    model.add(LSTM(100))\n",
    "    model.add(Dropout(0.1))\n",
    "    model.add(Dense(unique_ingredients, activation='softmax'))\n",
    "    model.compile(loss='sparse_categorical_crossentropy',optimizer='adam')\n",
    "    return model"
   ]
  },
  {
   "cell_type": "code",
   "execution_count": 36,
   "metadata": {
    "scrolled": true
   },
   "outputs": [
    {
     "name": "stdout",
     "output_type": "stream",
     "text": [
      "[]\n"
     ]
    }
   ],
   "source": [
    "print(tf.config.list_physical_devices('GPU'))"
   ]
  },
  {
   "cell_type": "code",
   "execution_count": null,
   "metadata": {},
   "outputs": [
    {
     "name": "stdout",
     "output_type": "stream",
     "text": [
      "Epoch 1/5\n",
      "23568/60886 [==========>...................] - ETA: 9:00 - loss: 5.7401"
     ]
    }
   ],
   "source": [
    "#run on cpu because gpu has glitch with mask_zero=True\n",
    "with tf.device('/cpu:0'):\n",
    "    model = create_model()\n",
    "    history = model.fit(predictors, label, epochs=5)"
   ]
  },
  {
   "cell_type": "markdown",
   "metadata": {},
   "source": [
    "<h2><br></h2>\n",
    "<h2>Predicting what's for dinner</h2>"
   ]
  },
  {
   "cell_type": "code",
   "execution_count": 43,
   "metadata": {},
   "outputs": [],
   "source": [
    "def pad_sequences(token_list, max_length=max_length):\n",
    "    '''pad sequences (built in function returns a recursion error)'''\n",
    "    padded_sequence = []\n",
    "    zeros = (max_length-len(token_list))-1\n",
    "    padded = [int(0) for zero in range(zeros)]\n",
    "    padded.extend(token_list)\n",
    "    return padded"
   ]
  },
  {
   "cell_type": "code",
   "execution_count": 90,
   "metadata": {},
   "outputs": [],
   "source": [
    "def cook_for_me(seed_text, model):\n",
    "    next_words = 5\n",
    "    words_out = []\n",
    "    token_list = []\n",
    "\n",
    "    seed_text = seed_text.split(' ')\n",
    "    for word in seed_text:\n",
    "        token_ = tokenizer.texts_to_sequences([word])[0]\n",
    "        token_list.extend(token_)\n",
    "    token_list = pad_sequences(token_list)\n",
    "        \n",
    "    while next_words > 0:\n",
    "        proba = model.predict(np.array(token_list).reshape(-1,43), verbose=0)\n",
    "        predicted = np.argmax(proba, axis=1)\n",
    "        new_token = int(predicted[0])\n",
    "        word = list(tokenizer.word_index.keys())[int(predicted[0]-1)]\n",
    "        words_out.append(word)\n",
    "        token_list.append(new_token)\n",
    "        token_list.pop(0)\n",
    "        next_words -= 1\n",
    "    words_out = list(set(words_out))\n",
    "    string_out = 'Why not try adding some '+', '.join(words_out[:-1])+' and '+words_out[-1]+'?'\n",
    "    return string_out"
   ]
  },
  {
   "cell_type": "code",
   "execution_count": 45,
   "metadata": {},
   "outputs": [],
   "source": [
    "def make_suggestions(ingredients_in_stock):\n",
    "    for ingredient in ingredients_in_stock:\n",
    "        split_ingredients = ' and '.join(ingredient.split(' '))\n",
    "        greeting = 'For '+split_ingredients.upper() +' let me see... '\n",
    "        print(greeting)\n",
    "        print(cook_for_me(ingredient,model))\n",
    "        print('')"
   ]
  },
  {
   "cell_type": "code",
   "execution_count": 96,
   "metadata": {},
   "outputs": [
    {
     "name": "stdout",
     "output_type": "stream",
     "text": [
      "For CHICKEN let me see... \n",
      "Why not try adding some  and nepitella?\n",
      "\n",
      "For CHICKEN AND RICE let me see... \n",
      "Why not try adding some  and nepitella?\n",
      "\n",
      "For TUNA AND MAYONNAISE let me see... \n",
      "Why not try adding some  and nepitella?\n",
      "\n",
      "For PINEAPPLE let me see... \n",
      "Why not try adding some  and nepitella?\n",
      "\n"
     ]
    }
   ],
   "source": [
    "ingredients_in_stock = ['chicken','chicken rice','tuna mayonnaise','pineapple']\n",
    "make_suggestions(ingredients_in_stock)"
   ]
  },
  {
   "cell_type": "markdown",
   "metadata": {},
   "source": []
  }
 ],
 "metadata": {
  "kernelspec": {
   "display_name": "tf",
   "language": "python",
   "name": "tf"
  },
  "language_info": {
   "codemirror_mode": {
    "name": "ipython",
    "version": 3
   },
   "file_extension": ".py",
   "mimetype": "text/x-python",
   "name": "python",
   "nbconvert_exporter": "python",
   "pygments_lexer": "ipython3",
   "version": "3.9.17"
  }
 },
 "nbformat": 4,
 "nbformat_minor": 4
}
