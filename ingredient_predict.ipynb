{
 "cells": [
  {
   "cell_type": "markdown",
   "metadata": {},
   "source": [
    "<h1>What's for dinenr?</h1>\n",
    "<h4><i> An simple LSTM model generates dinner suggestions from partial ingredient list </i><h4>\n",
    "<h4><br></h4>\n",
    "<h2>Introduction</h2>\n",
    "\n",
    "\n",
    "<h2>Data Cleaning</h2>"
   ]
  },
  {
   "cell_type": "code",
   "execution_count": 1,
   "metadata": {
    "ExecuteTime": {
     "end_time": "2023-08-21T03:32:05.269460450Z",
     "start_time": "2023-08-21T03:32:04.558877362Z"
    }
   },
   "outputs": [
    {
     "name": "stderr",
     "output_type": "stream",
     "text": [
      "2023-08-20 20:32:04.615098: I tensorflow/core/util/port.cc:110] oneDNN custom operations are on. You may see slightly different numerical results due to floating-point round-off errors from different computation orders. To turn them off, set the environment variable `TF_ENABLE_ONEDNN_OPTS=0`.\n",
      "2023-08-20 20:32:04.638166: I tensorflow/core/platform/cpu_feature_guard.cc:182] This TensorFlow binary is optimized to use available CPU instructions in performance-critical operations.\n",
      "To enable the following instructions: AVX2 AVX_VNNI FMA, in other operations, rebuild TensorFlow with the appropriate compiler flags.\n",
      "2023-08-20 20:32:05.011998: W tensorflow/compiler/tf2tensorrt/utils/py_utils.cc:38] TF-TRT Warning: Could not find TensorRT\n"
     ]
    }
   ],
   "source": [
    "import pandas as pd\n",
    "import re\n",
    "import numpy as np\n",
    "import matplotlib.pyplot as plt\n",
    "from collections import Counter\n",
    "import pickle\n",
    "\n",
    "import tensorflow as tf\n",
    "import gensim.downloader as api\n",
    "from gensim.models import Word2Vec\n",
    "from tensorflow.keras.models import Sequential\n",
    "from tensorflow.keras.layers import Embedding, LSTM, Dense, Dropout\n",
    "from keras.preprocessing.text import Tokenizer\n",
    "\n",
    "import seaborn as sns\n",
    "#from wordcloud import WordCloud"
   ]
  },
  {
   "cell_type": "code",
   "execution_count": 2,
   "metadata": {
    "ExecuteTime": {
     "end_time": "2023-08-21T03:32:05.272957341Z",
     "start_time": "2023-08-21T03:32:05.270544344Z"
    }
   },
   "outputs": [
    {
     "data": {
      "text/plain": "\"\\ndef string_to_list(s):\\n    Converts a string that is formatted like a list to a list\\n    l = re.findall(r'\\\\w[\\\\w\\\\s]+',s)\\n    #l = ' '.join(l)\\n    return l\\n\""
     },
     "execution_count": 2,
     "metadata": {},
     "output_type": "execute_result"
    }
   ],
   "source": [
    "'''\n",
    "def string_to_list(s):\n",
    "    Converts a string that is formatted like a list to a list\n",
    "    l = re.findall(r'\\w[\\w\\s]+',s)\n",
    "    #l = ' '.join(l)\n",
    "    return l\n",
    "'''"
   ]
  },
  {
   "cell_type": "code",
   "execution_count": 3,
   "metadata": {
    "ExecuteTime": {
     "end_time": "2023-08-21T03:32:05.278164058Z",
     "start_time": "2023-08-21T03:32:05.272539346Z"
    }
   },
   "outputs": [
    {
     "data": {
      "text/plain": "\"\\n#cleaning token lists\\ninput_sequences = raw_recipes['ingredients'].apply(string_to_list).to_list()\\ninput_sequences[:1]\\n\""
     },
     "execution_count": 3,
     "metadata": {},
     "output_type": "execute_result"
    }
   ],
   "source": [
    "'''\n",
    "#cleaning token lists\n",
    "input_sequences = raw_recipes['ingredients'].apply(string_to_list).to_list()\n",
    "input_sequences[:1]\n",
    "'''"
   ]
  },
  {
   "cell_type": "code",
   "execution_count": 75,
   "metadata": {
    "ExecuteTime": {
     "end_time": "2023-08-21T04:02:06.474521234Z",
     "start_time": "2023-08-21T04:02:06.429740802Z"
    }
   },
   "outputs": [
    {
     "data": {
      "text/plain": "                                                raw_ingr replaced\n0      medium heads bibb or red leaf lettuce, washed,...  lettuce\n1                  mixed baby lettuces and spring greens  lettuce\n2                                   romaine lettuce leaf  lettuce\n3                                   iceberg lettuce leaf  lettuce\n4                                    red romaine lettuce  lettuce\n...                                                  ...      ...\n11654                                           soybeans  soybean\n11655                                              goose    goose\n11656                                             ajwain   ajwain\n11657                                           brinjals  brinjal\n11658                                              khoya    khoya\n\n[11659 rows x 2 columns]",
      "text/html": "<div>\n<style scoped>\n    .dataframe tbody tr th:only-of-type {\n        vertical-align: middle;\n    }\n\n    .dataframe tbody tr th {\n        vertical-align: top;\n    }\n\n    .dataframe thead th {\n        text-align: right;\n    }\n</style>\n<table border=\"1\" class=\"dataframe\">\n  <thead>\n    <tr style=\"text-align: right;\">\n      <th></th>\n      <th>raw_ingr</th>\n      <th>replaced</th>\n    </tr>\n  </thead>\n  <tbody>\n    <tr>\n      <th>0</th>\n      <td>medium heads bibb or red leaf lettuce, washed,...</td>\n      <td>lettuce</td>\n    </tr>\n    <tr>\n      <th>1</th>\n      <td>mixed baby lettuces and spring greens</td>\n      <td>lettuce</td>\n    </tr>\n    <tr>\n      <th>2</th>\n      <td>romaine lettuce leaf</td>\n      <td>lettuce</td>\n    </tr>\n    <tr>\n      <th>3</th>\n      <td>iceberg lettuce leaf</td>\n      <td>lettuce</td>\n    </tr>\n    <tr>\n      <th>4</th>\n      <td>red romaine lettuce</td>\n      <td>lettuce</td>\n    </tr>\n    <tr>\n      <th>...</th>\n      <td>...</td>\n      <td>...</td>\n    </tr>\n    <tr>\n      <th>11654</th>\n      <td>soybeans</td>\n      <td>soybean</td>\n    </tr>\n    <tr>\n      <th>11655</th>\n      <td>goose</td>\n      <td>goose</td>\n    </tr>\n    <tr>\n      <th>11656</th>\n      <td>ajwain</td>\n      <td>ajwain</td>\n    </tr>\n    <tr>\n      <th>11657</th>\n      <td>brinjals</td>\n      <td>brinjal</td>\n    </tr>\n    <tr>\n      <th>11658</th>\n      <td>khoya</td>\n      <td>khoya</td>\n    </tr>\n  </tbody>\n</table>\n<p>11659 rows × 2 columns</p>\n</div>"
     },
     "execution_count": 75,
     "metadata": {},
     "output_type": "execute_result"
    }
   ],
   "source": [
    "#precleaned dataframe will be used to clena data\n",
    "precleaned_key = pd.read_pickle('ingr_map.pkl')\n",
    "precleaned_key[['raw_ingr','replaced']]"
   ]
  },
  {
   "cell_type": "markdown",
   "source": [],
   "metadata": {
    "collapsed": false
   }
  },
  {
   "cell_type": "code",
   "execution_count": 78,
   "outputs": [
    {
     "data": {
      "text/plain": "                 raw_ingr  raw_words processed  len_proc replaced  count    id\n4752  bread machine flour          3      flmy         4     flmy  23078  2683\n4753    gluten-free flour          2      flmy         4     flmy  23078  2683\n4754                flour          1      flmy         4     flmy  23078  2683",
      "text/html": "<div>\n<style scoped>\n    .dataframe tbody tr th:only-of-type {\n        vertical-align: middle;\n    }\n\n    .dataframe tbody tr th {\n        vertical-align: top;\n    }\n\n    .dataframe thead th {\n        text-align: right;\n    }\n</style>\n<table border=\"1\" class=\"dataframe\">\n  <thead>\n    <tr style=\"text-align: right;\">\n      <th></th>\n      <th>raw_ingr</th>\n      <th>raw_words</th>\n      <th>processed</th>\n      <th>len_proc</th>\n      <th>replaced</th>\n      <th>count</th>\n      <th>id</th>\n    </tr>\n  </thead>\n  <tbody>\n    <tr>\n      <th>4752</th>\n      <td>bread machine flour</td>\n      <td>3</td>\n      <td>flmy</td>\n      <td>4</td>\n      <td>flmy</td>\n      <td>23078</td>\n      <td>2683</td>\n    </tr>\n    <tr>\n      <th>4753</th>\n      <td>gluten-free flour</td>\n      <td>2</td>\n      <td>flmy</td>\n      <td>4</td>\n      <td>flmy</td>\n      <td>23078</td>\n      <td>2683</td>\n    </tr>\n    <tr>\n      <th>4754</th>\n      <td>flour</td>\n      <td>1</td>\n      <td>flmy</td>\n      <td>4</td>\n      <td>flmy</td>\n      <td>23078</td>\n      <td>2683</td>\n    </tr>\n  </tbody>\n</table>\n</div>"
     },
     "execution_count": 78,
     "metadata": {},
     "output_type": "execute_result"
    }
   ],
   "source": [
    "precleaned_key[precleaned_key['replaced']=='flmy']"
   ],
   "metadata": {
    "collapsed": false,
    "ExecuteTime": {
     "end_time": "2023-08-21T04:02:34.462414952Z",
     "start_time": "2023-08-21T04:02:34.415126992Z"
    }
   }
  },
  {
   "cell_type": "code",
   "execution_count": 5,
   "metadata": {
    "ExecuteTime": {
     "end_time": "2023-08-21T03:32:05.441145634Z",
     "start_time": "2023-08-21T03:32:05.361225693Z"
    }
   },
   "outputs": [],
   "source": [
    "cleaning_key = dict(zip(precleaned_key['raw_ingr'],precleaned_key['replaced']))"
   ]
  },
  {
   "cell_type": "code",
   "execution_count": 6,
   "metadata": {
    "ExecuteTime": {
     "end_time": "2023-08-21T03:32:05.441417512Z",
     "start_time": "2023-08-21T03:32:05.402391177Z"
    }
   },
   "outputs": [],
   "source": [
    "class CleanRecipes():\n",
    "    def __init__(self,cleaning_key=cleaning_key): \n",
    "        self.raw_recipes = self.import_data()\n",
    "        self.input_sequences = self.raw_recipes['ingredients'].apply(self.string_to_list).to_list()\n",
    "        print(self.input_sequences)\n",
    "        self.cleaned_ingredients = []\n",
    "        self.cleaning_key = cleaning_key\n",
    "\n",
    "    def __call__(self):\n",
    "        self.cleaned_ingredients = self.clean_text()\n",
    "        return self.raw_recipes, self.input_sequences, self.cleaned_ingredients\n",
    "\n",
    "    def import_data(self):\n",
    "        #'''Imporrhow to run a jupyter notebook in a gpu docker contqainert cleaned recipe, raw recipe and ratings data'''\n",
    "        raw_recipes = pd.read_csv('RAW_recipes.csv')\n",
    "        del raw_recipes['contributor_id']\n",
    "        del raw_recipes['submitted']\n",
    "        del raw_recipes['tags']\n",
    "        del raw_recipes['steps']\n",
    "        del raw_recipes['description']\n",
    "        raw_recipes = raw_recipes.set_index('id')\n",
    "        return raw_recipes\n",
    "\n",
    "    def string_to_list(self,s):\n",
    "        '''Converts a string that is formatted like a list to a list'''\n",
    "        l = re.findall(r'\\w[\\w\\s]+',s)\n",
    "        return l\n",
    "\n",
    "    def clean_text(self):\n",
    "        #all_ingredients = [x for sublist in self.input_sequences for x in sublist]\n",
    "        for recipe in self.input_sequences:\n",
    "            ingredient_bundle = []\n",
    "            for ingredient in recipe:\n",
    "                try:\n",
    "                    ingredient_bundle.append(self.cleaning_key[ingredient])\n",
    "                except:\n",
    "                    ingredient_bundle.append(ingredient)\n",
    "            self.cleaned_ingredients.append(ingredient_bundle)\n",
    "        return self.cleaned_ingredients"
   ]
  },
  {
   "cell_type": "code",
   "execution_count": 7,
   "metadata": {
    "ExecuteTime": {
     "end_time": "2023-08-21T03:32:08.392965474Z",
     "start_time": "2023-08-21T03:32:05.402523364Z"
    }
   },
   "outputs": [
    {
     "name": "stderr",
     "output_type": "stream",
     "text": [
      "IOPub data rate exceeded.\n",
      "The notebook server will temporarily stop sending output\n",
      "to the client in order to avoid crashing it.\n",
      "To change this limit, set the config variable\n",
      "`--NotebookApp.iopub_data_rate_limit`.\n",
      "\n",
      "Current values:\n",
      "NotebookApp.iopub_data_rate_limit=1000000.0 (bytes/sec)\n",
      "NotebookApp.rate_limit_window=3.0 (secs)\n",
      "\n"
     ]
    }
   ],
   "source": [
    "cleaner = CleanRecipes()\n",
    "raw_recipes, input_sequences, cleaned_sequences = cleaner()"
   ]
  },
  {
   "cell_type": "markdown",
   "metadata": {},
   "source": [
    "<h2><br></h2>\n",
    "<h2>EDA</h2>"
   ]
  },
  {
   "cell_type": "code",
   "execution_count": 8,
   "metadata": {
    "ExecuteTime": {
     "end_time": "2023-08-21T03:32:08.714403952Z",
     "start_time": "2023-08-21T03:32:08.516662938Z"
    }
   },
   "outputs": [
    {
     "data": {
      "text/plain": "<Figure size 640x480 with 1 Axes>",
      "image/png": "[encoded data removed]"
     },
     "metadata": {},
     "output_type": "display_data"
    }
   ],
   "source": [
    "#ingredient list length distribution\n",
    "lengths = [len(x) for x in cleaned_sequences]\n",
    "sns.histplot(pd.DataFrame(lengths),legend=False)\n",
    "plt.title('Ingredients per recipe')\n",
    "plt.xlabel('Length')\n",
    "plt.show()"
   ]
  },
  {
   "cell_type": "code",
   "execution_count": 9,
   "metadata": {
    "ExecuteTime": {
     "end_time": "2023-08-21T03:32:08.714829081Z",
     "start_time": "2023-08-21T03:32:08.702358342Z"
    }
   },
   "outputs": [
    {
     "data": {
      "text/plain": "\"\\nall_words = ' '.join([x for sublist in cleaned_sequences for x in sublist])\\nwordcloud = WordCloud().generate(all_words)\\nplt.imshow(wordcloud, interpolation='bilinear')\\nplt.axis('off')\\nplt.title('Word frequencies');\\n\""
     },
     "execution_count": 9,
     "metadata": {},
     "output_type": "execute_result"
    }
   ],
   "source": [
    "#overview of frequencies\n",
    "'''\n",
    "all_words = ' '.join([x for sublist in cleaned_sequences for x in sublist])\n",
    "wordcloud = WordCloud().generate(all_words)\n",
    "plt.imshow(wordcloud, interpolation='bilinear')\n",
    "plt.axis('off')\n",
    "plt.title('Word frequencies');\n",
    "'''"
   ]
  },
  {
   "cell_type": "code",
   "execution_count": 10,
   "metadata": {
    "ExecuteTime": {
     "end_time": "2023-08-21T03:32:08.714950515Z",
     "start_time": "2023-08-21T03:32:08.702610231Z"
    }
   },
   "outputs": [],
   "source": [
    "#top words\n",
    "def get_top(cleaned_sequences):\n",
    "    ingred = [x for sublist in cleaned_sequences for x in sublist]\n",
    "    ingred_counts = Counter(ingred).most_common()\n",
    "    #top_ingredients = [ingred_counts[n][0] for n in range(len(ingred_counts))]\n",
    "    return ingred_counts"
   ]
  },
  {
   "cell_type": "code",
   "execution_count": 11,
   "metadata": {
    "ExecuteTime": {
     "end_time": "2023-08-21T03:32:08.983797130Z",
     "start_time": "2023-08-21T03:32:08.702772483Z"
    }
   },
   "outputs": [
    {
     "data": {
      "text/plain": "<Figure size 1000x400 with 2 Axes>",
      "image/png": "[encoded data removed]"
     },
     "metadata": {},
     "output_type": "display_data"
    }
   ],
   "source": [
    "tops = get_top(cleaned_sequences)\n",
    "sorted_ingredients = [x[0] for x in tops]\n",
    "sorted_counts = [x[1] for x in tops]\n",
    "\n",
    "count_range = 10 \n",
    "plt.figure(figsize=(10,4))\n",
    "plt.suptitle('Ingredient Frequencies',fontsize=18)\n",
    "plt.subplot(1,2,1)\n",
    "plt.bar(sorted_ingredients[:count_range], sorted_counts[:count_range])\n",
    "plt.xticks(rotation=90)\n",
    "plt.ylim((0,90_000))\n",
    "plt.title('Most common')\n",
    "\n",
    "plt.subplot(1,2,2)\n",
    "plt.bar(sorted_ingredients[-count_range:], sorted_counts[-count_range:])\n",
    "plt.xticks(rotation=90)\n",
    "plt.ylim((0,90_000))\n",
    "plt.title('Least common');"
   ]
  },
  {
   "cell_type": "markdown",
   "metadata": {},
   "source": [
    "<h2><br></h2>\n",
    "<h2>Tokenizing ingredients</h2>"
   ]
  },
  {
   "cell_type": "code",
   "execution_count": 12,
   "metadata": {
    "ExecuteTime": {
     "end_time": "2023-08-21T03:32:08.986296451Z",
     "start_time": "2023-08-21T03:32:08.983693747Z"
    }
   },
   "outputs": [],
   "source": [
    "pad_value = int(0)"
   ]
  },
  {
   "cell_type": "code",
   "execution_count": 13,
   "metadata": {
    "ExecuteTime": {
     "end_time": "2023-08-21T03:32:08.998456203Z",
     "start_time": "2023-08-21T03:32:08.986741793Z"
    }
   },
   "outputs": [],
   "source": [
    "class TokenizeRecipes():\n",
    "    def __init__(self, input_sequences):\n",
    "        self.tokenizer = Tokenizer()\n",
    "        self.input_sequences = input_sequences\n",
    "    \n",
    "    def __call__(self):\n",
    "        self.tokenizer, self.ngram_sequences, self.totalwords = self.get_sequence_of_tokens()\n",
    "        self.max_length = self.find_max()\n",
    "        self.padded_sequence = self.pad_sequences()\n",
    "        self.padded_sequence = np.array(self.padded_sequence)\n",
    "        self.predictors, self.label = self.padded_sequence[:,:-1],self.padded_sequence[:,-1]\n",
    "        return self.tokenizer, self.max_length, self.totalwords, self.label, self.predictors\n",
    "\n",
    "    def get_sequence_of_tokens(self):\n",
    "        '''Tokenization'''    \n",
    "        self.tokenizer.fit_on_texts(self.input_sequences)\n",
    "        self.total_words = len(self.tokenizer.word_index) + 1\n",
    "\n",
    "        self.ngram_sequences = []\n",
    "        for line in self.input_sequences:\n",
    "            token_list = self.tokenizer.texts_to_sequences([line])[0]\n",
    "            for i in range(1, len(token_list)):\n",
    "                n_gram_sequence = token_list[:i+1]\n",
    "                self.ngram_sequences.append(n_gram_sequence)\n",
    "        return self.tokenizer, self.ngram_sequences, self.total_words\n",
    "\n",
    "    def find_max(self):\n",
    "        '''find max token length'''\n",
    "        self.max_length = max(len(x) for x in self.input_sequences)\n",
    "        return self.max_length\n",
    "\n",
    "    def pad_sequences(self):\n",
    "        '''pad sequences (built in function returns a recursion error)'''\n",
    "        self.padded_sequence = []\n",
    "        for sequence_in in self.ngram_sequences:\n",
    "            zeros = (self.max_length-len(sequence_in))\n",
    "            padded = [pad_value for zero in range(zeros)]\n",
    "            padded.extend(sequence_in)\n",
    "            self.padded_sequence.append(padded)\n",
    "        return self.padded_sequence"
   ]
  },
  {
   "cell_type": "code",
   "execution_count": 14,
   "metadata": {
    "ExecuteTime": {
     "end_time": "2023-08-21T03:32:15.627068422Z",
     "start_time": "2023-08-21T03:32:08.991050351Z"
    }
   },
   "outputs": [
    {
     "data": {
      "text/plain": "12413"
     },
     "execution_count": 14,
     "metadata": {},
     "output_type": "execute_result"
    }
   ],
   "source": [
    "tokenizer,max_length,total_words,label,predictors = TokenizeRecipes(cleaned_sequences)()\n",
    "total_words"
   ]
  },
  {
   "cell_type": "code",
   "execution_count": 15,
   "metadata": {
    "ExecuteTime": {
     "end_time": "2023-08-21T03:32:15.629128344Z",
     "start_time": "2023-08-21T03:32:15.627236458Z"
    }
   },
   "outputs": [
    {
     "data": {
      "text/plain": "44"
     },
     "execution_count": 15,
     "metadata": {},
     "output_type": "execute_result"
    }
   ],
   "source": [
    "max_length"
   ]
  },
  {
   "cell_type": "markdown",
   "metadata": {},
   "source": [
    "Embedding words using word2vec"
   ]
  },
  {
   "cell_type": "code",
   "execution_count": 16,
   "metadata": {
    "ExecuteTime": {
     "end_time": "2023-08-21T03:32:16.106659482Z",
     "start_time": "2023-08-21T03:32:15.628726165Z"
    }
   },
   "outputs": [
    {
     "data": {
      "text/plain": "{'corpora': ['semeval-2016-2017-task3-subtaskBC',\n  'semeval-2016-2017-task3-subtaskA-unannotated',\n  'patent-2017',\n  'quora-duplicate-questions',\n  'wiki-english-20171001',\n  'text8',\n  'fake-news',\n  '20-newsgroups',\n  '__testing_matrix-synopsis',\n  '__testing_multipart-matrix-synopsis'],\n 'models': ['fasttext-wiki-news-subwords-300',\n  'conceptnet-numberbatch-17-06-300',\n  'word2vec-ruscorpora-300',\n  'word2vec-google-news-300',\n  'glove-wiki-gigaword-50',\n  'glove-wiki-gigaword-100',\n  'glove-wiki-gigaword-200',\n  'glove-wiki-gigaword-300',\n  'glove-twitter-25',\n  'glove-twitter-50',\n  'glove-twitter-100',\n  'glove-twitter-200',\n  '__testing_word2vec-matrix-synopsis']}"
     },
     "execution_count": 16,
     "metadata": {},
     "output_type": "execute_result"
    }
   ],
   "source": [
    "api.info(name_only=True)"
   ]
  },
  {
   "cell_type": "code",
   "execution_count": 17,
   "metadata": {
    "ExecuteTime": {
     "end_time": "2023-08-21T03:32:16.147310209Z",
     "start_time": "2023-08-21T03:32:16.104703609Z"
    }
   },
   "outputs": [],
   "source": [
    "all_sequences = [x for list1 in cleaned_sequences for x in list1]"
   ]
  },
  {
   "cell_type": "code",
   "execution_count": 18,
   "metadata": {
    "ExecuteTime": {
     "end_time": "2023-08-21T03:32:36.855813981Z",
     "start_time": "2023-08-21T03:32:16.130407686Z"
    }
   },
   "outputs": [],
   "source": [
    "embed_model = api.load('word2vec-google-news-300')"
   ]
  },
  {
   "cell_type": "code",
   "execution_count": 19,
   "metadata": {
    "ExecuteTime": {
     "end_time": "2023-08-21T03:32:36.898705648Z",
     "start_time": "2023-08-21T03:32:36.898396934Z"
    }
   },
   "outputs": [],
   "source": [
    "embed_size = 300"
   ]
  },
  {
   "cell_type": "code",
   "execution_count": 20,
   "metadata": {
    "ExecuteTime": {
     "end_time": "2023-08-21T03:32:36.898968865Z",
     "start_time": "2023-08-21T03:32:36.898641976Z"
    }
   },
   "outputs": [],
   "source": [
    "def embed_one_ingredient(ingredient):\n",
    "    '''Encode a single recipe'''\n",
    "    recipe_embedding = []\n",
    "    try:\n",
    "        recipe_embedding.append(embed_model[ingredient])\n",
    "    except:\n",
    "        recipe_embedding.append(np.zeros((embed_size)))\n",
    "    #recipe_embedding = pd.DataFrame(recipe_embedding)\n",
    "    return recipe_embedding"
   ]
  },
  {
   "cell_type": "code",
   "execution_count": 21,
   "metadata": {
    "ExecuteTime": {
     "end_time": "2023-08-21T03:32:36.900461339Z",
     "start_time": "2023-08-21T03:32:36.898880052Z"
    }
   },
   "outputs": [
    {
     "data": {
      "text/plain": "'honey'"
     },
     "execution_count": 21,
     "metadata": {},
     "output_type": "execute_result"
    }
   ],
   "source": [
    "test_word = cleaned_sequences[:1][0][3]\n",
    "test_word"
   ]
  },
  {
   "cell_type": "code",
   "execution_count": 22,
   "metadata": {
    "ExecuteTime": {
     "end_time": "2023-08-21T03:32:36.901932568Z",
     "start_time": "2023-08-21T03:32:36.899036331Z"
    }
   },
   "outputs": [
    {
     "data": {
      "text/plain": "[array([-4.54711914e-03, -1.25976562e-01, -1.68945312e-01,  6.17675781e-02,\n         1.94549561e-03,  2.57568359e-02, -9.52148438e-02, -3.39843750e-01,\n        -6.53076172e-03,  1.54296875e-01,  3.88183594e-02, -3.12500000e-01,\n        -3.04687500e-01,  2.23632812e-01, -1.61132812e-01,  2.15820312e-01,\n        -3.02734375e-01,  1.63085938e-01, -2.73437500e-01, -2.10937500e-01,\n        -2.50244141e-02,  8.00781250e-02,  1.82617188e-01, -2.51464844e-02,\n        -1.61132812e-01,  5.32226562e-02, -4.68750000e-02, -3.01513672e-02,\n        -2.24609375e-02, -4.15039062e-02, -2.16064453e-02, -1.03027344e-01,\n        -1.22680664e-02, -1.12792969e-01, -3.28125000e-01,  1.18164062e-01,\n         1.76757812e-01, -1.90429688e-01,  2.51953125e-01,  2.20703125e-01,\n         1.66992188e-01, -1.87500000e-01,  1.62109375e-01,  4.34570312e-02,\n        -3.51562500e-01, -2.92968750e-01, -7.86132812e-02,  8.34960938e-02,\n        -5.27954102e-03, -6.68945312e-02, -2.98828125e-01,  2.81250000e-01,\n        -9.81445312e-02,  4.30297852e-03,  9.17968750e-02, -1.53320312e-01,\n        -1.97265625e-01,  1.07910156e-01,  2.40478516e-02, -3.32031250e-01,\n         4.68750000e-02,  1.75781250e-02, -3.97949219e-02,  2.83203125e-01,\n         9.37500000e-02, -2.53906250e-01, -1.91406250e-01, -2.55859375e-01,\n         3.61328125e-02,  1.62353516e-02,  5.07812500e-02,  2.64892578e-02,\n        -9.57031250e-02, -1.28906250e-01, -1.66992188e-01,  2.32421875e-01,\n        -1.78710938e-01, -1.16210938e-01,  1.45507812e-01, -2.42919922e-02,\n        -1.56250000e-01, -8.30078125e-02,  1.64062500e-01, -1.64062500e-01,\n        -2.08007812e-01,  1.32812500e-01, -1.77734375e-01,  3.47656250e-01,\n        -3.39355469e-02,  2.08007812e-01,  2.69775391e-02,  1.91406250e-01,\n        -3.04687500e-01, -3.90625000e-01,  2.63977051e-03, -7.47070312e-02,\n         4.12597656e-02, -3.16406250e-01,  1.58203125e-01, -2.00195312e-01,\n        -2.08007812e-01, -2.38281250e-01,  4.93164062e-02, -1.06933594e-01,\n        -1.23046875e-01, -1.15234375e-01,  3.78417969e-02,  1.29882812e-01,\n        -9.22851562e-02, -4.58984375e-02, -1.72851562e-01, -7.72094727e-03,\n        -1.64062500e-01,  2.50000000e-01, -5.07812500e-02,  1.74804688e-01,\n         1.13769531e-01, -2.77343750e-01, -2.77343750e-01, -1.05957031e-01,\n        -1.62353516e-02,  2.41210938e-01, -1.76757812e-01, -6.10351562e-02,\n         1.23535156e-01,  1.66015625e-01, -4.57763672e-04, -2.50244141e-02,\n         2.63671875e-01,  1.61132812e-01, -4.51171875e-01,  2.87109375e-01,\n         4.88281250e-04,  1.34765625e-01, -1.78710938e-01, -8.25195312e-02,\n         5.67626953e-03, -3.49121094e-02,  1.61132812e-01,  8.74023438e-02,\n         1.89453125e-01, -1.68945312e-01, -6.98242188e-02, -3.16406250e-01,\n        -7.86132812e-02, -9.52148438e-02,  6.25000000e-02,  1.03027344e-01,\n        -2.10937500e-01,  1.00708008e-02,  2.66113281e-02, -1.67968750e-01,\n        -2.92968750e-01, -3.51562500e-02,  5.24902344e-02, -2.25585938e-01,\n        -4.29687500e-02, -1.08398438e-01, -3.67187500e-01,  6.44531250e-02,\n        -2.46093750e-01,  3.50952148e-03,  1.86523438e-01,  8.30078125e-03,\n         4.00390625e-02,  3.78417969e-02,  9.71679688e-02,  3.06396484e-02,\n        -2.13867188e-01, -3.78417969e-02,  8.54492188e-02,  1.88476562e-01,\n        -5.79833984e-03, -6.10351562e-02, -3.94531250e-01, -1.26953125e-01,\n         2.03125000e-01, -5.98144531e-02,  1.07421875e-01, -8.49609375e-02,\n        -8.10546875e-02, -1.25976562e-01,  2.23388672e-02,  1.78710938e-01,\n        -3.80859375e-02,  2.70996094e-02, -1.33789062e-01,  6.10351562e-02,\n        -7.12890625e-02,  3.41796875e-01, -2.77343750e-01, -5.29785156e-02,\n         1.32812500e-01,  2.32421875e-01,  1.25976562e-01,  4.25781250e-01,\n         5.03540039e-03, -1.52343750e-01, -2.28271484e-02,  7.47070312e-02,\n         1.24023438e-01, -1.96289062e-01,  8.20312500e-02,  1.97753906e-02,\n        -1.63085938e-01,  1.54296875e-01,  3.97949219e-02,  2.15820312e-01,\n         5.07812500e-02,  4.85839844e-02, -4.98046875e-01, -7.95898438e-02,\n        -9.61914062e-02,  3.90625000e-02,  1.78710938e-01,  3.58886719e-02,\n        -2.18750000e-01,  1.33789062e-01,  3.18359375e-01,  1.39648438e-01,\n         2.50000000e-01, -5.59082031e-02, -1.51367188e-01,  7.86132812e-02,\n         3.51562500e-01,  1.73339844e-02, -5.34667969e-02, -4.54101562e-02,\n        -2.32421875e-01,  1.89453125e-01,  1.99218750e-01, -3.18359375e-01,\n        -3.39843750e-01,  2.00195312e-01, -2.37304688e-01, -3.73046875e-01,\n        -9.13085938e-02, -2.30468750e-01,  2.29492188e-01,  3.24707031e-02,\n         3.47656250e-01,  3.71093750e-02,  1.47460938e-01,  1.05468750e-01,\n         7.17773438e-02, -4.51660156e-02,  6.15234375e-02, -1.85394287e-03,\n         3.22265625e-02,  5.63964844e-02, -1.04980469e-01, -1.99218750e-01,\n         4.53125000e-01,  5.88378906e-02, -1.37329102e-02,  2.79541016e-02,\n        -2.67578125e-01, -4.88281250e-01,  5.44433594e-02,  8.83789062e-02,\n        -2.59399414e-03,  8.88671875e-02, -1.84570312e-01,  4.45312500e-01,\n         1.45507812e-01, -2.04101562e-01, -1.46484375e-01,  5.61523438e-02,\n         1.11083984e-02, -2.05078125e-01,  4.22363281e-02,  1.77734375e-01,\n         1.68945312e-01,  1.01562500e-01,  2.17773438e-01, -3.93066406e-02,\n         8.17871094e-03, -2.32421875e-01, -1.39648438e-01,  7.27539062e-02,\n        -1.59179688e-01,  3.49121094e-02,  7.61718750e-02,  1.30859375e-01,\n         1.80664062e-01, -5.46264648e-03,  8.78906250e-02,  4.39453125e-02,\n         1.69921875e-01,  4.37500000e-01, -1.99218750e-01, -1.78710938e-01,\n        -1.24511719e-01, -1.32812500e-01, -2.11914062e-01,  9.71679688e-02,\n         1.54296875e-01, -2.05993652e-03,  2.08984375e-01, -7.04956055e-03],\n       dtype=float32)]"
     },
     "execution_count": 22,
     "metadata": {},
     "output_type": "execute_result"
    }
   ],
   "source": [
    "embed_one_ingredient(test_word)"
   ]
  },
  {
   "cell_type": "code",
   "execution_count": 23,
   "metadata": {
    "ExecuteTime": {
     "end_time": "2023-08-21T03:32:36.955463801Z",
     "start_time": "2023-08-21T03:32:36.899269495Z"
    }
   },
   "outputs": [],
   "source": [
    "def find_unique_ingredients(cleaned_sequences):\n",
    "    return list(set([x for sublist in cleaned_sequences for x in sublist]))\n",
    "\n",
    "unique_ingredients = find_unique_ingredients(cleaned_sequences)"
   ]
  },
  {
   "cell_type": "code",
   "execution_count": 24,
   "outputs": [
    {
     "data": {
      "text/plain": "{'salt': 1,\n 'butter': 2,\n 'egg': 3,\n 'onion': 4,\n 'sugar': 5,\n 'olive oil': 6,\n 'garlic clove': 7,\n 'water': 8,\n 'milk': 9,\n 'flmy': 10,\n 'pepper': 11,\n 'brown sugar': 12,\n 'purpose flour': 13,\n 'garlic': 14,\n 'all': 15,\n 'baking powder': 16,\n 'scallion': 17,\n 'salt and pepper': 18,\n 'parmesan cheese': 19,\n 'lemon juice': 20,\n 'baking soda': 21,\n 'vegetable oil': 22,\n 'cheddar': 23,\n 'carrot': 24,\n 'vanilla': 25,\n 'black pepper': 26,\n 'cinnamon': 27,\n 'sour cream': 28,\n 'tomato': 29,\n 'soy sauce': 30,\n 'cream cheese': 31,\n 'garlic powder': 32,\n 'vanilla extract': 33,\n 'honey': 34,\n 'oil': 35,\n 'chicken breast': 36,\n 'chicken broth': 37,\n 'celery': 38,\n 'mayonnaise': 39,\n 'unsalted butter': 40,\n 'lemon': 41,\n 'potato': 42,\n 'paprika': 43,\n 'worcestershire sauce': 44,\n 'fresh parsley': 45,\n 'cornstarch': 46,\n 'fresh ground black pepper': 47,\n 'parsley': 48,\n 'chili powder': 49,\n 'bacon': 50,\n 'red onion': 51,\n 'ground cinnamon': 52,\n 'nutmeg': 53,\n 'cayenne pepper': 54,\n 'granulated sugar': 55,\n 'ground cumin': 56,\n 'ground beef': 57,\n 'bay leaf': 58,\n 'walnut': 59,\n 'pecan': 60,\n 'salt ': 61,\n 'mozzarella': 62,\n 'dijon mustard': 63,\n 'kosher salt': 64,\n 'low': 65,\n 'half': 66,\n 'red bell pepper': 67,\n 'powdered sugar': 68,\n 'sausage': 69,\n 'fresh lemon juice': 70,\n 'heavy cream': 71,\n 'green pepper': 72,\n 'margarine': 73,\n 'lettuce': 74,\n 'banana': 75,\n 'egg white': 76,\n 'yeast': 77,\n 'tortilla': 78,\n 'dried oregano': 79,\n 'mushroom': 80,\n 'orange juice': 81,\n 'zucchini': 82,\n 'diced tomato': 83,\n 'raisin': 84,\n 'tomato sauce': 85,\n 'chicken stock': 86,\n 'fresh cilantro': 87,\n 'tomato paste': 88,\n 'canola oil': 89,\n 'shallot': 90,\n 'fresh ginger': 91,\n 'cumin': 92,\n 'oregano': 93,\n 'dressing': 94,\n 'juice of': 95,\n 'egg yolk': 96,\n 'ketchup': 97,\n 'ground black pepper': 98,\n 'green bell pepper': 99,\n 'balsamic vinegar': 100,\n 'buttermilk': 101,\n 'apple': 102,\n 'cooking spray': 103,\n 'lime juice': 104,\n 'cilantro': 105,\n 'ginger': 106,\n 'fresh ground pepper': 107,\n 'ground ginger': 108,\n 'fresh basil': 109,\n 'onion powder': 110,\n 'dried thyme': 111,\n 'lime': 112,\n 'and': 113,\n 'vinegar': 114,\n 'freshly ground black pepper': 115,\n 'dried basil': 116,\n 'white sugar': 117,\n 'red wine vinegar': 118,\n 'whipping cream': 119,\n 'confectioners': 120,\n 'sea salt': 121,\n 'dry white wine': 122,\n 'cucumber': 123,\n 'lean ground beef': 124,\n 'whole wheat flmy': 125,\n 'light brown sugar': 126,\n 'yellow onion': 127,\n 'sesame oil': 128,\n 'thyme': 129,\n 'curry powder': 130,\n 'crushed red pepper flake': 131,\n 'ground nutmeg': 132,\n 'reduced': 133,\n 'breadcrumb': 134,\n 'shortening': 135,\n 'white wine': 136,\n 'avocado': 137,\n 'semi': 138,\n 'dry mustard': 139,\n 'white pepper': 140,\n 'cheese': 141,\n 'chile': 142,\n 'red pepper': 143,\n 'monterey jack cheese': 144,\n 'boiling water': 145,\n 'basil': 146,\n 'salsa': 147,\n 'cream': 148,\n 'orange': 149,\n 'chocolate chip': 150,\n 'garlic salt': 151,\n 'sweet chocolate chips': 152,\n 'cake mix': 153,\n 'fat': 154,\n 'red pepper flake': 155,\n 'celery rib': 156,\n 'artificial sweetener': 157,\n 'feta cheese': 158,\n 'cider vinegar': 159,\n 'chicken breast half': 160,\n 'chicken': 161,\n 'rum': 162,\n 'mustard': 163,\n 'black bean': 164,\n 'beef broth': 165,\n 'nut': 166,\n 'strawberry': 167,\n 'peanut butter': 168,\n 'fresh lime juice': 169,\n 'ground clove': 170,\n 'plain yogurt': 171,\n 'seasoning salt': 172,\n 'evaporated milk': 173,\n 'tabasco sauce': 174,\n 'white vinegar': 175,\n 'fresh thyme': 176,\n 'jalapeno pepper': 177,\n 'bell pepper': 178,\n 'cream of mushroom soup': 179,\n 'kidney bean': 180,\n 'cold water': 181,\n 'sesame seed': 182,\n 'skim milk': 183,\n 'hot sauce': 184,\n 'fresh mushroom': 185,\n 'swiss cheese': 186,\n 'sweet potato': 187,\n 'warm water': 188,\n 'pickle': 189,\n 'almond extract': 190,\n 'ground coriander': 191,\n 'cooked chicken': 192,\n 'lemon zest': 193,\n 'italian seasoning': 194,\n 'black olife': 195,\n 'clove': 196,\n 'maple syrup': 197,\n 'whole milk': 198,\n 'bread': 199,\n 'jalapeno': 200,\n 'sliced mushroom': 201,\n 'shrimp': 202,\n 'turmeric': 203,\n 'cayenne': 204,\n 'cinnamon stick': 205,\n 'cabbage': 206,\n 'sweetened condensed milk': 207,\n 'green chily': 208,\n 'fresh rosemary': 209,\n 'hot water': 210,\n 'cocoa': 211,\n 'fat milk': 212,\n 'zest of': 213,\n 'chive': 214,\n 'molass': 215,\n 'dark brown sugar': 216,\n 'leek': 217,\n 'chili sauce': 218,\n 'almond': 219,\n 'ham': 220,\n 'green bean': 221,\n 'pine nut': 222,\n 'white onion': 223,\n 'cherry tomato': 224,\n 'sweet onion': 225,\n 'liver': 226,\n 'sun': 227,\n 'peanut oil': 228,\n 'caper': 229,\n 'orange zest': 230,\n 'crushed pineapple': 231,\n 'cooked rice': 232,\n 'allspice': 233,\n 'coconut milk': 234,\n 'frozen pea': 235,\n 'chicken thigh': 236,\n 'ice': 237,\n 'chocolate': 238,\n 'cocoa powder': 239,\n 'red wine': 240,\n 'cream of chicken soup': 241,\n 'ice cube': 242,\n 'barbecue sauce': 243,\n 'corn': 244,\n 'pineapple juice': 245,\n 'rolled oat': 246,\n 'cornmeal': 247,\n 'rice vinegar': 248,\n 'coconut': 249,\n 'broccoli': 250,\n 'fresh dill': 251,\n 'rice': 252,\n 'vegetable broth': 253,\n 'quick': 254,\n 'hard': 255,\n 'pork chop': 256,\n 'ricotta cheese': 257,\n 'plum tomato': 258,\n 'fresh basil leaf': 259,\n 'eggplant': 260,\n 'rosemary': 261,\n 'white wine vinegar': 262,\n 'gingerroot': 263,\n 'cooking oil': 264,\n 'fresh chive': 265,\n 'pure vanilla extract': 266,\n 'red potato': 267,\n 'apple cider vinegar': 268,\n 'beer': 269,\n 'whipped cream': 270,\n 'cool whip': 271,\n 'plain flmy': 272,\n 'dried cranberry': 273,\n 'spinach': 274,\n 'chickpea': 275,\n 'horseradish': 276,\n 'vodka': 277,\n 'salmon fillet': 278,\n 'chopped tomato': 279,\n 'ground allspice': 280,\n 'dried parsley': 281,\n 'blueberry': 282,\n 'fish sauce': 283,\n 'of fresh mint': 284,\n 'vegetable stock': 285,\n 'bread flmy': 286,\n 'icing sugar': 287,\n 'flat leaf parsley': 288,\n 'cottage cheese': 289,\n 'hot pepper sauce': 290,\n 'fresh spinach': 291,\n 'caster sugar': 292,\n 'celery seed': 293,\n 'dry sherry': 294,\n 'blue cheese': 295,\n 'sliced almond': 296,\n 'applesauce': 297,\n 'mango': 298,\n 'peach': 299,\n 'broccoli floret': 300,\n 'vanilla ice cream': 301,\n 'frozen chopped spinach': 302,\n 'light corn syrup': 303,\n 'dried rosemary': 304,\n 'boiled eggs': 305,\n 'crushed tomato': 306,\n 'cumin seed': 307,\n 'unsweetened cocoa powder': 308,\n 'white bread': 309,\n 'coarse salt': 310,\n 'roma tomato': 311,\n 'spaghettus': 312,\n 'fresh strawberry': 313,\n 'granny smith apple': 314,\n 'ground pepper': 315,\n 'cream of tartar': 316,\n 'coriander': 317,\n 'pastum': 318,\n 'seasoning mix': 319,\n 'cauliflower': 320,\n 'heavy whipping cream': 321,\n 'pork tenderloin': 322,\n 'apple juice': 323,\n 'asparagu': 324,\n 'french bread': 325,\n 'dried tomato': 326,\n 'spaghetti sauce': 327,\n 'roasted red pepper': 328,\n 'elbow macaroni': 329,\n 'russet potato': 330,\n 'self': 331,\n 'beef stock': 332,\n 'dry breadcrumb': 333,\n 'dry red wine': 334,\n 'basil leaf': 335,\n 'ground turkey': 336,\n 'dried apricot': 337,\n 'fresh oregano': 338,\n 'brandy': 339,\n 'fresh garlic': 340,\n 'pumpkin': 341,\n 'baby spinach': 342,\n 'ground red pepper': 343,\n 'peanut': 344,\n 'baby carrot': 345,\n 'oatmeal': 346,\n 'graham cracker crumb': 347,\n 'minced garlic clove': 348,\n 'creamy peanut butter': 349,\n 'marshmallow': 350,\n 'salt and black pepper': 351,\n 'ground pork': 352,\n 'yogurt': 353,\n 'baking potato': 354,\n 'frozen corn': 355,\n 'oat': 356,\n 'maraschino cherry': 357,\n 'stewed tomato': 358,\n 'velveeta cheese': 359,\n 'hamburger bun': 360,\n 'sherry wine': 361,\n 'taco seasoning': 362,\n 'orange rind': 363,\n 'hoisin sauce': 364,\n 'button mushroom': 365,\n 'golden raisin': 366,\n 'flaked coconut': 367,\n 'caraway seed': 368,\n 'ground cardamom': 369,\n 'cake flmy': 370,\n 'onion soup mix': 371,\n 'poppy seed': 372,\n 'sweet red pepper': 373,\n 'yellow bell pepper': 374,\n 'butternut squash': 375,\n 'half cream': 376,\n 'celery salt': 377,\n 'cooked ham': 378,\n 'pear': 379,\n 'date': 380,\n 'cracked black pepper': 381,\n 'yellow mustard': 382,\n 'artichoke heart': 383,\n 'frozen spinach': 384,\n 'pineapple': 385,\n 'fresh coarse ground black pepper': 386,\n 'garam masala': 387,\n 'lemon peel': 388,\n 'chicken bouillon cube': 389,\n 'yellow cornmeal': 390,\n 'firm tofu': 391,\n 'dill weed': 392,\n 'pea': 393,\n 'provolone cheese': 394,\n 'sage': 395,\n 'goat cheese': 396,\n 'black peppercorn': 397,\n 'ground turmeric': 398,\n 'poultry seasoning': 399,\n 'large shrimp': 400,\n 'whole kernel corn': 401,\n 'fennel seed': 402,\n 'rice wine vinegar': 403,\n 'whole clove': 404,\n 'unsweetened applesauce': 405,\n 'part': 406,\n 'chili': 407,\n 'cooking oats': 408,\n 'american cheese': 409,\n 'parmigiano': 410,\n 'fresh blueberry': 411,\n 'sunflower seed': 412,\n 'fresh orange juice': 413,\n 'unbleached all': 414,\n 'tomato juice': 415,\n 'liquid smoke': 416,\n 'tomato puree': 417,\n 'pinto bean': 418,\n 'egg noodle': 419,\n 'fresh tomato': 420,\n 'pumpkin pie spice': 421,\n 'cajun seasoning': 422,\n 'egg substitute': 423,\n 'dill': 424,\n 'crabmeat': 425,\n 'mustard seed': 426,\n 'penne pastum': 427,\n 'pie crust': 428,\n 'pineapple chunk': 429,\n 'mashed potato': 430,\n 'bittersweet chocolate': 431,\n 'corn syrup': 432,\n 'fat sour cream': 433,\n 'cornflmy': 434,\n 'pepperoni': 435,\n 'mandarin orange': 436,\n 'prosciutto': 437,\n 'lemon rind': 438,\n 'apple cider': 439,\n 'lemon wedge': 440,\n 'light cream': 441,\n 'fresh breadcrumb': 442,\n 'rind of': 443,\n 'reggiano cheese': 444,\n 'couscou': 445,\n 'pecan half': 446,\n 'sauerkraut': 447,\n 'lime zest': 448,\n 'tequila': 449,\n 'dried onion flake': 450,\n 'tuna': 451,\n 'brown rice': 452,\n 'cranberry': 453,\n 'fresh coriander': 454,\n 'soymilk': 455,\n 'fresh gingerroot': 456,\n 'white chocolate chip': 457,\n 'linguine': 458,\n 'catsup': 459,\n 'long grain rice': 460,\n 'panko breadcrumb': 461,\n 'beef': 462,\n 'water chestnut': 463,\n 'mint leaf': 464,\n 'fresh mint leaf': 465,\n 'chocolate syrup': 466,\n 'romano cheese': 467,\n 'medium shrimp': 468,\n 'pumpkin puree': 469,\n 'pesto sauce': 470,\n 'kalamata olive': 471,\n 'cooked chicken breast': 472,\n 'seasoning': 473,\n 'lasagna noodle': 474,\n 'green olife': 475,\n 'juice and zest of': 476,\n 'chicken wing': 477,\n 'mustard powder': 478,\n 'ature marshmallow': 479,\n 'oyster sauce': 480,\n 'garbanzo bean': 481,\n 'lemon pepper': 482,\n 'long': 483,\n 'grain rice': 484,\n 'old bay seasoning': 485,\n 'cranberry juice': 486,\n 'parsley flake': 487,\n 'fresh parsley leaf': 488,\n 'yellow squash': 489,\n 'green cabbage': 490,\n 'refried bean': 491,\n 'raspberry': 492,\n 'sodium chicken broth': 493,\n 'white rice': 494,\n 'orange marmalade': 495,\n 'diced green chily': 496,\n 'beef bouillon cube': 497,\n 'corn flake': 498,\n 'cannellini bean': 499,\n 'lime wedge': 500,\n 'hamburger': 501,\n 'cilantro leaf': 502,\n 'cashew': 503,\n 'vegetable shortening': 504,\n 'peppercorn': 505,\n 'chicken piece': 506,\n 'grape tomato': 507,\n 'fresh green bean': 508,\n 'white flmy': 509,\n 'bean sprout': 510,\n 'old fashioned oat': 511,\n 'basmati rice': 512,\n 'fat cheddar cheese': 513,\n 'kahlua': 514,\n 'light sour cream': 515,\n 'rising flour': 516,\n 'fresh cranberry': 517,\n 'fresh sage': 518,\n 'marjoram': 519,\n 'table salt': 520,\n 'portabella mushroom': 521,\n 'wheat germ': 522,\n 'pizza sauce': 523,\n 'shredded coconut': 524,\n 'dark chocolate': 525,\n 'diced onion': 526,\n 'parsnip': 527,\n 'refrigerated crescent dinner roll': 528,\n 'whole chicken': 529,\n 'tomato soup': 530,\n 'non': 531,\n 'gruyere cheese': 532,\n 'canned pumpkin': 533,\n 'whipped topping': 534,\n 'vidalia onion': 535,\n 'mint': 536,\n 'orzo pastum': 537,\n 'coffee': 538,\n 'baby spinach leaf': 539,\n 'unsweetened chocolate': 540,\n 'greek yogurt': 541,\n 'monterey jack pepper cheese': 542,\n 'tahini': 543,\n 'white chocolate': 544,\n 'radish': 545,\n 'coriander seed': 546,\n 'leaf parsley': 547,\n 'unsweetened cocoa': 548,\n 'fresh cilantro leaf': 549,\n 'dried marjoram': 550,\n 'whole tomato': 551,\n 'unflavored gelatin': 552,\n 'cooked bacon': 553,\n 'sweet paprika': 554,\n 'fresh raspberry': 555,\n 'new potato': 556,\n 'milk chocolate chip': 557,\n 'yukon gold potato': 558,\n 'fat cream cheese': 559,\n 'macaroni': 560,\n 'corn kernel': 561,\n 'bourbon': 562,\n 'salad oil': 563,\n 'snow pea': 564,\n 'red food coloring': 565,\n 'pasta sauce': 566,\n 'dried sage': 567,\n 'whole wheat bread': 568,\n 'ground chuck': 569,\n 'italian seasoned breadcrumb': 570,\n 'hazelnut': 571,\n 'dried parsley flake': 572,\n 'dried tarragon': 573,\n 'quick oat': 574,\n 'fresh flat': 575,\n 'tart apple': 576,\n 'beet': 577,\n 'flank steak': 578,\n 'fat mayonnaise': 579,\n 'extra': 580,\n 'teriyaki sauce': 581,\n 'unbleached flmy': 582,\n 'miracle whip': 583,\n 'pita bread': 584,\n 'fat yogurt': 585,\n 'lentil': 586,\n 'dry onion soup mix': 587,\n 'butterscotch chip': 588,\n 'marinara sauce': 589,\n 'fresh tarragon': 590,\n 'olife': 591,\n 'vanilla essence': 592,\n 'cream of celery soup': 593,\n 'asiago cheese': 594,\n 'cherry pie filling': 595,\n 'smoked paprika': 596,\n 'sweetened flaked coconut': 597,\n 'no': 598,\n 'frozen mixed vegetable': 599,\n 'angel hair pastum': 600,\n 'pure maple syrup': 601,\n 'macadamia nut': 602,\n 'toasted sesame seed': 603,\n 'skim mozzarella cheese': 604,\n 'self raising flmy': 605,\n 'instant vanilla pudding': 606,\n 'fresh garlic clove': 607,\n 'asparagus spear': 608,\n 'vanilla bean': 609,\n 'pimiento': 610,\n 'yellow pepper': 611,\n 'quinoa': 612,\n 'tilapia fillet': 613,\n 'orange peel': 614,\n 'lemongras': 615,\n 'cardamom': 616,\n 'graham cracker': 617,\n 'bisquick': 618,\n 'style corn': 619,\n 'onion salt': 620,\n 'powdered milk': 621,\n 'tarragon': 622,\n 'ground mustard': 623,\n 'instant coffee': 624,\n 'turmeric powder': 625,\n 'rhubarb': 626,\n 'corn oil': 627,\n 'pork': 628,\n 'red chili powder': 629,\n 'cooked brown rice': 630,\n 'dried dill': 631,\n 'green chili pepper': 632,\n 'red cabbage': 633,\n 'free chicken broth': 634,\n 'salmon': 635,\n 'raising flour': 636,\n 'vegetable': 637,\n 'ginger ale': 638,\n 'rice flmy': 639,\n 'gluten': 640,\n 'cornbread': 641,\n 'irish cream': 642,\n 'candy bar': 643,\n 'raw shrimp': 644,\n 'arborio rice': 645,\n 'ground cayenne pepper': 646,\n 'noodle': 647,\n 'fresh parmesan cheese': 648,\n 'creme fraiche': 649,\n 'triple sec': 650,\n 'condensed cream of mushroom soup': 651,\n 'ice water': 652,\n 'creamed corn': 653,\n 'italian parsley': 654,\n 'roasting chicken': 655,\n 'cumin powder': 656,\n 'fresh italian parsley': 657,\n 'plain breadcrumb': 658,\n 'grenadine': 659,\n 'dark sesame oil': 660,\n 'toasted sesame oil': 661,\n 'italian bread': 662,\n 'club soda': 663,\n 'ritz cracker': 664,\n 'apricot preserve': 665,\n 'lemon extract': 666,\n 'saffron': 667,\n 'brewed coffee': 668,\n 'salted butter': 669,\n 'frozen strawberry': 670,\n 'ground chicken': 671,\n 'chily': 672,\n 'frozen orange juice concentrate': 673,\n 'bacon bit': 674,\n 'smoked salmon': 675,\n 'amaretto': 676,\n 'creole seasoning': 677,\n 'fresh lemon rind': 678,\n 'round steak': 679,\n 'brussels sprout': 680,\n 'grand marnier': 681,\n 'fish fillet': 682,\n 'fresh pineapple': 683,\n 'canned tomato': 684,\n 'cracker': 685,\n 'dried thyme leaf': 686,\n 'kalamata olife': 687,\n 'pistachio': 688,\n 'cooked turkey': 689,\n 'chili pepper': 690,\n 'pork loin': 691,\n 'mexican blend cheese': 692,\n 'fresh asparagu': 693,\n 'coriander leaf': 694,\n 'english cucumber': 695,\n 'rice krispy': 696,\n 'vanilla yogurt': 697,\n 'chunky salsa': 698,\n 'turnip': 699,\n 'vanilla instant pudding mix': 700,\n 'hot dog': 701,\n 'gorgonzola': 702,\n 'frozen whipped topping': 703,\n 'seasoned bread crumb': 704,\n 'shiitake mushroom': 705,\n 'cauliflower floret': 706,\n 'spinach leaf': 707,\n 'red capsicum': 708,\n 'bean': 709,\n 'kielbasa': 710,\n 'olive': 711,\n 'red chily': 712,\n 'mirin': 713,\n 'pork loin chop': 714,\n 'dried oregano leaf': 715,\n 'pizza dough': 716,\n 'colby': 717,\n 'arugula': 718,\n 'sunflower oil': 719,\n 'kale': 720,\n 'coriander powder': 721,\n 'pancettum': 722,\n 'chuck roast': 723,\n 'mixed salad green': 724,\n 'dried dill weed': 725,\n 'red chili pepper': 726,\n 'ghee': 727,\n 'green chili': 728,\n 'superfine sugar': 729,\n 'blanched almond': 730,\n 'flax seed': 731,\n 'brie cheese': 732,\n 'eyed peas': 733,\n 'pie shell': 734,\n 'mascarpone cheese': 735,\n 'currant': 736,\n 'dried italian seasoning': 737,\n 'ground almond': 738,\n 'wonton wrapper': 739,\n 'french': 740,\n 'baguette': 741,\n 'fetum': 742,\n 'condensed cream of chicken soup': 743,\n 'fettuccine': 744,\n 'pearl barley': 745,\n 'plain low': 746,\n 'saffron thread': 747,\n 'fennel bulb': 748,\n 'chili paste': 749,\n 'steak': 750,\n 'bow tie pastum': 751,\n 'sirloin steak': 752,\n 'pizza crust': 753,\n 'oreo cookies': 754,\n 'wide egg noodle': 755,\n 'great northern bean': 756,\n 'soft breadcrumb': 757,\n 'dry milk powder': 758,\n 'alfredo sauce': 759,\n 'enchilada sauce': 760,\n 'crouton': 761,\n 'puff pastry': 762,\n 'crystallized ginger': 763,\n 'fat vanilla yogurt': 764,\n 'turkey': 765,\n 'white mushroom': 766,\n 'sherry wine vinegar': 767,\n 'prawn': 768,\n 'cre mushroom': 769,\n 'cooked white rice': 770,\n 'lard': 771,\n 'bisquick baking mix': 772,\n 'fresh thyme leave': 773,\n 'sliced water chestnut': 774,\n 'fat buttermilk': 775,\n 'baking cocoa': 776,\n 'oat bran': 777,\n 'english muffin': 778,\n 'style mustard': 779,\n 'penne': 780,\n 'cantaloupe': 781,\n 'ature chocolate chip': 782,\n 'oregano leaf': 783,\n 'rice wine': 784,\n 'frozen green pea': 785,\n 'marinated artichoke heart': 786,\n 'cardamom pod': 787,\n 'pork shoulder': 788,\n 'dried cherry': 789,\n 'tomatoes and green chily': 790,\n 'cherry': 791,\n 'mint sprig': 792,\n 'fine dry breadcrumb': 793,\n 'deli ham': 794,\n 'whole wheat pastry flmy': 795,\n 'instant coffee granule': 796,\n 'graham cracker crust': 797,\n 'white bean': 798,\n 'spanish onion': 799,\n 'sourdough bread': 800,\n 'ground flax seed': 801,\n 'tomatillo': 802,\n 'dijon': 803,\n 'smooth peanut butter': 804,\n 'ground lamb': 805,\n 'fried onion': 806,\n 'guacamole': 807,\n 'italian': 808,\n 'green food coloring': 809,\n 'berry': 810,\n 'mashed banana': 811,\n 'beef stew meat': 812,\n 'condensed milk': 813,\n 'anchovy fillet': 814,\n 'saltine cracker': 815,\n 'chicken bouillon granule': 816,\n 'chili flake': 817,\n 'golden syrup': 818,\n 'wine vinegar': 819,\n 'frozen raspberry': 820,\n 'wild rice': 821,\n 'sultana': 822,\n 'o gelatin': 823,\n 'chicken leg': 824,\n 'caramel': 825,\n 'whole berry cranberry sauce': 826,\n 'rotini pastum': 827,\n 'unbaked pie shell': 828,\n 'fresh herb': 829,\n 'instant chocolate pudding mix': 830,\n 'condensed tomato soup': 831,\n 'free mayonnaise': 832,\n 'double cream': 833,\n 'kiwi fruit': 834,\n 'papaya': 835,\n 'grain white rice': 836,\n 'chicken drumstick': 837,\n 'black': 838,\n 'steak sauce': 839,\n 'tuna in water': 840,\n 'garlic paste': 841,\n 'sea scallop': 842,\n 'meatball': 843,\n 'frozen chopped broccoli': 844,\n 'apricot jam': 845,\n 'soya sauce': 846,\n 'roll': 847,\n 'skim ricotta cheese': 848,\n 'blackberry': 849,\n 'frozen corn kernel': 850,\n 'chicken bouillon': 851,\n 'turkey breast': 852,\n 'red lentil': 853,\n 'tamarus': 854,\n 'green pea': 855,\n 'coleslaw mix': 856,\n 'fresh sage leaf': 857,\n 'bok choy': 858,\n 'salted peanut': 859,\n 'pineapple tidbit': 860,\n 'xanthan gum': 861,\n 'thyme leaf': 862,\n 'vanilla wafer': 863,\n 'spicy brown mustard': 864,\n 'herb': 865,\n 'desiccated coconut': 866,\n 'plain fat': 867,\n 'free yogurt': 868,\n 'fresh broccoli': 869,\n 'lemon slouse': 870,\n 'pumpkin seed': 871,\n 'instant rice': 872,\n 'garlic sauce': 873,\n 'beef brisket': 874,\n 'frozen puff pastry': 875,\n 'white fish fillet': 876,\n 'crunchy peanut butter': 877,\n 'serrano pepper': 878,\n 'five': 879,\n 'frozen blueberry': 880,\n 'tea bag': 881,\n 'lump crabmeat': 882,\n 'cognac': 883,\n 'coconut oil': 884,\n 'picante sauce': 885,\n 'mixed vegetable': 886,\n 'food coloring': 887,\n 'sliced olife': 888,\n 'bicarbonate of soda': 889,\n 'summer squash': 890,\n 'dried breadcrumb': 891,\n 'barley': 892,\n 'rigatoni pastum': 893,\n 'watermelon': 894,\n 'fettuccine pastum': 895,\n 'phyllo dough': 896,\n 'fruit': 897,\n 'fresh thyme leaf': 898,\n 'unsweetened chocolate square': 899,\n 'pitted date': 900,\n 'curry leaf': 901,\n 'dried basil leaf': 902,\n 'baked bean': 903,\n 'chinese five spice powder': 904,\n 'bamboo shoot': 905,\n 'stewing beef': 906,\n 'pork and bean': 907,\n 'fresh peach': 908,\n 'spice powder': 909,\n 'rotel tomato': 910,\n 'small red potato': 911,\n 'dried tomato packed in oil': 912,\n 'sake': 913,\n 'tofu': 914,\n 'fontina cheese': 915,\n 'cooked shrimp': 916,\n 'herbes de provence': 917,\n 'frozen broccoli': 918,\n 'devil': 919,\n 'crescent roll': 920,\n 'peppermint extract': 921,\n 'lean ground turkey': 922,\n 'strong coffee': 923,\n 'crisco': 924,\n 'raspberry jam': 925,\n 'sodium fat': 926,\n 'agave nectar': 927,\n 'sugar snap pea': 928,\n 'star anise': 929,\n 's food cake mix': 930,\n 'graham cracker pie crust': 931,\n 'campbell': 932,\n 'chili bean': 933,\n 'liquid honey': 934,\n 'whiskey': 935,\n 'sweet corn': 936,\n 'honey mustard': 937,\n 'flax seed meal': 938,\n 'prune': 939,\n 'white potato': 940,\n 'beef roast': 941,\n 'fat plain yogurt': 942,\n 'ground sage': 943,\n 'dried onion': 944,\n 'pitted black olife': 945,\n 'frozen hash brown potato': 946,\n 'salad green': 947,\n 'french baguette': 948,\n 'light coconut milk': 949,\n 'acorn squash': 950,\n 'clam': 951,\n 'roasted peanut': 952,\n 'unsweetened coconut milk': 953,\n 'hot pepper': 954,\n 'scallop': 955,\n 'cod fish fillet': 956,\n 'chunky peanut butter': 957,\n 'yam': 958,\n 'adobo sauce': 959,\n 'carbonated lemon': 960,\n 'lime beverage': 961,\n 'napa cabbage': 962,\n 'fresh spinach leaf': 963,\n 'corned beef': 964,\n 'salami': 965,\n 'potato starch': 966,\n 'marshmallow creme': 967,\n 'cooking apple': 968,\n 'potato chip': 969,\n 'ginger powder': 970,\n 'gelatin': 971,\n 'coconut cream': 972,\n 'ziti pastum': 973,\n 'fryer chicken': 974,\n 'pecorino romano cheese': 975,\n 'chicken breast fillet': 976,\n 'marshmallow cream': 977,\n 'walnut piece': 978,\n 'pretzel': 979,\n 'stock': 980,\n 'grape': 981,\n 'pork loin roast': 982,\n 'lamb': 983,\n 'mixed spice': 984,\n 'aluminum foil': 985,\n 'refrigerated biscuit': 986,\n 'whole grain mustard': 987,\n 'port wine': 988,\n 'dry roasted peanut': 989,\n 'coconut extract': 990,\n 'fresh thyme sprig': 991,\n 'smoked ham': 992,\n 'champagne': 993,\n 'orange juice concentrate': 994,\n 'ramen noodle': 995,\n 'dried tomatoes packed in oil': 996,\n 'rose water': 997,\n 'pork roast': 998,\n 'whole black peppercorn': 999,\n 'ice cream': 1000,\n ...}"
     },
     "execution_count": 24,
     "metadata": {},
     "output_type": "execute_result"
    }
   ],
   "source": [
    "word_index = tokenizer.word_index\n",
    "word_index"
   ],
   "metadata": {
    "collapsed": false,
    "ExecuteTime": {
     "end_time": "2023-08-21T03:32:36.968979062Z",
     "start_time": "2023-08-21T03:32:36.950572439Z"
    }
   }
  },
  {
   "cell_type": "code",
   "execution_count": 25,
   "metadata": {
    "ExecuteTime": {
     "end_time": "2023-08-21T03:32:37.011855252Z",
     "start_time": "2023-08-21T03:32:36.955419439Z"
    }
   },
   "outputs": [
    {
     "name": "stdout",
     "output_type": "stream",
     "text": [
      "(12413, 300)\n"
     ]
    },
    {
     "data": {
      "text/plain": "        0         1         2         3         4         5         6    \\\n0  0.000000  0.000000  0.000000  0.000000  0.000000  0.000000  0.000000   \n1 -0.057373  0.222656  0.204102  0.046631 -0.027344  0.296875 -0.102539   \n2  0.078125  0.203125  0.063965  0.133789  0.096191  0.004486  0.271484   \n3 -0.349609  0.076172  0.095215  0.068359 -0.054199  0.023682  0.211914   \n4 -0.255859  0.170898 -0.065918  0.213867 -0.040283  0.001259  0.304688   \n\n        7         8         9    ...       290       291       292       293  \\\n0  0.000000  0.000000  0.000000  ...  0.000000  0.000000  0.000000  0.000000   \n1 -0.172852  0.024414  0.310547  ... -0.357422 -0.478516 -0.131836  0.162109   \n2 -0.421875 -0.165039  0.183594  ... -0.179688 -0.320312 -0.150391 -0.000462   \n3 -0.104492 -0.068359  0.234375  ... -0.150391  0.059814 -0.316406  0.023926   \n4 -0.202148 -0.190430  0.171875  ... -0.194336 -0.255859  0.318359  0.044678   \n\n        294       295       296       297       298       299  \n0  0.000000  0.000000  0.000000  0.000000  0.000000  0.000000  \n1  0.167969  0.054199  0.166016  0.197266 -0.053955 -0.161133  \n2  0.057617 -0.186523  0.121582 -0.072266 -0.140625 -0.132812  \n3  0.125977 -0.023438  0.046143  0.089355 -0.212891  0.118164  \n4  0.333984  0.048584 -0.061523  0.125977  0.204102  0.382812  \n\n[5 rows x 300 columns]",
      "text/html": "<div>\n<style scoped>\n    .dataframe tbody tr th:only-of-type {\n        vertical-align: middle;\n    }\n\n    .dataframe tbody tr th {\n        vertical-align: top;\n    }\n\n    .dataframe thead th {\n        text-align: right;\n    }\n</style>\n<table border=\"1\" class=\"dataframe\">\n  <thead>\n    <tr style=\"text-align: right;\">\n      <th></th>\n      <th>0</th>\n      <th>1</th>\n      <th>2</th>\n      <th>3</th>\n      <th>4</th>\n      <th>5</th>\n      <th>6</th>\n      <th>7</th>\n      <th>8</th>\n      <th>9</th>\n      <th>...</th>\n      <th>290</th>\n      <th>291</th>\n      <th>292</th>\n      <th>293</th>\n      <th>294</th>\n      <th>295</th>\n      <th>296</th>\n      <th>297</th>\n      <th>298</th>\n      <th>299</th>\n    </tr>\n  </thead>\n  <tbody>\n    <tr>\n      <th>0</th>\n      <td>0.000000</td>\n      <td>0.000000</td>\n      <td>0.000000</td>\n      <td>0.000000</td>\n      <td>0.000000</td>\n      <td>0.000000</td>\n      <td>0.000000</td>\n      <td>0.000000</td>\n      <td>0.000000</td>\n      <td>0.000000</td>\n      <td>...</td>\n      <td>0.000000</td>\n      <td>0.000000</td>\n      <td>0.000000</td>\n      <td>0.000000</td>\n      <td>0.000000</td>\n      <td>0.000000</td>\n      <td>0.000000</td>\n      <td>0.000000</td>\n      <td>0.000000</td>\n      <td>0.000000</td>\n    </tr>\n    <tr>\n      <th>1</th>\n      <td>-0.057373</td>\n      <td>0.222656</td>\n      <td>0.204102</td>\n      <td>0.046631</td>\n      <td>-0.027344</td>\n      <td>0.296875</td>\n      <td>-0.102539</td>\n      <td>-0.172852</td>\n      <td>0.024414</td>\n      <td>0.310547</td>\n      <td>...</td>\n      <td>-0.357422</td>\n      <td>-0.478516</td>\n      <td>-0.131836</td>\n      <td>0.162109</td>\n      <td>0.167969</td>\n      <td>0.054199</td>\n      <td>0.166016</td>\n      <td>0.197266</td>\n      <td>-0.053955</td>\n      <td>-0.161133</td>\n    </tr>\n    <tr>\n      <th>2</th>\n      <td>0.078125</td>\n      <td>0.203125</td>\n      <td>0.063965</td>\n      <td>0.133789</td>\n      <td>0.096191</td>\n      <td>0.004486</td>\n      <td>0.271484</td>\n      <td>-0.421875</td>\n      <td>-0.165039</td>\n      <td>0.183594</td>\n      <td>...</td>\n      <td>-0.179688</td>\n      <td>-0.320312</td>\n      <td>-0.150391</td>\n      <td>-0.000462</td>\n      <td>0.057617</td>\n      <td>-0.186523</td>\n      <td>0.121582</td>\n      <td>-0.072266</td>\n      <td>-0.140625</td>\n      <td>-0.132812</td>\n    </tr>\n    <tr>\n      <th>3</th>\n      <td>-0.349609</td>\n      <td>0.076172</td>\n      <td>0.095215</td>\n      <td>0.068359</td>\n      <td>-0.054199</td>\n      <td>0.023682</td>\n      <td>0.211914</td>\n      <td>-0.104492</td>\n      <td>-0.068359</td>\n      <td>0.234375</td>\n      <td>...</td>\n      <td>-0.150391</td>\n      <td>0.059814</td>\n      <td>-0.316406</td>\n      <td>0.023926</td>\n      <td>0.125977</td>\n      <td>-0.023438</td>\n      <td>0.046143</td>\n      <td>0.089355</td>\n      <td>-0.212891</td>\n      <td>0.118164</td>\n    </tr>\n    <tr>\n      <th>4</th>\n      <td>-0.255859</td>\n      <td>0.170898</td>\n      <td>-0.065918</td>\n      <td>0.213867</td>\n      <td>-0.040283</td>\n      <td>0.001259</td>\n      <td>0.304688</td>\n      <td>-0.202148</td>\n      <td>-0.190430</td>\n      <td>0.171875</td>\n      <td>...</td>\n      <td>-0.194336</td>\n      <td>-0.255859</td>\n      <td>0.318359</td>\n      <td>0.044678</td>\n      <td>0.333984</td>\n      <td>0.048584</td>\n      <td>-0.061523</td>\n      <td>0.125977</td>\n      <td>0.204102</td>\n      <td>0.382812</td>\n    </tr>\n  </tbody>\n</table>\n<p>5 rows × 300 columns</p>\n</div>"
     },
     "execution_count": 25,
     "metadata": {},
     "output_type": "execute_result"
    }
   ],
   "source": [
    "def encode_recipes(unique_ingredients,tokenizer=tokenizer,embed_size=embed_size):\n",
    "    '''Encode all recipes'''\n",
    "    word_index = tokenizer.word_index\n",
    "    recipe_embeddings = np.zeros((len(unique_ingredients)+1,embed_size))\n",
    "    for ingredient,i in word_index.items():\n",
    "        ingredient_embedding = embed_one_ingredient(ingredient)[0]\n",
    "        recipe_embeddings[i,:] = ingredient_embedding\n",
    "    #recipe_embeddings = np.delete(recipe_embeddings,0,axis=0) #dict starts at 1\n",
    "    return recipe_embeddings\n",
    "\n",
    "recipe_embeddings = encode_recipes(unique_ingredients)\n",
    "print(recipe_embeddings.shape)\n",
    "pd.DataFrame(recipe_embeddings).head()"
   ]
  },
  {
   "cell_type": "code",
   "execution_count": 26,
   "metadata": {
    "ExecuteTime": {
     "end_time": "2023-08-21T03:32:37.023954281Z",
     "start_time": "2023-08-21T03:32:36.984799167Z"
    }
   },
   "outputs": [],
   "source": [
    "#preparing test and train sets"
   ]
  },
  {
   "cell_type": "code",
   "execution_count": 27,
   "metadata": {
    "ExecuteTime": {
     "end_time": "2023-08-21T03:32:37.193016043Z",
     "start_time": "2023-08-21T03:32:36.986988449Z"
    }
   },
   "outputs": [],
   "source": [
    "#shuffeling labels and predictors \n",
    "shuffled_index = np.random.permutation(len(predictors))\n",
    "predictors = predictors[shuffled_index]\n",
    "label = label[shuffled_index]"
   ]
  },
  {
   "cell_type": "code",
   "execution_count": 28,
   "metadata": {
    "ExecuteTime": {
     "end_time": "2023-08-21T03:32:37.234863106Z",
     "start_time": "2023-08-21T03:32:37.234287305Z"
    }
   },
   "outputs": [
    {
     "data": {
      "text/plain": "'\\nlabel=label.reshape(-1,1)\\nlabel = label-1\\n\\npredictors = predictors-1\\n'"
     },
     "execution_count": 28,
     "metadata": {},
     "output_type": "execute_result"
    }
   ],
   "source": [
    "#shifting data to match encoding matrix\n",
    "'''\n",
    "label=label.reshape(-1,1)\n",
    "label = label-1\n",
    "\n",
    "predictors = predictors-1\n",
    "'''"
   ]
  },
  {
   "cell_type": "code",
   "execution_count": 28,
   "outputs": [],
   "source": [],
   "metadata": {
    "collapsed": false,
    "ExecuteTime": {
     "end_time": "2023-08-21T03:32:37.235063839Z",
     "start_time": "2023-08-21T03:32:37.234565068Z"
    }
   }
  },
  {
   "cell_type": "code",
   "execution_count": 29,
   "metadata": {
    "ExecuteTime": {
     "end_time": "2023-08-21T03:32:37.236343734Z",
     "start_time": "2023-08-21T03:32:37.234674794Z"
    }
   },
   "outputs": [
    {
     "data": {
      "text/plain": "array([  26,   97, 3120, ...,   24,   87,  139])"
     },
     "execution_count": 29,
     "metadata": {},
     "output_type": "execute_result"
    }
   ],
   "source": [
    "label"
   ]
  },
  {
   "cell_type": "code",
   "execution_count": 30,
   "metadata": {
    "ExecuteTime": {
     "end_time": "2023-08-21T03:32:37.285879066Z",
     "start_time": "2023-08-21T03:32:37.234804799Z"
    }
   },
   "outputs": [
    {
     "data": {
      "text/plain": "(12412, 0)"
     },
     "execution_count": 30,
     "metadata": {},
     "output_type": "execute_result"
    }
   ],
   "source": [
    "predictors.max(), predictors.min()"
   ]
  },
  {
   "cell_type": "code",
   "execution_count": 31,
   "metadata": {
    "ExecuteTime": {
     "end_time": "2023-08-21T03:32:37.286292576Z",
     "start_time": "2023-08-21T03:32:37.278359603Z"
    }
   },
   "outputs": [
    {
     "data": {
      "text/plain": "array([[   0,    0,    0, ...,  778,   23,    3],\n       [   0,    0,    0, ...,  907,   44,  197],\n       [   0,    0,    0, ...,    0,    0, 1460],\n       ...,\n       [   0,    0,    0, ...,    0,    0,   42],\n       [   0,    0,    0, ...,  598, 1579,   28],\n       [   0,    0,    0, ...,  114, 2094,   50]])"
     },
     "execution_count": 31,
     "metadata": {},
     "output_type": "execute_result"
    }
   ],
   "source": [
    "predictors"
   ]
  },
  {
   "cell_type": "code",
   "execution_count": 32,
   "metadata": {
    "ExecuteTime": {
     "end_time": "2023-08-21T03:32:37.286487727Z",
     "start_time": "2023-08-21T03:32:37.278616249Z"
    }
   },
   "outputs": [
    {
     "data": {
      "text/plain": "array([  26,   97, 3120, ...,   24,   87,  139])"
     },
     "execution_count": 32,
     "metadata": {},
     "output_type": "execute_result"
    }
   ],
   "source": [
    "label"
   ]
  },
  {
   "cell_type": "markdown",
   "metadata": {},
   "source": [
    "<h2><br></h2>\n",
    "<h2>Building model</h2>"
   ]
  },
  {
   "cell_type": "code",
   "execution_count": 33,
   "metadata": {
    "ExecuteTime": {
     "end_time": "2023-08-21T03:32:37.286646567Z",
     "start_time": "2023-08-21T03:32:37.278736098Z"
    }
   },
   "outputs": [
    {
     "data": {
      "text/plain": "((1948345, 43), (1948345,), (12413, 300), 12412)"
     },
     "execution_count": 33,
     "metadata": {},
     "output_type": "execute_result"
    }
   ],
   "source": [
    "predictors.shape, label.shape, recipe_embeddings.shape,len(unique_ingredients)"
   ]
  },
  {
   "cell_type": "code",
   "execution_count": 34,
   "metadata": {
    "ExecuteTime": {
     "end_time": "2023-08-21T03:32:37.877713837Z",
     "start_time": "2023-08-21T03:32:37.278872114Z"
    }
   },
   "outputs": [
    {
     "name": "stderr",
     "output_type": "stream",
     "text": [
      "2023-08-20 20:32:37.374892: I tensorflow/compiler/xla/stream_executor/cuda/cuda_gpu_executor.cc:995] successful NUMA node read from SysFS had negative value (-1), but there must be at least one NUMA node, so returning NUMA node zero. See more at https://github.com/torvalds/linux/blob/v6.0/Documentation/ABI/testing/sysfs-bus-pci#L344-L355\n",
      "2023-08-20 20:32:37.461679: I tensorflow/compiler/xla/stream_executor/cuda/cuda_gpu_executor.cc:995] successful NUMA node read from SysFS had negative value (-1), but there must be at least one NUMA node, so returning NUMA node zero. See more at https://github.com/torvalds/linux/blob/v6.0/Documentation/ABI/testing/sysfs-bus-pci#L344-L355\n",
      "2023-08-20 20:32:37.461782: I tensorflow/compiler/xla/stream_executor/cuda/cuda_gpu_executor.cc:995] successful NUMA node read from SysFS had negative value (-1), but there must be at least one NUMA node, so returning NUMA node zero. See more at https://github.com/torvalds/linux/blob/v6.0/Documentation/ABI/testing/sysfs-bus-pci#L344-L355\n",
      "2023-08-20 20:32:37.462766: I tensorflow/compiler/xla/stream_executor/cuda/cuda_gpu_executor.cc:995] successful NUMA node read from SysFS had negative value (-1), but there must be at least one NUMA node, so returning NUMA node zero. See more at https://github.com/torvalds/linux/blob/v6.0/Documentation/ABI/testing/sysfs-bus-pci#L344-L355\n",
      "2023-08-20 20:32:37.462825: I tensorflow/compiler/xla/stream_executor/cuda/cuda_gpu_executor.cc:995] successful NUMA node read from SysFS had negative value (-1), but there must be at least one NUMA node, so returning NUMA node zero. See more at https://github.com/torvalds/linux/blob/v6.0/Documentation/ABI/testing/sysfs-bus-pci#L344-L355\n",
      "2023-08-20 20:32:37.462867: I tensorflow/compiler/xla/stream_executor/cuda/cuda_gpu_executor.cc:995] successful NUMA node read from SysFS had negative value (-1), but there must be at least one NUMA node, so returning NUMA node zero. See more at https://github.com/torvalds/linux/blob/v6.0/Documentation/ABI/testing/sysfs-bus-pci#L344-L355\n",
      "2023-08-20 20:32:37.505061: I tensorflow/compiler/xla/stream_executor/cuda/cuda_gpu_executor.cc:995] successful NUMA node read from SysFS had negative value (-1), but there must be at least one NUMA node, so returning NUMA node zero. See more at https://github.com/torvalds/linux/blob/v6.0/Documentation/ABI/testing/sysfs-bus-pci#L344-L355\n",
      "2023-08-20 20:32:37.505147: I tensorflow/compiler/xla/stream_executor/cuda/cuda_gpu_executor.cc:995] successful NUMA node read from SysFS had negative value (-1), but there must be at least one NUMA node, so returning NUMA node zero. See more at https://github.com/torvalds/linux/blob/v6.0/Documentation/ABI/testing/sysfs-bus-pci#L344-L355\n",
      "2023-08-20 20:32:37.505194: I tensorflow/compiler/xla/stream_executor/cuda/cuda_gpu_executor.cc:995] successful NUMA node read from SysFS had negative value (-1), but there must be at least one NUMA node, so returning NUMA node zero. See more at https://github.com/torvalds/linux/blob/v6.0/Documentation/ABI/testing/sysfs-bus-pci#L344-L355\n",
      "2023-08-20 20:32:37.505249: I tensorflow/core/common_runtime/gpu/gpu_device.cc:1639] Created device /job:localhost/replica:0/task:0/device:GPU:0 with 10234 MB memory:  -> device: 0, name: NVIDIA GeForce RTX 3060, pci bus id: 0000:01:00.0, compute capability: 8.6\n"
     ]
    }
   ],
   "source": [
    "predictors = tf.cast(predictors,tf.float64)\n",
    "label = tf.cast(label,tf.float64)"
   ]
  },
  {
   "cell_type": "code",
   "execution_count": null,
   "outputs": [],
   "source": [
    "checkpoint_filepath = '/tmp/checkpoint'\n",
    "save_callback = tf.keras.callbacks.ModelCheckpoint(filepath=checkpoint_filepath,\n",
    "                                                 save_weights_only=True,\n",
    "                                                 save_best_only=True,\n",
    "                                                 verbose=1)\n",
    "\n",
    "early_callback = tf.keras.callbacks.EarlyStopping(monitor='loss',\n",
    "                                                  restore_best_weights=True,\n",
    "                                                  patience=5)"
   ],
   "metadata": {
    "collapsed": false,
    "ExecuteTime": {
     "start_time": "2023-08-21T03:59:39.274538031Z"
    }
   }
  },
  {
   "cell_type": "raw",
   "source": [
    "<h3> Training LSTM and dense output layers </h3>"
   ],
   "metadata": {
    "collapsed": false
   }
  },
  {
   "cell_type": "code",
   "execution_count": 54,
   "metadata": {
    "ExecuteTime": {
     "end_time": "2023-08-21T03:45:32.100277433Z",
     "start_time": "2023-08-21T03:45:32.087709340Z"
    }
   },
   "outputs": [],
   "source": [
    "def create_model(embed_size=embed_size, unique_ingredients=len(unique_ingredients), recipe_embeddings=recipe_embeddings,lr=0.001,transfer=False):\n",
    "    '''Build LSTM model'''\n",
    "    input_len = max_length-1\n",
    "    model = Sequential()\n",
    "    model.add(Embedding(unique_ingredients+1, embed_size, weights=[recipe_embeddings], trainable=transfer, mask_zero=False, input_length=input_len)) \n",
    "    model.add(LSTM(100))\n",
    "    model.add(Dropout(0.1))\n",
    "    model.add(Dense(unique_ingredients+1, activation='softmax'))\n",
    "    model.compile(loss='sparse_categorical_crossentropy',optimizer=tf.keras.optimizers.Adam(learning_rate=lr))\n",
    "    return model"
   ]
  },
  {
   "cell_type": "code",
   "execution_count": 36,
   "metadata": {
    "scrolled": true,
    "ExecuteTime": {
     "end_time": "2023-08-21T03:32:37.888835355Z",
     "start_time": "2023-08-21T03:32:37.879908834Z"
    }
   },
   "outputs": [
    {
     "name": "stdout",
     "output_type": "stream",
     "text": [
      "[PhysicalDevice(name='/physical_device:GPU:0', device_type='GPU')]\n"
     ]
    }
   ],
   "source": [
    "print(tf.config.list_physical_devices('GPU'))"
   ]
  },
  {
   "cell_type": "code",
   "execution_count": 68,
   "metadata": {
    "ExecuteTime": {
     "end_time": "2023-08-21T03:59:39.293751287Z",
     "start_time": "2023-08-21T03:55:35.527946249Z"
    }
   },
   "outputs": [
    {
     "name": "stdout",
     "output_type": "stream",
     "text": [
      "Epoch 1/5\n",
      "60882/60886 [============================>.] - ETA: 0s - loss: 5.6004\n",
      "Epoch 1: saving model to /tmp/checkpoint\n",
      "60886/60886 [==============================] - 237s 4ms/step - loss: 5.6004\n",
      "Epoch 2/5\n",
      "  902/60886 [..............................] - ETA: 7:01 - loss: 5.4598"
     ]
    },
    {
     "ename": "KeyboardInterrupt",
     "evalue": "",
     "output_type": "error",
     "traceback": [
      "\u001B[0;31m---------------------------------------------------------------------------\u001B[0m",
      "\u001B[0;31mKeyboardInterrupt\u001B[0m                         Traceback (most recent call last)",
      "Cell \u001B[0;32mIn[68], line 4\u001B[0m\n\u001B[1;32m      2\u001B[0m \u001B[38;5;28;01mwith\u001B[39;00m tf\u001B[38;5;241m.\u001B[39mdevice(\u001B[38;5;124m'\u001B[39m\u001B[38;5;124m/gpu:0\u001B[39m\u001B[38;5;124m'\u001B[39m):\n\u001B[1;32m      3\u001B[0m     model \u001B[38;5;241m=\u001B[39m create_model()\n\u001B[0;32m----> 4\u001B[0m     history \u001B[38;5;241m=\u001B[39m \u001B[43mmodel\u001B[49m\u001B[38;5;241;43m.\u001B[39;49m\u001B[43mfit\u001B[49m\u001B[43m(\u001B[49m\u001B[43mpredictors\u001B[49m\u001B[43m,\u001B[49m\u001B[43m \u001B[49m\u001B[43mlabel\u001B[49m\u001B[43m,\u001B[49m\u001B[43m \u001B[49m\u001B[43mepochs\u001B[49m\u001B[38;5;241;43m=\u001B[39;49m\u001B[38;5;241;43m5\u001B[39;49m\u001B[43m,\u001B[49m\u001B[43mcallbacks\u001B[49m\u001B[38;5;241;43m=\u001B[39;49m\u001B[43m[\u001B[49m\u001B[43mcp_callback\u001B[49m\u001B[43m]\u001B[49m\u001B[43m)\u001B[49m\n",
      "File \u001B[0;32m~/Envs/food_env/lib/python3.10/site-packages/keras/src/utils/traceback_utils.py:65\u001B[0m, in \u001B[0;36mfilter_traceback.<locals>.error_handler\u001B[0;34m(*args, **kwargs)\u001B[0m\n\u001B[1;32m     63\u001B[0m filtered_tb \u001B[38;5;241m=\u001B[39m \u001B[38;5;28;01mNone\u001B[39;00m\n\u001B[1;32m     64\u001B[0m \u001B[38;5;28;01mtry\u001B[39;00m:\n\u001B[0;32m---> 65\u001B[0m     \u001B[38;5;28;01mreturn\u001B[39;00m \u001B[43mfn\u001B[49m\u001B[43m(\u001B[49m\u001B[38;5;241;43m*\u001B[39;49m\u001B[43margs\u001B[49m\u001B[43m,\u001B[49m\u001B[43m \u001B[49m\u001B[38;5;241;43m*\u001B[39;49m\u001B[38;5;241;43m*\u001B[39;49m\u001B[43mkwargs\u001B[49m\u001B[43m)\u001B[49m\n\u001B[1;32m     66\u001B[0m \u001B[38;5;28;01mexcept\u001B[39;00m \u001B[38;5;167;01mException\u001B[39;00m \u001B[38;5;28;01mas\u001B[39;00m e:\n\u001B[1;32m     67\u001B[0m     filtered_tb \u001B[38;5;241m=\u001B[39m _process_traceback_frames(e\u001B[38;5;241m.\u001B[39m__traceback__)\n",
      "File \u001B[0;32m~/Envs/food_env/lib/python3.10/site-packages/keras/src/engine/training.py:1742\u001B[0m, in \u001B[0;36mModel.fit\u001B[0;34m(self, x, y, batch_size, epochs, verbose, callbacks, validation_split, validation_data, shuffle, class_weight, sample_weight, initial_epoch, steps_per_epoch, validation_steps, validation_batch_size, validation_freq, max_queue_size, workers, use_multiprocessing)\u001B[0m\n\u001B[1;32m   1734\u001B[0m \u001B[38;5;28;01mwith\u001B[39;00m tf\u001B[38;5;241m.\u001B[39mprofiler\u001B[38;5;241m.\u001B[39mexperimental\u001B[38;5;241m.\u001B[39mTrace(\n\u001B[1;32m   1735\u001B[0m     \u001B[38;5;124m\"\u001B[39m\u001B[38;5;124mtrain\u001B[39m\u001B[38;5;124m\"\u001B[39m,\n\u001B[1;32m   1736\u001B[0m     epoch_num\u001B[38;5;241m=\u001B[39mepoch,\n\u001B[0;32m   (...)\u001B[0m\n\u001B[1;32m   1739\u001B[0m     _r\u001B[38;5;241m=\u001B[39m\u001B[38;5;241m1\u001B[39m,\n\u001B[1;32m   1740\u001B[0m ):\n\u001B[1;32m   1741\u001B[0m     callbacks\u001B[38;5;241m.\u001B[39mon_train_batch_begin(step)\n\u001B[0;32m-> 1742\u001B[0m     tmp_logs \u001B[38;5;241m=\u001B[39m \u001B[38;5;28;43mself\u001B[39;49m\u001B[38;5;241;43m.\u001B[39;49m\u001B[43mtrain_function\u001B[49m\u001B[43m(\u001B[49m\u001B[43miterator\u001B[49m\u001B[43m)\u001B[49m\n\u001B[1;32m   1743\u001B[0m     \u001B[38;5;28;01mif\u001B[39;00m data_handler\u001B[38;5;241m.\u001B[39mshould_sync:\n\u001B[1;32m   1744\u001B[0m         context\u001B[38;5;241m.\u001B[39masync_wait()\n",
      "File \u001B[0;32m~/Envs/food_env/lib/python3.10/site-packages/tensorflow/python/util/traceback_utils.py:150\u001B[0m, in \u001B[0;36mfilter_traceback.<locals>.error_handler\u001B[0;34m(*args, **kwargs)\u001B[0m\n\u001B[1;32m    148\u001B[0m filtered_tb \u001B[38;5;241m=\u001B[39m \u001B[38;5;28;01mNone\u001B[39;00m\n\u001B[1;32m    149\u001B[0m \u001B[38;5;28;01mtry\u001B[39;00m:\n\u001B[0;32m--> 150\u001B[0m   \u001B[38;5;28;01mreturn\u001B[39;00m \u001B[43mfn\u001B[49m\u001B[43m(\u001B[49m\u001B[38;5;241;43m*\u001B[39;49m\u001B[43margs\u001B[49m\u001B[43m,\u001B[49m\u001B[43m \u001B[49m\u001B[38;5;241;43m*\u001B[39;49m\u001B[38;5;241;43m*\u001B[39;49m\u001B[43mkwargs\u001B[49m\u001B[43m)\u001B[49m\n\u001B[1;32m    151\u001B[0m \u001B[38;5;28;01mexcept\u001B[39;00m \u001B[38;5;167;01mException\u001B[39;00m \u001B[38;5;28;01mas\u001B[39;00m e:\n\u001B[1;32m    152\u001B[0m   filtered_tb \u001B[38;5;241m=\u001B[39m _process_traceback_frames(e\u001B[38;5;241m.\u001B[39m__traceback__)\n",
      "File \u001B[0;32m~/Envs/food_env/lib/python3.10/site-packages/tensorflow/python/eager/polymorphic_function/polymorphic_function.py:825\u001B[0m, in \u001B[0;36mFunction.__call__\u001B[0;34m(self, *args, **kwds)\u001B[0m\n\u001B[1;32m    822\u001B[0m compiler \u001B[38;5;241m=\u001B[39m \u001B[38;5;124m\"\u001B[39m\u001B[38;5;124mxla\u001B[39m\u001B[38;5;124m\"\u001B[39m \u001B[38;5;28;01mif\u001B[39;00m \u001B[38;5;28mself\u001B[39m\u001B[38;5;241m.\u001B[39m_jit_compile \u001B[38;5;28;01melse\u001B[39;00m \u001B[38;5;124m\"\u001B[39m\u001B[38;5;124mnonXla\u001B[39m\u001B[38;5;124m\"\u001B[39m\n\u001B[1;32m    824\u001B[0m \u001B[38;5;28;01mwith\u001B[39;00m OptionalXlaContext(\u001B[38;5;28mself\u001B[39m\u001B[38;5;241m.\u001B[39m_jit_compile):\n\u001B[0;32m--> 825\u001B[0m   result \u001B[38;5;241m=\u001B[39m \u001B[38;5;28;43mself\u001B[39;49m\u001B[38;5;241;43m.\u001B[39;49m\u001B[43m_call\u001B[49m\u001B[43m(\u001B[49m\u001B[38;5;241;43m*\u001B[39;49m\u001B[43margs\u001B[49m\u001B[43m,\u001B[49m\u001B[43m \u001B[49m\u001B[38;5;241;43m*\u001B[39;49m\u001B[38;5;241;43m*\u001B[39;49m\u001B[43mkwds\u001B[49m\u001B[43m)\u001B[49m\n\u001B[1;32m    827\u001B[0m new_tracing_count \u001B[38;5;241m=\u001B[39m \u001B[38;5;28mself\u001B[39m\u001B[38;5;241m.\u001B[39mexperimental_get_tracing_count()\n\u001B[1;32m    828\u001B[0m without_tracing \u001B[38;5;241m=\u001B[39m (tracing_count \u001B[38;5;241m==\u001B[39m new_tracing_count)\n",
      "File \u001B[0;32m~/Envs/food_env/lib/python3.10/site-packages/tensorflow/python/eager/polymorphic_function/polymorphic_function.py:857\u001B[0m, in \u001B[0;36mFunction._call\u001B[0;34m(self, *args, **kwds)\u001B[0m\n\u001B[1;32m    854\u001B[0m   \u001B[38;5;28mself\u001B[39m\u001B[38;5;241m.\u001B[39m_lock\u001B[38;5;241m.\u001B[39mrelease()\n\u001B[1;32m    855\u001B[0m   \u001B[38;5;66;03m# In this case we have created variables on the first call, so we run the\u001B[39;00m\n\u001B[1;32m    856\u001B[0m   \u001B[38;5;66;03m# defunned version which is guaranteed to never create variables.\u001B[39;00m\n\u001B[0;32m--> 857\u001B[0m   \u001B[38;5;28;01mreturn\u001B[39;00m \u001B[38;5;28;43mself\u001B[39;49m\u001B[38;5;241;43m.\u001B[39;49m\u001B[43m_no_variable_creation_fn\u001B[49m\u001B[43m(\u001B[49m\u001B[38;5;241;43m*\u001B[39;49m\u001B[43margs\u001B[49m\u001B[43m,\u001B[49m\u001B[43m \u001B[49m\u001B[38;5;241;43m*\u001B[39;49m\u001B[38;5;241;43m*\u001B[39;49m\u001B[43mkwds\u001B[49m\u001B[43m)\u001B[49m  \u001B[38;5;66;03m# pylint: disable=not-callable\u001B[39;00m\n\u001B[1;32m    858\u001B[0m \u001B[38;5;28;01melif\u001B[39;00m \u001B[38;5;28mself\u001B[39m\u001B[38;5;241m.\u001B[39m_variable_creation_fn \u001B[38;5;129;01mis\u001B[39;00m \u001B[38;5;129;01mnot\u001B[39;00m \u001B[38;5;28;01mNone\u001B[39;00m:\n\u001B[1;32m    859\u001B[0m   \u001B[38;5;66;03m# Release the lock early so that multiple threads can perform the call\u001B[39;00m\n\u001B[1;32m    860\u001B[0m   \u001B[38;5;66;03m# in parallel.\u001B[39;00m\n\u001B[1;32m    861\u001B[0m   \u001B[38;5;28mself\u001B[39m\u001B[38;5;241m.\u001B[39m_lock\u001B[38;5;241m.\u001B[39mrelease()\n",
      "File \u001B[0;32m~/Envs/food_env/lib/python3.10/site-packages/tensorflow/python/eager/polymorphic_function/tracing_compiler.py:148\u001B[0m, in \u001B[0;36mTracingCompiler.__call__\u001B[0;34m(self, *args, **kwargs)\u001B[0m\n\u001B[1;32m    145\u001B[0m \u001B[38;5;28;01mwith\u001B[39;00m \u001B[38;5;28mself\u001B[39m\u001B[38;5;241m.\u001B[39m_lock:\n\u001B[1;32m    146\u001B[0m   (concrete_function,\n\u001B[1;32m    147\u001B[0m    filtered_flat_args) \u001B[38;5;241m=\u001B[39m \u001B[38;5;28mself\u001B[39m\u001B[38;5;241m.\u001B[39m_maybe_define_function(args, kwargs)\n\u001B[0;32m--> 148\u001B[0m \u001B[38;5;28;01mreturn\u001B[39;00m \u001B[43mconcrete_function\u001B[49m\u001B[38;5;241;43m.\u001B[39;49m\u001B[43m_call_flat\u001B[49m\u001B[43m(\u001B[49m\n\u001B[1;32m    149\u001B[0m \u001B[43m    \u001B[49m\u001B[43mfiltered_flat_args\u001B[49m\u001B[43m,\u001B[49m\u001B[43m \u001B[49m\u001B[43mcaptured_inputs\u001B[49m\u001B[38;5;241;43m=\u001B[39;49m\u001B[43mconcrete_function\u001B[49m\u001B[38;5;241;43m.\u001B[39;49m\u001B[43mcaptured_inputs\u001B[49m\u001B[43m)\u001B[49m\n",
      "File \u001B[0;32m~/Envs/food_env/lib/python3.10/site-packages/tensorflow/python/eager/polymorphic_function/monomorphic_function.py:1349\u001B[0m, in \u001B[0;36mConcreteFunction._call_flat\u001B[0;34m(self, args, captured_inputs)\u001B[0m\n\u001B[1;32m   1345\u001B[0m possible_gradient_type \u001B[38;5;241m=\u001B[39m gradients_util\u001B[38;5;241m.\u001B[39mPossibleTapeGradientTypes(args)\n\u001B[1;32m   1346\u001B[0m \u001B[38;5;28;01mif\u001B[39;00m (possible_gradient_type \u001B[38;5;241m==\u001B[39m gradients_util\u001B[38;5;241m.\u001B[39mPOSSIBLE_GRADIENT_TYPES_NONE\n\u001B[1;32m   1347\u001B[0m     \u001B[38;5;129;01mand\u001B[39;00m executing_eagerly):\n\u001B[1;32m   1348\u001B[0m   \u001B[38;5;66;03m# No tape is watching; skip to running the function.\u001B[39;00m\n\u001B[0;32m-> 1349\u001B[0m   \u001B[38;5;28;01mreturn\u001B[39;00m \u001B[38;5;28mself\u001B[39m\u001B[38;5;241m.\u001B[39m_build_call_outputs(\u001B[38;5;28;43mself\u001B[39;49m\u001B[38;5;241;43m.\u001B[39;49m\u001B[43m_inference_function\u001B[49m\u001B[43m(\u001B[49m\u001B[38;5;241;43m*\u001B[39;49m\u001B[43margs\u001B[49m\u001B[43m)\u001B[49m)\n\u001B[1;32m   1350\u001B[0m forward_backward \u001B[38;5;241m=\u001B[39m \u001B[38;5;28mself\u001B[39m\u001B[38;5;241m.\u001B[39m_select_forward_and_backward_functions(\n\u001B[1;32m   1351\u001B[0m     args,\n\u001B[1;32m   1352\u001B[0m     possible_gradient_type,\n\u001B[1;32m   1353\u001B[0m     executing_eagerly)\n\u001B[1;32m   1354\u001B[0m forward_function, args_with_tangents \u001B[38;5;241m=\u001B[39m forward_backward\u001B[38;5;241m.\u001B[39mforward()\n",
      "File \u001B[0;32m~/Envs/food_env/lib/python3.10/site-packages/tensorflow/python/eager/polymorphic_function/atomic_function.py:196\u001B[0m, in \u001B[0;36mAtomicFunction.__call__\u001B[0;34m(self, *args)\u001B[0m\n\u001B[1;32m    194\u001B[0m \u001B[38;5;28;01mwith\u001B[39;00m record\u001B[38;5;241m.\u001B[39mstop_recording():\n\u001B[1;32m    195\u001B[0m   \u001B[38;5;28;01mif\u001B[39;00m \u001B[38;5;28mself\u001B[39m\u001B[38;5;241m.\u001B[39m_bound_context\u001B[38;5;241m.\u001B[39mexecuting_eagerly():\n\u001B[0;32m--> 196\u001B[0m     outputs \u001B[38;5;241m=\u001B[39m \u001B[38;5;28;43mself\u001B[39;49m\u001B[38;5;241;43m.\u001B[39;49m\u001B[43m_bound_context\u001B[49m\u001B[38;5;241;43m.\u001B[39;49m\u001B[43mcall_function\u001B[49m\u001B[43m(\u001B[49m\n\u001B[1;32m    197\u001B[0m \u001B[43m        \u001B[49m\u001B[38;5;28;43mself\u001B[39;49m\u001B[38;5;241;43m.\u001B[39;49m\u001B[43mname\u001B[49m\u001B[43m,\u001B[49m\n\u001B[1;32m    198\u001B[0m \u001B[43m        \u001B[49m\u001B[38;5;28;43mlist\u001B[39;49m\u001B[43m(\u001B[49m\u001B[43margs\u001B[49m\u001B[43m)\u001B[49m\u001B[43m,\u001B[49m\n\u001B[1;32m    199\u001B[0m \u001B[43m        \u001B[49m\u001B[38;5;28;43mlen\u001B[39;49m\u001B[43m(\u001B[49m\u001B[38;5;28;43mself\u001B[39;49m\u001B[38;5;241;43m.\u001B[39;49m\u001B[43mfunction_type\u001B[49m\u001B[38;5;241;43m.\u001B[39;49m\u001B[43mflat_outputs\u001B[49m\u001B[43m)\u001B[49m\u001B[43m,\u001B[49m\n\u001B[1;32m    200\u001B[0m \u001B[43m    \u001B[49m\u001B[43m)\u001B[49m\n\u001B[1;32m    201\u001B[0m   \u001B[38;5;28;01melse\u001B[39;00m:\n\u001B[1;32m    202\u001B[0m     outputs \u001B[38;5;241m=\u001B[39m make_call_op_in_graph(\u001B[38;5;28mself\u001B[39m, \u001B[38;5;28mlist\u001B[39m(args))\n",
      "File \u001B[0;32m~/Envs/food_env/lib/python3.10/site-packages/tensorflow/python/eager/context.py:1457\u001B[0m, in \u001B[0;36mContext.call_function\u001B[0;34m(self, name, tensor_inputs, num_outputs)\u001B[0m\n\u001B[1;32m   1455\u001B[0m cancellation_context \u001B[38;5;241m=\u001B[39m cancellation\u001B[38;5;241m.\u001B[39mcontext()\n\u001B[1;32m   1456\u001B[0m \u001B[38;5;28;01mif\u001B[39;00m cancellation_context \u001B[38;5;129;01mis\u001B[39;00m \u001B[38;5;28;01mNone\u001B[39;00m:\n\u001B[0;32m-> 1457\u001B[0m   outputs \u001B[38;5;241m=\u001B[39m \u001B[43mexecute\u001B[49m\u001B[38;5;241;43m.\u001B[39;49m\u001B[43mexecute\u001B[49m\u001B[43m(\u001B[49m\n\u001B[1;32m   1458\u001B[0m \u001B[43m      \u001B[49m\u001B[43mname\u001B[49m\u001B[38;5;241;43m.\u001B[39;49m\u001B[43mdecode\u001B[49m\u001B[43m(\u001B[49m\u001B[38;5;124;43m\"\u001B[39;49m\u001B[38;5;124;43mutf-8\u001B[39;49m\u001B[38;5;124;43m\"\u001B[39;49m\u001B[43m)\u001B[49m\u001B[43m,\u001B[49m\n\u001B[1;32m   1459\u001B[0m \u001B[43m      \u001B[49m\u001B[43mnum_outputs\u001B[49m\u001B[38;5;241;43m=\u001B[39;49m\u001B[43mnum_outputs\u001B[49m\u001B[43m,\u001B[49m\n\u001B[1;32m   1460\u001B[0m \u001B[43m      \u001B[49m\u001B[43minputs\u001B[49m\u001B[38;5;241;43m=\u001B[39;49m\u001B[43mtensor_inputs\u001B[49m\u001B[43m,\u001B[49m\n\u001B[1;32m   1461\u001B[0m \u001B[43m      \u001B[49m\u001B[43mattrs\u001B[49m\u001B[38;5;241;43m=\u001B[39;49m\u001B[43mattrs\u001B[49m\u001B[43m,\u001B[49m\n\u001B[1;32m   1462\u001B[0m \u001B[43m      \u001B[49m\u001B[43mctx\u001B[49m\u001B[38;5;241;43m=\u001B[39;49m\u001B[38;5;28;43mself\u001B[39;49m\u001B[43m,\u001B[49m\n\u001B[1;32m   1463\u001B[0m \u001B[43m  \u001B[49m\u001B[43m)\u001B[49m\n\u001B[1;32m   1464\u001B[0m \u001B[38;5;28;01melse\u001B[39;00m:\n\u001B[1;32m   1465\u001B[0m   outputs \u001B[38;5;241m=\u001B[39m execute\u001B[38;5;241m.\u001B[39mexecute_with_cancellation(\n\u001B[1;32m   1466\u001B[0m       name\u001B[38;5;241m.\u001B[39mdecode(\u001B[38;5;124m\"\u001B[39m\u001B[38;5;124mutf-8\u001B[39m\u001B[38;5;124m\"\u001B[39m),\n\u001B[1;32m   1467\u001B[0m       num_outputs\u001B[38;5;241m=\u001B[39mnum_outputs,\n\u001B[0;32m   (...)\u001B[0m\n\u001B[1;32m   1471\u001B[0m       cancellation_manager\u001B[38;5;241m=\u001B[39mcancellation_context,\n\u001B[1;32m   1472\u001B[0m   )\n",
      "File \u001B[0;32m~/Envs/food_env/lib/python3.10/site-packages/tensorflow/python/eager/execute.py:53\u001B[0m, in \u001B[0;36mquick_execute\u001B[0;34m(op_name, num_outputs, inputs, attrs, ctx, name)\u001B[0m\n\u001B[1;32m     51\u001B[0m \u001B[38;5;28;01mtry\u001B[39;00m:\n\u001B[1;32m     52\u001B[0m   ctx\u001B[38;5;241m.\u001B[39mensure_initialized()\n\u001B[0;32m---> 53\u001B[0m   tensors \u001B[38;5;241m=\u001B[39m \u001B[43mpywrap_tfe\u001B[49m\u001B[38;5;241;43m.\u001B[39;49m\u001B[43mTFE_Py_Execute\u001B[49m\u001B[43m(\u001B[49m\u001B[43mctx\u001B[49m\u001B[38;5;241;43m.\u001B[39;49m\u001B[43m_handle\u001B[49m\u001B[43m,\u001B[49m\u001B[43m \u001B[49m\u001B[43mdevice_name\u001B[49m\u001B[43m,\u001B[49m\u001B[43m \u001B[49m\u001B[43mop_name\u001B[49m\u001B[43m,\u001B[49m\n\u001B[1;32m     54\u001B[0m \u001B[43m                                      \u001B[49m\u001B[43minputs\u001B[49m\u001B[43m,\u001B[49m\u001B[43m \u001B[49m\u001B[43mattrs\u001B[49m\u001B[43m,\u001B[49m\u001B[43m \u001B[49m\u001B[43mnum_outputs\u001B[49m\u001B[43m)\u001B[49m\n\u001B[1;32m     55\u001B[0m \u001B[38;5;28;01mexcept\u001B[39;00m core\u001B[38;5;241m.\u001B[39m_NotOkStatusException \u001B[38;5;28;01mas\u001B[39;00m e:\n\u001B[1;32m     56\u001B[0m   \u001B[38;5;28;01mif\u001B[39;00m name \u001B[38;5;129;01mis\u001B[39;00m \u001B[38;5;129;01mnot\u001B[39;00m \u001B[38;5;28;01mNone\u001B[39;00m:\n",
      "\u001B[0;31mKeyboardInterrupt\u001B[0m: "
     ]
    }
   ],
   "source": [
    "#run on cpu because gpu has glitch with mask_zero=True\n",
    "with tf.device('/gpu:0'):\n",
    "    model = create_model()\n",
    "    history = model.fit(predictors, label, epochs=50, callbacks=[save_callback, early_callback])"
   ]
  },
  {
   "cell_type": "raw",
   "source": [
    "<h3> Fine tuning embeddings <h3>"
   ],
   "metadata": {
    "collapsed": false
   }
  },
  {
   "cell_type": "code",
   "execution_count": 69,
   "outputs": [
    {
     "name": "stdout",
     "output_type": "stream",
     "text": [
      "Epoch 1/5\n",
      "  170/60886 [..............................] - ETA: 23:03 - loss: 6.3068"
     ]
    },
    {
     "ename": "KeyboardInterrupt",
     "evalue": "",
     "output_type": "error",
     "traceback": [
      "\u001B[0;31m---------------------------------------------------------------------------\u001B[0m",
      "\u001B[0;31mKeyboardInterrupt\u001B[0m                         Traceback (most recent call last)",
      "Cell \u001B[0;32mIn[69], line 4\u001B[0m\n\u001B[1;32m      2\u001B[0m model \u001B[38;5;241m=\u001B[39m create_model(lr\u001B[38;5;241m=\u001B[39m\u001B[38;5;241m0.0001\u001B[39m,transfer\u001B[38;5;241m=\u001B[39m\u001B[38;5;28;01mTrue\u001B[39;00m)\n\u001B[1;32m      3\u001B[0m model\u001B[38;5;241m.\u001B[39mload_weights(checkpoint_filepath)\n\u001B[0;32m----> 4\u001B[0m history \u001B[38;5;241m=\u001B[39m \u001B[43mmodel\u001B[49m\u001B[38;5;241;43m.\u001B[39;49m\u001B[43mfit\u001B[49m\u001B[43m(\u001B[49m\u001B[43mpredictors\u001B[49m\u001B[43m,\u001B[49m\u001B[43m \u001B[49m\u001B[43mlabel\u001B[49m\u001B[43m,\u001B[49m\u001B[43m \u001B[49m\u001B[43mepochs\u001B[49m\u001B[38;5;241;43m=\u001B[39;49m\u001B[38;5;241;43m5\u001B[39;49m\u001B[43m)\u001B[49m\n",
      "File \u001B[0;32m~/Envs/food_env/lib/python3.10/site-packages/keras/src/utils/traceback_utils.py:65\u001B[0m, in \u001B[0;36mfilter_traceback.<locals>.error_handler\u001B[0;34m(*args, **kwargs)\u001B[0m\n\u001B[1;32m     63\u001B[0m filtered_tb \u001B[38;5;241m=\u001B[39m \u001B[38;5;28;01mNone\u001B[39;00m\n\u001B[1;32m     64\u001B[0m \u001B[38;5;28;01mtry\u001B[39;00m:\n\u001B[0;32m---> 65\u001B[0m     \u001B[38;5;28;01mreturn\u001B[39;00m \u001B[43mfn\u001B[49m\u001B[43m(\u001B[49m\u001B[38;5;241;43m*\u001B[39;49m\u001B[43margs\u001B[49m\u001B[43m,\u001B[49m\u001B[43m \u001B[49m\u001B[38;5;241;43m*\u001B[39;49m\u001B[38;5;241;43m*\u001B[39;49m\u001B[43mkwargs\u001B[49m\u001B[43m)\u001B[49m\n\u001B[1;32m     66\u001B[0m \u001B[38;5;28;01mexcept\u001B[39;00m \u001B[38;5;167;01mException\u001B[39;00m \u001B[38;5;28;01mas\u001B[39;00m e:\n\u001B[1;32m     67\u001B[0m     filtered_tb \u001B[38;5;241m=\u001B[39m _process_traceback_frames(e\u001B[38;5;241m.\u001B[39m__traceback__)\n",
      "File \u001B[0;32m~/Envs/food_env/lib/python3.10/site-packages/keras/src/engine/training.py:1748\u001B[0m, in \u001B[0;36mModel.fit\u001B[0;34m(self, x, y, batch_size, epochs, verbose, callbacks, validation_split, validation_data, shuffle, class_weight, sample_weight, initial_epoch, steps_per_epoch, validation_steps, validation_batch_size, validation_freq, max_queue_size, workers, use_multiprocessing)\u001B[0m\n\u001B[1;32m   1746\u001B[0m logs \u001B[38;5;241m=\u001B[39m tmp_logs\n\u001B[1;32m   1747\u001B[0m end_step \u001B[38;5;241m=\u001B[39m step \u001B[38;5;241m+\u001B[39m data_handler\u001B[38;5;241m.\u001B[39mstep_increment\n\u001B[0;32m-> 1748\u001B[0m \u001B[43mcallbacks\u001B[49m\u001B[38;5;241;43m.\u001B[39;49m\u001B[43mon_train_batch_end\u001B[49m\u001B[43m(\u001B[49m\u001B[43mend_step\u001B[49m\u001B[43m,\u001B[49m\u001B[43m \u001B[49m\u001B[43mlogs\u001B[49m\u001B[43m)\u001B[49m\n\u001B[1;32m   1749\u001B[0m \u001B[38;5;28;01mif\u001B[39;00m \u001B[38;5;28mself\u001B[39m\u001B[38;5;241m.\u001B[39mstop_training:\n\u001B[1;32m   1750\u001B[0m     \u001B[38;5;28;01mbreak\u001B[39;00m\n",
      "File \u001B[0;32m~/Envs/food_env/lib/python3.10/site-packages/keras/src/callbacks.py:475\u001B[0m, in \u001B[0;36mCallbackList.on_train_batch_end\u001B[0;34m(self, batch, logs)\u001B[0m\n\u001B[1;32m    468\u001B[0m \u001B[38;5;250m\u001B[39m\u001B[38;5;124;03m\"\"\"Calls the `on_train_batch_end` methods of its callbacks.\u001B[39;00m\n\u001B[1;32m    469\u001B[0m \n\u001B[1;32m    470\u001B[0m \u001B[38;5;124;03mArgs:\u001B[39;00m\n\u001B[1;32m    471\u001B[0m \u001B[38;5;124;03m    batch: Integer, index of batch within the current epoch.\u001B[39;00m\n\u001B[1;32m    472\u001B[0m \u001B[38;5;124;03m    logs: Dict. Aggregated metric results up until this batch.\u001B[39;00m\n\u001B[1;32m    473\u001B[0m \u001B[38;5;124;03m\"\"\"\u001B[39;00m\n\u001B[1;32m    474\u001B[0m \u001B[38;5;28;01mif\u001B[39;00m \u001B[38;5;28mself\u001B[39m\u001B[38;5;241m.\u001B[39m_should_call_train_batch_hooks:\n\u001B[0;32m--> 475\u001B[0m     \u001B[38;5;28;43mself\u001B[39;49m\u001B[38;5;241;43m.\u001B[39;49m\u001B[43m_call_batch_hook\u001B[49m\u001B[43m(\u001B[49m\u001B[43mModeKeys\u001B[49m\u001B[38;5;241;43m.\u001B[39;49m\u001B[43mTRAIN\u001B[49m\u001B[43m,\u001B[49m\u001B[43m \u001B[49m\u001B[38;5;124;43m\"\u001B[39;49m\u001B[38;5;124;43mend\u001B[39;49m\u001B[38;5;124;43m\"\u001B[39;49m\u001B[43m,\u001B[49m\u001B[43m \u001B[49m\u001B[43mbatch\u001B[49m\u001B[43m,\u001B[49m\u001B[43m \u001B[49m\u001B[43mlogs\u001B[49m\u001B[38;5;241;43m=\u001B[39;49m\u001B[43mlogs\u001B[49m\u001B[43m)\u001B[49m\n",
      "File \u001B[0;32m~/Envs/food_env/lib/python3.10/site-packages/keras/src/callbacks.py:322\u001B[0m, in \u001B[0;36mCallbackList._call_batch_hook\u001B[0;34m(self, mode, hook, batch, logs)\u001B[0m\n\u001B[1;32m    320\u001B[0m     \u001B[38;5;28mself\u001B[39m\u001B[38;5;241m.\u001B[39m_call_batch_begin_hook(mode, batch, logs)\n\u001B[1;32m    321\u001B[0m \u001B[38;5;28;01melif\u001B[39;00m hook \u001B[38;5;241m==\u001B[39m \u001B[38;5;124m\"\u001B[39m\u001B[38;5;124mend\u001B[39m\u001B[38;5;124m\"\u001B[39m:\n\u001B[0;32m--> 322\u001B[0m     \u001B[38;5;28;43mself\u001B[39;49m\u001B[38;5;241;43m.\u001B[39;49m\u001B[43m_call_batch_end_hook\u001B[49m\u001B[43m(\u001B[49m\u001B[43mmode\u001B[49m\u001B[43m,\u001B[49m\u001B[43m \u001B[49m\u001B[43mbatch\u001B[49m\u001B[43m,\u001B[49m\u001B[43m \u001B[49m\u001B[43mlogs\u001B[49m\u001B[43m)\u001B[49m\n\u001B[1;32m    323\u001B[0m \u001B[38;5;28;01melse\u001B[39;00m:\n\u001B[1;32m    324\u001B[0m     \u001B[38;5;28;01mraise\u001B[39;00m \u001B[38;5;167;01mValueError\u001B[39;00m(\n\u001B[1;32m    325\u001B[0m         \u001B[38;5;124mf\u001B[39m\u001B[38;5;124m\"\u001B[39m\u001B[38;5;124mUnrecognized hook: \u001B[39m\u001B[38;5;132;01m{\u001B[39;00mhook\u001B[38;5;132;01m}\u001B[39;00m\u001B[38;5;124m. \u001B[39m\u001B[38;5;124m\"\u001B[39m\n\u001B[1;32m    326\u001B[0m         \u001B[38;5;124m'\u001B[39m\u001B[38;5;124mExpected values are [\u001B[39m\u001B[38;5;124m\"\u001B[39m\u001B[38;5;124mbegin\u001B[39m\u001B[38;5;124m\"\u001B[39m\u001B[38;5;124m, \u001B[39m\u001B[38;5;124m\"\u001B[39m\u001B[38;5;124mend\u001B[39m\u001B[38;5;124m\"\u001B[39m\u001B[38;5;124m]\u001B[39m\u001B[38;5;124m'\u001B[39m\n\u001B[1;32m    327\u001B[0m     )\n",
      "File \u001B[0;32m~/Envs/food_env/lib/python3.10/site-packages/keras/src/callbacks.py:345\u001B[0m, in \u001B[0;36mCallbackList._call_batch_end_hook\u001B[0;34m(self, mode, batch, logs)\u001B[0m\n\u001B[1;32m    342\u001B[0m     batch_time \u001B[38;5;241m=\u001B[39m time\u001B[38;5;241m.\u001B[39mtime() \u001B[38;5;241m-\u001B[39m \u001B[38;5;28mself\u001B[39m\u001B[38;5;241m.\u001B[39m_batch_start_time\n\u001B[1;32m    343\u001B[0m     \u001B[38;5;28mself\u001B[39m\u001B[38;5;241m.\u001B[39m_batch_times\u001B[38;5;241m.\u001B[39mappend(batch_time)\n\u001B[0;32m--> 345\u001B[0m \u001B[38;5;28;43mself\u001B[39;49m\u001B[38;5;241;43m.\u001B[39;49m\u001B[43m_call_batch_hook_helper\u001B[49m\u001B[43m(\u001B[49m\u001B[43mhook_name\u001B[49m\u001B[43m,\u001B[49m\u001B[43m \u001B[49m\u001B[43mbatch\u001B[49m\u001B[43m,\u001B[49m\u001B[43m \u001B[49m\u001B[43mlogs\u001B[49m\u001B[43m)\u001B[49m\n\u001B[1;32m    347\u001B[0m \u001B[38;5;28;01mif\u001B[39;00m \u001B[38;5;28mlen\u001B[39m(\u001B[38;5;28mself\u001B[39m\u001B[38;5;241m.\u001B[39m_batch_times) \u001B[38;5;241m>\u001B[39m\u001B[38;5;241m=\u001B[39m \u001B[38;5;28mself\u001B[39m\u001B[38;5;241m.\u001B[39m_num_batches_for_timing_check:\n\u001B[1;32m    348\u001B[0m     end_hook_name \u001B[38;5;241m=\u001B[39m hook_name\n",
      "File \u001B[0;32m~/Envs/food_env/lib/python3.10/site-packages/keras/src/callbacks.py:393\u001B[0m, in \u001B[0;36mCallbackList._call_batch_hook_helper\u001B[0;34m(self, hook_name, batch, logs)\u001B[0m\n\u001B[1;32m    391\u001B[0m \u001B[38;5;28;01mfor\u001B[39;00m callback \u001B[38;5;129;01min\u001B[39;00m \u001B[38;5;28mself\u001B[39m\u001B[38;5;241m.\u001B[39mcallbacks:\n\u001B[1;32m    392\u001B[0m     hook \u001B[38;5;241m=\u001B[39m \u001B[38;5;28mgetattr\u001B[39m(callback, hook_name)\n\u001B[0;32m--> 393\u001B[0m     \u001B[43mhook\u001B[49m\u001B[43m(\u001B[49m\u001B[43mbatch\u001B[49m\u001B[43m,\u001B[49m\u001B[43m \u001B[49m\u001B[43mlogs\u001B[49m\u001B[43m)\u001B[49m\n\u001B[1;32m    395\u001B[0m \u001B[38;5;28;01mif\u001B[39;00m \u001B[38;5;28mself\u001B[39m\u001B[38;5;241m.\u001B[39m_check_timing:\n\u001B[1;32m    396\u001B[0m     \u001B[38;5;28;01mif\u001B[39;00m hook_name \u001B[38;5;129;01mnot\u001B[39;00m \u001B[38;5;129;01min\u001B[39;00m \u001B[38;5;28mself\u001B[39m\u001B[38;5;241m.\u001B[39m_hook_times:\n",
      "File \u001B[0;32m~/Envs/food_env/lib/python3.10/site-packages/keras/src/callbacks.py:1093\u001B[0m, in \u001B[0;36mProgbarLogger.on_train_batch_end\u001B[0;34m(self, batch, logs)\u001B[0m\n\u001B[1;32m   1092\u001B[0m \u001B[38;5;28;01mdef\u001B[39;00m \u001B[38;5;21mon_train_batch_end\u001B[39m(\u001B[38;5;28mself\u001B[39m, batch, logs\u001B[38;5;241m=\u001B[39m\u001B[38;5;28;01mNone\u001B[39;00m):\n\u001B[0;32m-> 1093\u001B[0m     \u001B[38;5;28;43mself\u001B[39;49m\u001B[38;5;241;43m.\u001B[39;49m\u001B[43m_batch_update_progbar\u001B[49m\u001B[43m(\u001B[49m\u001B[43mbatch\u001B[49m\u001B[43m,\u001B[49m\u001B[43m \u001B[49m\u001B[43mlogs\u001B[49m\u001B[43m)\u001B[49m\n",
      "File \u001B[0;32m~/Envs/food_env/lib/python3.10/site-packages/keras/src/callbacks.py:1169\u001B[0m, in \u001B[0;36mProgbarLogger._batch_update_progbar\u001B[0;34m(self, batch, logs)\u001B[0m\n\u001B[1;32m   1165\u001B[0m     \u001B[38;5;28mself\u001B[39m\u001B[38;5;241m.\u001B[39mseen \u001B[38;5;241m+\u001B[39m\u001B[38;5;241m=\u001B[39m add_seen\n\u001B[1;32m   1167\u001B[0m \u001B[38;5;28;01mif\u001B[39;00m \u001B[38;5;28mself\u001B[39m\u001B[38;5;241m.\u001B[39mverbose \u001B[38;5;241m==\u001B[39m \u001B[38;5;241m1\u001B[39m:\n\u001B[1;32m   1168\u001B[0m     \u001B[38;5;66;03m# Only block async when verbose = 1.\u001B[39;00m\n\u001B[0;32m-> 1169\u001B[0m     logs \u001B[38;5;241m=\u001B[39m \u001B[43mtf_utils\u001B[49m\u001B[38;5;241;43m.\u001B[39;49m\u001B[43msync_to_numpy_or_python_type\u001B[49m\u001B[43m(\u001B[49m\u001B[43mlogs\u001B[49m\u001B[43m)\u001B[49m\n\u001B[1;32m   1170\u001B[0m     \u001B[38;5;28mself\u001B[39m\u001B[38;5;241m.\u001B[39mprogbar\u001B[38;5;241m.\u001B[39mupdate(\u001B[38;5;28mself\u001B[39m\u001B[38;5;241m.\u001B[39mseen, \u001B[38;5;28mlist\u001B[39m(logs\u001B[38;5;241m.\u001B[39mitems()), finalize\u001B[38;5;241m=\u001B[39m\u001B[38;5;28;01mFalse\u001B[39;00m)\n",
      "File \u001B[0;32m~/Envs/food_env/lib/python3.10/site-packages/keras/src/utils/tf_utils.py:694\u001B[0m, in \u001B[0;36msync_to_numpy_or_python_type\u001B[0;34m(tensors)\u001B[0m\n\u001B[1;32m    691\u001B[0m         \u001B[38;5;28;01mreturn\u001B[39;00m t\n\u001B[1;32m    692\u001B[0m     \u001B[38;5;28;01mreturn\u001B[39;00m t\u001B[38;5;241m.\u001B[39mitem() \u001B[38;5;28;01mif\u001B[39;00m np\u001B[38;5;241m.\u001B[39mndim(t) \u001B[38;5;241m==\u001B[39m \u001B[38;5;241m0\u001B[39m \u001B[38;5;28;01melse\u001B[39;00m t\n\u001B[0;32m--> 694\u001B[0m \u001B[38;5;28;01mreturn\u001B[39;00m \u001B[43mtf\u001B[49m\u001B[38;5;241;43m.\u001B[39;49m\u001B[43mnest\u001B[49m\u001B[38;5;241;43m.\u001B[39;49m\u001B[43mmap_structure\u001B[49m\u001B[43m(\u001B[49m\u001B[43m_to_single_numpy_or_python_type\u001B[49m\u001B[43m,\u001B[49m\u001B[43m \u001B[49m\u001B[43mtensors\u001B[49m\u001B[43m)\u001B[49m\n",
      "File \u001B[0;32m~/Envs/food_env/lib/python3.10/site-packages/tensorflow/python/util/nest.py:624\u001B[0m, in \u001B[0;36mmap_structure\u001B[0;34m(func, *structure, **kwargs)\u001B[0m\n\u001B[1;32m    538\u001B[0m \u001B[38;5;129m@tf_export\u001B[39m(\u001B[38;5;124m\"\u001B[39m\u001B[38;5;124mnest.map_structure\u001B[39m\u001B[38;5;124m\"\u001B[39m)\n\u001B[1;32m    539\u001B[0m \u001B[38;5;28;01mdef\u001B[39;00m \u001B[38;5;21mmap_structure\u001B[39m(func, \u001B[38;5;241m*\u001B[39mstructure, \u001B[38;5;241m*\u001B[39m\u001B[38;5;241m*\u001B[39mkwargs):\n\u001B[1;32m    540\u001B[0m \u001B[38;5;250m  \u001B[39m\u001B[38;5;124;03m\"\"\"Creates a new structure by applying `func` to each atom in `structure`.\u001B[39;00m\n\u001B[1;32m    541\u001B[0m \n\u001B[1;32m    542\u001B[0m \u001B[38;5;124;03m  Refer to [tf.nest](https://www.tensorflow.org/api_docs/python/tf/nest)\u001B[39;00m\n\u001B[0;32m   (...)\u001B[0m\n\u001B[1;32m    622\u001B[0m \u001B[38;5;124;03m    ValueError: If wrong keyword arguments are provided.\u001B[39;00m\n\u001B[1;32m    623\u001B[0m \u001B[38;5;124;03m  \"\"\"\u001B[39;00m\n\u001B[0;32m--> 624\u001B[0m   \u001B[38;5;28;01mreturn\u001B[39;00m \u001B[43mnest_util\u001B[49m\u001B[38;5;241;43m.\u001B[39;49m\u001B[43mmap_structure\u001B[49m\u001B[43m(\u001B[49m\n\u001B[1;32m    625\u001B[0m \u001B[43m      \u001B[49m\u001B[43mnest_util\u001B[49m\u001B[38;5;241;43m.\u001B[39;49m\u001B[43mModality\u001B[49m\u001B[38;5;241;43m.\u001B[39;49m\u001B[43mCORE\u001B[49m\u001B[43m,\u001B[49m\u001B[43m \u001B[49m\u001B[43mfunc\u001B[49m\u001B[43m,\u001B[49m\u001B[43m \u001B[49m\u001B[38;5;241;43m*\u001B[39;49m\u001B[43mstructure\u001B[49m\u001B[43m,\u001B[49m\u001B[43m \u001B[49m\u001B[38;5;241;43m*\u001B[39;49m\u001B[38;5;241;43m*\u001B[39;49m\u001B[43mkwargs\u001B[49m\n\u001B[1;32m    626\u001B[0m \u001B[43m  \u001B[49m\u001B[43m)\u001B[49m\n",
      "File \u001B[0;32m~/Envs/food_env/lib/python3.10/site-packages/tensorflow/python/util/nest_util.py:1054\u001B[0m, in \u001B[0;36mmap_structure\u001B[0;34m(modality, func, *structure, **kwargs)\u001B[0m\n\u001B[1;32m    957\u001B[0m \u001B[38;5;250m\u001B[39m\u001B[38;5;124;03m\"\"\"Creates a new structure by applying `func` to each atom in `structure`.\u001B[39;00m\n\u001B[1;32m    958\u001B[0m \n\u001B[1;32m    959\u001B[0m \u001B[38;5;124;03m- For Modality.CORE: Refer to\u001B[39;00m\n\u001B[0;32m   (...)\u001B[0m\n\u001B[1;32m   1051\u001B[0m \u001B[38;5;124;03m  ValueError: If wrong keyword arguments are provided.\u001B[39;00m\n\u001B[1;32m   1052\u001B[0m \u001B[38;5;124;03m\"\"\"\u001B[39;00m\n\u001B[1;32m   1053\u001B[0m \u001B[38;5;28;01mif\u001B[39;00m modality \u001B[38;5;241m==\u001B[39m Modality\u001B[38;5;241m.\u001B[39mCORE:\n\u001B[0;32m-> 1054\u001B[0m   \u001B[38;5;28;01mreturn\u001B[39;00m \u001B[43m_tf_core_map_structure\u001B[49m\u001B[43m(\u001B[49m\u001B[43mfunc\u001B[49m\u001B[43m,\u001B[49m\u001B[43m \u001B[49m\u001B[38;5;241;43m*\u001B[39;49m\u001B[43mstructure\u001B[49m\u001B[43m,\u001B[49m\u001B[43m \u001B[49m\u001B[38;5;241;43m*\u001B[39;49m\u001B[38;5;241;43m*\u001B[39;49m\u001B[43mkwargs\u001B[49m\u001B[43m)\u001B[49m\n\u001B[1;32m   1055\u001B[0m \u001B[38;5;28;01melif\u001B[39;00m modality \u001B[38;5;241m==\u001B[39m Modality\u001B[38;5;241m.\u001B[39mDATA:\n\u001B[1;32m   1056\u001B[0m   \u001B[38;5;28;01mreturn\u001B[39;00m _tf_data_map_structure(func, \u001B[38;5;241m*\u001B[39mstructure, \u001B[38;5;241m*\u001B[39m\u001B[38;5;241m*\u001B[39mkwargs)\n",
      "File \u001B[0;32m~/Envs/food_env/lib/python3.10/site-packages/tensorflow/python/util/nest_util.py:1094\u001B[0m, in \u001B[0;36m_tf_core_map_structure\u001B[0;34m(func, *structure, **kwargs)\u001B[0m\n\u001B[1;32m   1089\u001B[0m flat_structure \u001B[38;5;241m=\u001B[39m (_tf_core_flatten(s, expand_composites) \u001B[38;5;28;01mfor\u001B[39;00m s \u001B[38;5;129;01min\u001B[39;00m structure)\n\u001B[1;32m   1090\u001B[0m entries \u001B[38;5;241m=\u001B[39m \u001B[38;5;28mzip\u001B[39m(\u001B[38;5;241m*\u001B[39mflat_structure)\n\u001B[1;32m   1092\u001B[0m \u001B[38;5;28;01mreturn\u001B[39;00m _tf_core_pack_sequence_as(\n\u001B[1;32m   1093\u001B[0m     structure[\u001B[38;5;241m0\u001B[39m],\n\u001B[0;32m-> 1094\u001B[0m     [func(\u001B[38;5;241m*\u001B[39mx) \u001B[38;5;28;01mfor\u001B[39;00m x \u001B[38;5;129;01min\u001B[39;00m entries],\n\u001B[1;32m   1095\u001B[0m     expand_composites\u001B[38;5;241m=\u001B[39mexpand_composites,\n\u001B[1;32m   1096\u001B[0m )\n",
      "File \u001B[0;32m~/Envs/food_env/lib/python3.10/site-packages/tensorflow/python/util/nest_util.py:1094\u001B[0m, in \u001B[0;36m<listcomp>\u001B[0;34m(.0)\u001B[0m\n\u001B[1;32m   1089\u001B[0m flat_structure \u001B[38;5;241m=\u001B[39m (_tf_core_flatten(s, expand_composites) \u001B[38;5;28;01mfor\u001B[39;00m s \u001B[38;5;129;01min\u001B[39;00m structure)\n\u001B[1;32m   1090\u001B[0m entries \u001B[38;5;241m=\u001B[39m \u001B[38;5;28mzip\u001B[39m(\u001B[38;5;241m*\u001B[39mflat_structure)\n\u001B[1;32m   1092\u001B[0m \u001B[38;5;28;01mreturn\u001B[39;00m _tf_core_pack_sequence_as(\n\u001B[1;32m   1093\u001B[0m     structure[\u001B[38;5;241m0\u001B[39m],\n\u001B[0;32m-> 1094\u001B[0m     [\u001B[43mfunc\u001B[49m\u001B[43m(\u001B[49m\u001B[38;5;241;43m*\u001B[39;49m\u001B[43mx\u001B[49m\u001B[43m)\u001B[49m \u001B[38;5;28;01mfor\u001B[39;00m x \u001B[38;5;129;01min\u001B[39;00m entries],\n\u001B[1;32m   1095\u001B[0m     expand_composites\u001B[38;5;241m=\u001B[39mexpand_composites,\n\u001B[1;32m   1096\u001B[0m )\n",
      "File \u001B[0;32m~/Envs/food_env/lib/python3.10/site-packages/keras/src/utils/tf_utils.py:687\u001B[0m, in \u001B[0;36msync_to_numpy_or_python_type.<locals>._to_single_numpy_or_python_type\u001B[0;34m(t)\u001B[0m\n\u001B[1;32m    684\u001B[0m \u001B[38;5;28;01mdef\u001B[39;00m \u001B[38;5;21m_to_single_numpy_or_python_type\u001B[39m(t):\n\u001B[1;32m    685\u001B[0m     \u001B[38;5;66;03m# Don't turn ragged or sparse tensors to NumPy.\u001B[39;00m\n\u001B[1;32m    686\u001B[0m     \u001B[38;5;28;01mif\u001B[39;00m \u001B[38;5;28misinstance\u001B[39m(t, tf\u001B[38;5;241m.\u001B[39mTensor):\n\u001B[0;32m--> 687\u001B[0m         t \u001B[38;5;241m=\u001B[39m \u001B[43mt\u001B[49m\u001B[38;5;241;43m.\u001B[39;49m\u001B[43mnumpy\u001B[49m\u001B[43m(\u001B[49m\u001B[43m)\u001B[49m\n\u001B[1;32m    688\u001B[0m     \u001B[38;5;66;03m# Strings, ragged and sparse tensors don't have .item(). Return them\u001B[39;00m\n\u001B[1;32m    689\u001B[0m     \u001B[38;5;66;03m# as-is.\u001B[39;00m\n\u001B[1;32m    690\u001B[0m     \u001B[38;5;28;01mif\u001B[39;00m \u001B[38;5;129;01mnot\u001B[39;00m \u001B[38;5;28misinstance\u001B[39m(t, (np\u001B[38;5;241m.\u001B[39mndarray, np\u001B[38;5;241m.\u001B[39mgeneric)):\n",
      "File \u001B[0;32m~/Envs/food_env/lib/python3.10/site-packages/tensorflow/python/framework/ops.py:1141\u001B[0m, in \u001B[0;36m_EagerTensorBase.numpy\u001B[0;34m(self)\u001B[0m\n\u001B[1;32m   1118\u001B[0m \u001B[38;5;250m\u001B[39m\u001B[38;5;124;03m\"\"\"Copy of the contents of this Tensor into a NumPy array or scalar.\u001B[39;00m\n\u001B[1;32m   1119\u001B[0m \n\u001B[1;32m   1120\u001B[0m \u001B[38;5;124;03mUnlike NumPy arrays, Tensors are immutable, so this method has to copy\u001B[39;00m\n\u001B[0;32m   (...)\u001B[0m\n\u001B[1;32m   1138\u001B[0m \u001B[38;5;124;03m    NumPy dtype.\u001B[39;00m\n\u001B[1;32m   1139\u001B[0m \u001B[38;5;124;03m\"\"\"\u001B[39;00m\n\u001B[1;32m   1140\u001B[0m \u001B[38;5;66;03m# TODO(slebedev): Consider avoiding a copy for non-CPU or remote tensors.\u001B[39;00m\n\u001B[0;32m-> 1141\u001B[0m maybe_arr \u001B[38;5;241m=\u001B[39m \u001B[38;5;28;43mself\u001B[39;49m\u001B[38;5;241;43m.\u001B[39;49m\u001B[43m_numpy\u001B[49m\u001B[43m(\u001B[49m\u001B[43m)\u001B[49m  \u001B[38;5;66;03m# pylint: disable=protected-access\u001B[39;00m\n\u001B[1;32m   1142\u001B[0m \u001B[38;5;28;01mreturn\u001B[39;00m maybe_arr\u001B[38;5;241m.\u001B[39mcopy() \u001B[38;5;28;01mif\u001B[39;00m \u001B[38;5;28misinstance\u001B[39m(maybe_arr, np\u001B[38;5;241m.\u001B[39mndarray) \u001B[38;5;28;01melse\u001B[39;00m maybe_arr\n",
      "File \u001B[0;32m~/Envs/food_env/lib/python3.10/site-packages/tensorflow/python/framework/ops.py:1107\u001B[0m, in \u001B[0;36m_EagerTensorBase._numpy\u001B[0;34m(self)\u001B[0m\n\u001B[1;32m   1105\u001B[0m \u001B[38;5;28;01mdef\u001B[39;00m \u001B[38;5;21m_numpy\u001B[39m(\u001B[38;5;28mself\u001B[39m):\n\u001B[1;32m   1106\u001B[0m   \u001B[38;5;28;01mtry\u001B[39;00m:\n\u001B[0;32m-> 1107\u001B[0m     \u001B[38;5;28;01mreturn\u001B[39;00m \u001B[38;5;28;43mself\u001B[39;49m\u001B[38;5;241;43m.\u001B[39;49m\u001B[43m_numpy_internal\u001B[49m\u001B[43m(\u001B[49m\u001B[43m)\u001B[49m\n\u001B[1;32m   1108\u001B[0m   \u001B[38;5;28;01mexcept\u001B[39;00m core\u001B[38;5;241m.\u001B[39m_NotOkStatusException \u001B[38;5;28;01mas\u001B[39;00m e:  \u001B[38;5;66;03m# pylint: disable=protected-access\u001B[39;00m\n\u001B[1;32m   1109\u001B[0m     \u001B[38;5;28;01mraise\u001B[39;00m core\u001B[38;5;241m.\u001B[39m_status_to_exception(e) \u001B[38;5;28;01mfrom\u001B[39;00m \u001B[38;5;28;01mNone\u001B[39;00m\n",
      "\u001B[0;31mKeyboardInterrupt\u001B[0m: "
     ]
    }
   ],
   "source": [
    "with tf.device('/gpu:0'):\n",
    "    model = create_model(lr=0.0001,transfer=True)\n",
    "    model.load_weights(checkpoint_filepath)\n",
    "    history = model.fit(predictors, label, epochs=50, callbacks)"
   ],
   "metadata": {
    "collapsed": false,
    "ExecuteTime": {
     "end_time": "2023-08-21T03:59:47.127816554Z",
     "start_time": "2023-08-21T03:59:41.495413024Z"
    }
   }
  },
  {
   "cell_type": "markdown",
   "metadata": {},
   "source": [
    "<h2><br></h2>\n",
    "<h2>Predicting what's for dinner</h2>"
   ]
  },
  {
   "cell_type": "code",
   "execution_count": 70,
   "metadata": {
    "ExecuteTime": {
     "end_time": "2023-08-21T04:00:36.428454062Z",
     "start_time": "2023-08-21T04:00:36.368877849Z"
    }
   },
   "outputs": [],
   "source": [
    "def pad_sequences(token_list, max_length=max_length):\n",
    "    '''pad sequences (built in function returns a recursion error)'''\n",
    "    padded_sequence = []\n",
    "    zeros = (max_length-len(token_list))-1\n",
    "    padded = [int(0) for zero in range(zeros)]\n",
    "    padded.extend(token_list)\n",
    "    return padded"
   ]
  },
  {
   "cell_type": "code",
   "execution_count": 71,
   "metadata": {
    "ExecuteTime": {
     "end_time": "2023-08-21T04:00:36.428587587Z",
     "start_time": "2023-08-21T04:00:36.414051080Z"
    }
   },
   "outputs": [],
   "source": [
    "def cook_for_me(seed_text, model):\n",
    "    next_words = 5\n",
    "    words_out = []\n",
    "    token_list = []\n",
    "\n",
    "    seed_text = seed_text.split(' ')\n",
    "    for word in seed_text:\n",
    "        token_ = tokenizer.texts_to_sequences([word])[0]\n",
    "        token_list.extend(token_)\n",
    "    token_list = pad_sequences(token_list)\n",
    "        \n",
    "    while next_words > 0:\n",
    "        proba = model.predict(np.array(token_list).reshape(-1,43), verbose=0)\n",
    "        predicted = np.argmax(proba, axis=1)\n",
    "        new_token = int(predicted[0])\n",
    "        word = list(tokenizer.word_index.keys())[int(predicted[0]-1)]\n",
    "        words_out.append(word)\n",
    "        token_list.append(new_token)\n",
    "        token_list.pop(0)\n",
    "        next_words -= 1\n",
    "    words_out = list(set(words_out))\n",
    "    string_out = 'Why not try adding some '+', '.join(words_out[:-1])+' and '+words_out[-1]+'?'\n",
    "    return string_out"
   ]
  },
  {
   "cell_type": "code",
   "execution_count": 72,
   "metadata": {
    "ExecuteTime": {
     "end_time": "2023-08-21T04:00:36.428630346Z",
     "start_time": "2023-08-21T04:00:36.414154505Z"
    }
   },
   "outputs": [],
   "source": [
    "def make_suggestions(ingredients_in_stock):\n",
    "    for ingredient in ingredients_in_stock:\n",
    "        split_ingredients = ' and '.join(ingredient.split(' '))\n",
    "        greeting = 'For '+split_ingredients.upper() +' let me see... '\n",
    "        print(greeting)\n",
    "        print(cook_for_me(ingredient,model))\n",
    "        print('')"
   ]
  },
  {
   "cell_type": "code",
   "execution_count": 73,
   "metadata": {
    "ExecuteTime": {
     "end_time": "2023-08-21T04:00:36.969029243Z",
     "start_time": "2023-08-21T04:00:36.414182926Z"
    }
   },
   "outputs": [
    {
     "name": "stdout",
     "output_type": "stream",
     "text": [
      "For CHICKEN let me see... \n",
      "Why not try adding some carrot, celery, onion and garlic clove?\n",
      "\n",
      "For CHICKEN AND RICE let me see... \n",
      "Why not try adding some carrot, celery, onion and garlic clove?\n",
      "\n",
      "For TUNA AND MAYONNAISE let me see... \n",
      "Why not try adding some flmy, sour cream, pepper, onion and salt?\n",
      "\n",
      "For PINEAPPLE let me see... \n",
      "Why not try adding some sugar, flmy, butter, vanilla and egg?\n"
     ]
    }
   ],
   "source": [
    "ingredients_in_stock = ['chicken','chicken rice','tuna mayonnaise','pineapple']\n",
    "make_suggestions(ingredients_in_stock)"
   ]
  },
  {
   "cell_type": "markdown",
   "metadata": {},
   "source": []
  }
 ],
 "metadata": {
  "kernelspec": {
   "name": "food_env",
   "language": "python",
   "display_name": "food_env"
  },
  "language_info": {
   "codemirror_mode": {
    "name": "ipython",
    "version": 3
   },
   "file_extension": ".py",
   "mimetype": "text/x-python",
   "name": "python",
   "nbconvert_exporter": "python",
   "pygments_lexer": "ipython3",
   "version": "3.9.17"
  }
 },
 "nbformat": 4,
 "nbformat_minor": 4
}
